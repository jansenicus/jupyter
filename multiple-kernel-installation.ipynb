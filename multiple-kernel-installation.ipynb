{
 "cells": [
  {
   "cell_type": "markdown",
   "metadata": {},
   "source": [
    "# Jupyter Kernels Installation with Conda"
   ]
  },
  {
   "cell_type": "markdown",
   "metadata": {},
   "source": [
    "## R Kernel Installation\n",
    "<img src=\"data:image/jpeg;base64,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\" height=\"100\" width=\"100\">\n"
   ]
  },
  {
   "cell_type": "code",
   "execution_count": null,
   "metadata": {},
   "outputs": [],
   "source": [
    "!conda install -c r r-irkernel "
   ]
  },
  {
   "cell_type": "code",
   "execution_count": 2,
   "metadata": {},
   "outputs": [
    {
     "name": "stdout",
     "output_type": "stream",
     "text": [
      "[1] 42\n",
      "84 \n",
      "84 > 42 \n"
     ]
    }
   ],
   "source": [
    "# R Sample Code\n",
    "a <- 42\n",
    "A <- a * 2  # R is case sensitive\n",
    "print(a)\n",
    "cat(A, \"\\n\") # \"84\" is concatenated with \"\\n\"\n",
    "if(A>a) # true, 84 > 42\n",
    "{\n",
    "  cat(A, \">\", a, \"\\n\")\n",
    "} "
   ]
  },
  {
   "cell_type": "markdown",
   "metadata": {},
   "source": [
    "## Javascript (node.js) Kernel Installation\n",
    "\n",
    "<img src=\"data:image/png;base64,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\" height=\"200\" width=\"200\">"
   ]
  },
  {
   "cell_type": "code",
   "execution_count": null,
   "metadata": {},
   "outputs": [],
   "source": [
    "!conda install nodejs\n",
    "!npm install -g ijavascript\n",
    "!ijsinstall"
   ]
  },
  {
   "cell_type": "code",
   "execution_count": 5,
   "metadata": {},
   "outputs": [
    {
     "data": {
      "text/plain": [
       "'Hello, World'"
      ]
     },
     "execution_count": 5,
     "metadata": {},
     "output_type": "execute_result"
    }
   ],
   "source": [
    "var msg = [\"Hello\", \"World\"].join(\", \")\n",
    "msg"
   ]
  },
  {
   "cell_type": "code",
   "execution_count": 3,
   "metadata": {},
   "outputs": [
    {
     "name": "stdout",
     "output_type": "stream",
     "text": [
      "Hello, World\n"
     ]
    }
   ],
   "source": [
    "console.log(msg)"
   ]
  },
  {
   "cell_type": "code",
   "execution_count": 4,
   "metadata": {
    "scrolled": true
   },
   "outputs": [
    {
     "ename": "Error",
     "evalue": "Oh, noes!",
     "output_type": "error",
     "traceback": [
      "evalmachine.<anonymous>:1",
      "throw new Error (\"Oh, noes!\")",
      "^",
      "",
      "Error: Oh, noes!",
      "    at evalmachine.<anonymous>:1:7",
      "    at ContextifyScript.Script.runInThisContext (vm.js:50:33)",
      "    at Object.runInThisContext (vm.js:139:38)",
      "    at run ([eval]:1002:15)",
      "    at onRunRequest ([eval]:829:18)",
      "    at onMessage ([eval]:789:13)",
      "    at emitTwo (events.js:126:13)",
      "    at process.emit (events.js:214:7)",
      "    at emit (internal/child_process.js:772:12)",
      "    at _combinedTickCallback (internal/process/next_tick.js:141:11)"
     ]
    }
   ],
   "source": [
    "throw new Error (\"Oh, noes!\")"
   ]
  },
  {
   "cell_type": "markdown",
   "metadata": {},
   "source": [
    "## Octave Kernel Installation\n",
    "<img src =\"data:image/jpeg;base64,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\" height = \"200\" width = \"200\">"
   ]
  },
  {
   "cell_type": "code",
   "execution_count": null,
   "metadata": {},
   "outputs": [],
   "source": [
    "#!pip install --user octave_kernel"
   ]
  },
  {
   "cell_type": "code",
   "execution_count": null,
   "metadata": {},
   "outputs": [],
   "source": [
    "!conda install -c conda-forge octave_kernel"
   ]
  },
  {
   "cell_type": "markdown",
   "metadata": {},
   "source": [
    "## Julia Kernel Installation\n",
    "<img src=\"data:image/png;base64,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\" height=\"200\" width=\"200\">"
   ]
  },
  {
   "cell_type": "code",
   "execution_count": null,
   "metadata": {},
   "outputs": [],
   "source": [
    "!conda install -c conda-forge julia"
   ]
  },
  {
   "cell_type": "markdown",
   "metadata": {},
   "source": [
    "## List Jupyter Kernels Installed"
   ]
  },
  {
   "cell_type": "code",
   "execution_count": 1,
   "metadata": {},
   "outputs": [
    {
     "name": "stdout",
     "output_type": "stream",
     "text": [
      "Available kernels:\r\n",
      "  javascript    /home/bri/.local/share/jupyter/kernels/javascript\r\n",
      "  sos           /home/bri/.local/share/jupyter/kernels/sos\r\n",
      "  ir            /home/bri/anaconda3/share/jupyter/kernels/ir\r\n",
      "  octave        /home/bri/anaconda3/share/jupyter/kernels/octave\r\n",
      "  python3       /home/bri/anaconda3/share/jupyter/kernels/python3\r\n"
     ]
    }
   ],
   "source": [
    "!jupyter kernelspec list"
   ]
  },
  {
   "cell_type": "markdown",
   "metadata": {},
   "source": [
    "## C++ Kernel Installation\n",
    "\n",
    "<img src=\"data:image/png;base64,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\" height=\"100\" width=\"100\">\n",
    "\n",
    "C++ Kernel must be installed with a clean installation of `conda` to avoid conflict with existing packages. Thus we create a separate environment named `cling`."
   ]
  },
  {
   "cell_type": "code",
   "execution_count": 1,
   "metadata": {},
   "outputs": [
    {
     "name": "stdout",
     "output_type": "stream",
     "text": [
      "Hello, world\n"
     ]
    }
   ],
   "source": [
    "#include <iostream>\n",
    "std::cout << \"Hello, world\" << std::endl;"
   ]
  },
  {
   "cell_type": "code",
   "execution_count": null,
   "metadata": {},
   "outputs": [],
   "source": [
    "!conda create -n cling\n",
    "!source activate cling\n",
    "!conda install -y xeus-cling notebook xwidgets -c QuantStack -c conda-forge\n",
    "!source deactivate cling"
   ]
  },
  {
   "cell_type": "code",
   "execution_count": null,
   "metadata": {},
   "outputs": [],
   "source": []
  }
 ],
 "metadata": {
  "kernelspec": {
   "display_name": "Python 3",
   "language": "python",
   "name": "python3"
  },
  "language_info": {
   "codemirror_mode": {
    "name": "ipython",
    "version": 3
   },
   "file_extension": ".py",
   "mimetype": "text/x-python",
   "name": "python",
   "nbconvert_exporter": "python",
   "pygments_lexer": "ipython3",
   "version": "3.6.5"
  }
 },
 "nbformat": 4,
 "nbformat_minor": 2
}
