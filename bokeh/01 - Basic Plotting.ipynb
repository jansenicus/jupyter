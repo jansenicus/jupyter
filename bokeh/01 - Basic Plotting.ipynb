{
 "cells": [
  {
   "cell_type": "markdown",
   "metadata": {
    "collapsed": true
   },
   "source": [
    "<table style=\"float:left; border:none\">\n",
    "   <tr style=\"border:none; background-color: #ffffff\">\n",
    "       <td style=\"border:none\">\n",
    "           <a href=\"http://bokeh.pydata.org/\">     \n",
    "           <img \n",
    "               src=\"assets/bokeh-transparent.png\" \n",
    "               style=\"width:50px\"\n",
    "           >\n",
    "           </a>    \n",
    "       </td>\n",
    "       <td style=\"border:none\">\n",
    "           <h1>Bokeh Tutorial</h1>\n",
    "       </td>\n",
    "   </tr>\n",
    "</table>\n",
    "\n",
    "<div style=\"float:right;\"><h2>01. Basic Plotting</h2></div>"
   ]
  },
  {
   "cell_type": "markdown",
   "metadata": {},
   "source": [
    "This section of the tutorial covers the [`bokeh.plotting`](http://bokeh.pydata.org/en/latest/docs/user_guide/plotting.html) \n",
    "interface. This interface is a \"mid-level\" interface, and the main idea can be described by the statement:\n",
    "\n",
    "**Starting from simple default figures (with sensible default tools, grids and axes), add markers and other shapes whose visual attributes are tied to directly data.**\n",
    "\n",
    "We will see that it is possible to customize and change all of the defaults, but having them means that it is possible to get up and running very quickly. "
   ]
  },
  {
   "cell_type": "markdown",
   "metadata": {},
   "source": [
    "# Imports and Setup\n",
    "\n",
    "When using the [`bokeh.plotting`](http://bokeh.pydata.org/en/latest/docs/user_guide/plotting.html) interface, there are a few common imports:\n",
    "* Use the [`figure`](http://bokeh.pydata.org/en/latest/docs/reference/plotting.html#bokeh.plotting.figure) function to  create new plot objects to work with. \n",
    "* Call the functions [`output_file`](http://bokeh.pydata.org/en/latest/docs/reference/resources_embedding.html#bokeh.io.output_file), [`output_notebook`](http://bokeh.pydata.org/en/latest/docs/reference/resources_embedding.html#bokeh.io.output_notebook), and [`output_server`](http://bokeh.pydata.org/en/latest/docs/reference/resources_embedding.html#bokeh.io.output_server) (possibly in combination) to tell Bokeh how to display or save output. \n",
    "* Execute [`show`](http://bokeh.pydata.org/en/latest/docs/reference/resources_embedding.html#bokeh.io.show) and  [`save`](http://bokeh.pydata.org/en/latest/docs/reference/resources_embedding.html#bokeh.io.save) to display or save plots and layouts."
   ]
  },
  {
   "cell_type": "code",
   "execution_count": 1,
   "metadata": {},
   "outputs": [],
   "source": [
    "from bokeh.io import output_notebook, show\n",
    "from bokeh.plotting import figure"
   ]
  },
  {
   "cell_type": "markdown",
   "metadata": {},
   "source": [
    "In this case, we are in the Jupyter notebook, so call `output_notebook()`. We only need to call this once, and all subsequent calls to `show()` will display inline in the notebook."
   ]
  },
  {
   "cell_type": "code",
   "execution_count": 2,
   "metadata": {},
   "outputs": [
    {
     "data": {
      "text/html": [
       "\n",
       "    <div class=\"bk-root\">\n",
       "        <a href=\"https://bokeh.pydata.org\" target=\"_blank\" class=\"bk-logo bk-logo-small bk-logo-notebook\"></a>\n",
       "        <span id=\"74a952c2-bdd6-4b3a-a944-36c61dc514f4\">Loading BokehJS ...</span>\n",
       "    </div>"
      ]
     },
     "metadata": {},
     "output_type": "display_data"
    },
    {
     "data": {
      "application/javascript": [
       "\n",
       "(function(root) {\n",
       "  function now() {\n",
       "    return new Date();\n",
       "  }\n",
       "\n",
       "  var force = true;\n",
       "\n",
       "  if (typeof (root._bokeh_onload_callbacks) === \"undefined\" || force === true) {\n",
       "    root._bokeh_onload_callbacks = [];\n",
       "    root._bokeh_is_loading = undefined;\n",
       "  }\n",
       "\n",
       "  var JS_MIME_TYPE = 'application/javascript';\n",
       "  var HTML_MIME_TYPE = 'text/html';\n",
       "  var EXEC_MIME_TYPE = 'application/vnd.bokehjs_exec.v0+json';\n",
       "  var CLASS_NAME = 'output_bokeh rendered_html';\n",
       "\n",
       "  /**\n",
       "   * Render data to the DOM node\n",
       "   */\n",
       "  function render(props, node) {\n",
       "    var script = document.createElement(\"script\");\n",
       "    node.appendChild(script);\n",
       "  }\n",
       "\n",
       "  /**\n",
       "   * Handle when an output is cleared or removed\n",
       "   */\n",
       "  function handleClearOutput(event, handle) {\n",
       "    var cell = handle.cell;\n",
       "\n",
       "    var id = cell.output_area._bokeh_element_id;\n",
       "    var server_id = cell.output_area._bokeh_server_id;\n",
       "    // Clean up Bokeh references\n",
       "    if (id !== undefined) {\n",
       "      Bokeh.index[id].model.document.clear();\n",
       "      delete Bokeh.index[id];\n",
       "    }\n",
       "\n",
       "    if (server_id !== undefined) {\n",
       "      // Clean up Bokeh references\n",
       "      var cmd = \"from bokeh.io.state import curstate; print(curstate().uuid_to_server['\" + server_id + \"'].get_sessions()[0].document.roots[0]._id)\";\n",
       "      cell.notebook.kernel.execute(cmd, {\n",
       "        iopub: {\n",
       "          output: function(msg) {\n",
       "            var element_id = msg.content.text.trim();\n",
       "            Bokeh.index[element_id].model.document.clear();\n",
       "            delete Bokeh.index[element_id];\n",
       "          }\n",
       "        }\n",
       "      });\n",
       "      // Destroy server and session\n",
       "      var cmd = \"import bokeh.io.notebook as ion; ion.destroy_server('\" + server_id + \"')\";\n",
       "      cell.notebook.kernel.execute(cmd);\n",
       "    }\n",
       "  }\n",
       "\n",
       "  /**\n",
       "   * Handle when a new output is added\n",
       "   */\n",
       "  function handleAddOutput(event, handle) {\n",
       "    var output_area = handle.output_area;\n",
       "    var output = handle.output;\n",
       "\n",
       "    // limit handleAddOutput to display_data with EXEC_MIME_TYPE content only\n",
       "    if ((output.output_type != \"display_data\") || (!output.data.hasOwnProperty(EXEC_MIME_TYPE))) {\n",
       "      return\n",
       "    }\n",
       "\n",
       "    var toinsert = output_area.element.find(\".\" + CLASS_NAME.split(' ')[0]);\n",
       "\n",
       "    if (output.metadata[EXEC_MIME_TYPE][\"id\"] !== undefined) {\n",
       "      toinsert[0].firstChild.textContent = output.data[JS_MIME_TYPE];\n",
       "      // store reference to embed id on output_area\n",
       "      output_area._bokeh_element_id = output.metadata[EXEC_MIME_TYPE][\"id\"];\n",
       "    }\n",
       "    if (output.metadata[EXEC_MIME_TYPE][\"server_id\"] !== undefined) {\n",
       "      var bk_div = document.createElement(\"div\");\n",
       "      bk_div.innerHTML = output.data[HTML_MIME_TYPE];\n",
       "      var script_attrs = bk_div.children[0].attributes;\n",
       "      for (var i = 0; i < script_attrs.length; i++) {\n",
       "        toinsert[0].firstChild.setAttribute(script_attrs[i].name, script_attrs[i].value);\n",
       "      }\n",
       "      // store reference to server id on output_area\n",
       "      output_area._bokeh_server_id = output.metadata[EXEC_MIME_TYPE][\"server_id\"];\n",
       "    }\n",
       "  }\n",
       "\n",
       "  function register_renderer(events, OutputArea) {\n",
       "\n",
       "    function append_mime(data, metadata, element) {\n",
       "      // create a DOM node to render to\n",
       "      var toinsert = this.create_output_subarea(\n",
       "        metadata,\n",
       "        CLASS_NAME,\n",
       "        EXEC_MIME_TYPE\n",
       "      );\n",
       "      this.keyboard_manager.register_events(toinsert);\n",
       "      // Render to node\n",
       "      var props = {data: data, metadata: metadata[EXEC_MIME_TYPE]};\n",
       "      render(props, toinsert[0]);\n",
       "      element.append(toinsert);\n",
       "      return toinsert\n",
       "    }\n",
       "\n",
       "    /* Handle when an output is cleared or removed */\n",
       "    events.on('clear_output.CodeCell', handleClearOutput);\n",
       "    events.on('delete.Cell', handleClearOutput);\n",
       "\n",
       "    /* Handle when a new output is added */\n",
       "    events.on('output_added.OutputArea', handleAddOutput);\n",
       "\n",
       "    /**\n",
       "     * Register the mime type and append_mime function with output_area\n",
       "     */\n",
       "    OutputArea.prototype.register_mime_type(EXEC_MIME_TYPE, append_mime, {\n",
       "      /* Is output safe? */\n",
       "      safe: true,\n",
       "      /* Index of renderer in `output_area.display_order` */\n",
       "      index: 0\n",
       "    });\n",
       "  }\n",
       "\n",
       "  // register the mime type if in Jupyter Notebook environment and previously unregistered\n",
       "  if (root.Jupyter !== undefined) {\n",
       "    var events = require('base/js/events');\n",
       "    var OutputArea = require('notebook/js/outputarea').OutputArea;\n",
       "\n",
       "    if (OutputArea.prototype.mime_types().indexOf(EXEC_MIME_TYPE) == -1) {\n",
       "      register_renderer(events, OutputArea);\n",
       "    }\n",
       "  }\n",
       "\n",
       "  \n",
       "  if (typeof (root._bokeh_timeout) === \"undefined\" || force === true) {\n",
       "    root._bokeh_timeout = Date.now() + 5000;\n",
       "    root._bokeh_failed_load = false;\n",
       "  }\n",
       "\n",
       "  var NB_LOAD_WARNING = {'data': {'text/html':\n",
       "     \"<div style='background-color: #fdd'>\\n\"+\n",
       "     \"<p>\\n\"+\n",
       "     \"BokehJS does not appear to have successfully loaded. If loading BokehJS from CDN, this \\n\"+\n",
       "     \"may be due to a slow or bad network connection. Possible fixes:\\n\"+\n",
       "     \"</p>\\n\"+\n",
       "     \"<ul>\\n\"+\n",
       "     \"<li>re-rerun `output_notebook()` to attempt to load from CDN again, or</li>\\n\"+\n",
       "     \"<li>use INLINE resources instead, as so:</li>\\n\"+\n",
       "     \"</ul>\\n\"+\n",
       "     \"<code>\\n\"+\n",
       "     \"from bokeh.resources import INLINE\\n\"+\n",
       "     \"output_notebook(resources=INLINE)\\n\"+\n",
       "     \"</code>\\n\"+\n",
       "     \"</div>\"}};\n",
       "\n",
       "  function display_loaded() {\n",
       "    var el = document.getElementById(\"74a952c2-bdd6-4b3a-a944-36c61dc514f4\");\n",
       "    if (el != null) {\n",
       "      el.textContent = \"BokehJS is loading...\";\n",
       "    }\n",
       "    if (root.Bokeh !== undefined) {\n",
       "      if (el != null) {\n",
       "        el.textContent = \"BokehJS \" + root.Bokeh.version + \" successfully loaded.\";\n",
       "      }\n",
       "    } else if (Date.now() < root._bokeh_timeout) {\n",
       "      setTimeout(display_loaded, 100)\n",
       "    }\n",
       "  }\n",
       "\n",
       "\n",
       "  function run_callbacks() {\n",
       "    try {\n",
       "      root._bokeh_onload_callbacks.forEach(function(callback) { callback() });\n",
       "    }\n",
       "    finally {\n",
       "      delete root._bokeh_onload_callbacks\n",
       "    }\n",
       "    console.info(\"Bokeh: all callbacks have finished\");\n",
       "  }\n",
       "\n",
       "  function load_libs(js_urls, callback) {\n",
       "    root._bokeh_onload_callbacks.push(callback);\n",
       "    if (root._bokeh_is_loading > 0) {\n",
       "      console.log(\"Bokeh: BokehJS is being loaded, scheduling callback at\", now());\n",
       "      return null;\n",
       "    }\n",
       "    if (js_urls == null || js_urls.length === 0) {\n",
       "      run_callbacks();\n",
       "      return null;\n",
       "    }\n",
       "    console.log(\"Bokeh: BokehJS not loaded, scheduling load and callback at\", now());\n",
       "    root._bokeh_is_loading = js_urls.length;\n",
       "    for (var i = 0; i < js_urls.length; i++) {\n",
       "      var url = js_urls[i];\n",
       "      var s = document.createElement('script');\n",
       "      s.src = url;\n",
       "      s.async = false;\n",
       "      s.onreadystatechange = s.onload = function() {\n",
       "        root._bokeh_is_loading--;\n",
       "        if (root._bokeh_is_loading === 0) {\n",
       "          console.log(\"Bokeh: all BokehJS libraries loaded\");\n",
       "          run_callbacks()\n",
       "        }\n",
       "      };\n",
       "      s.onerror = function() {\n",
       "        console.warn(\"failed to load library \" + url);\n",
       "      };\n",
       "      console.log(\"Bokeh: injecting script tag for BokehJS library: \", url);\n",
       "      document.getElementsByTagName(\"head\")[0].appendChild(s);\n",
       "    }\n",
       "  };var element = document.getElementById(\"74a952c2-bdd6-4b3a-a944-36c61dc514f4\");\n",
       "  if (element == null) {\n",
       "    console.log(\"Bokeh: ERROR: autoload.js configured with elementid '74a952c2-bdd6-4b3a-a944-36c61dc514f4' but no matching script tag was found. \")\n",
       "    return false;\n",
       "  }\n",
       "\n",
       "  var js_urls = [\"https://cdn.pydata.org/bokeh/release/bokeh-0.12.13.min.js\", \"https://cdn.pydata.org/bokeh/release/bokeh-widgets-0.12.13.min.js\", \"https://cdn.pydata.org/bokeh/release/bokeh-tables-0.12.13.min.js\", \"https://cdn.pydata.org/bokeh/release/bokeh-gl-0.12.13.min.js\"];\n",
       "\n",
       "  var inline_js = [\n",
       "    function(Bokeh) {\n",
       "      Bokeh.set_log_level(\"info\");\n",
       "    },\n",
       "    \n",
       "    function(Bokeh) {\n",
       "      \n",
       "    },\n",
       "    function(Bokeh) {\n",
       "      console.log(\"Bokeh: injecting CSS: https://cdn.pydata.org/bokeh/release/bokeh-0.12.13.min.css\");\n",
       "      Bokeh.embed.inject_css(\"https://cdn.pydata.org/bokeh/release/bokeh-0.12.13.min.css\");\n",
       "      console.log(\"Bokeh: injecting CSS: https://cdn.pydata.org/bokeh/release/bokeh-widgets-0.12.13.min.css\");\n",
       "      Bokeh.embed.inject_css(\"https://cdn.pydata.org/bokeh/release/bokeh-widgets-0.12.13.min.css\");\n",
       "      console.log(\"Bokeh: injecting CSS: https://cdn.pydata.org/bokeh/release/bokeh-tables-0.12.13.min.css\");\n",
       "      Bokeh.embed.inject_css(\"https://cdn.pydata.org/bokeh/release/bokeh-tables-0.12.13.min.css\");\n",
       "    }\n",
       "  ];\n",
       "\n",
       "  function run_inline_js() {\n",
       "    \n",
       "    if ((root.Bokeh !== undefined) || (force === true)) {\n",
       "      for (var i = 0; i < inline_js.length; i++) {\n",
       "        inline_js[i].call(root, root.Bokeh);\n",
       "      }if (force === true) {\n",
       "        display_loaded();\n",
       "      }} else if (Date.now() < root._bokeh_timeout) {\n",
       "      setTimeout(run_inline_js, 100);\n",
       "    } else if (!root._bokeh_failed_load) {\n",
       "      console.log(\"Bokeh: BokehJS failed to load within specified timeout.\");\n",
       "      root._bokeh_failed_load = true;\n",
       "    } else if (force !== true) {\n",
       "      var cell = $(document.getElementById(\"74a952c2-bdd6-4b3a-a944-36c61dc514f4\")).parents('.cell').data().cell;\n",
       "      cell.output_area.append_execute_result(NB_LOAD_WARNING)\n",
       "    }\n",
       "\n",
       "  }\n",
       "\n",
       "  if (root._bokeh_is_loading === 0) {\n",
       "    console.log(\"Bokeh: BokehJS loaded, going straight to plotting\");\n",
       "    run_inline_js();\n",
       "  } else {\n",
       "    load_libs(js_urls, function() {\n",
       "      console.log(\"Bokeh: BokehJS plotting callback run at\", now());\n",
       "      run_inline_js();\n",
       "    });\n",
       "  }\n",
       "}(window));"
      ],
      "application/vnd.bokehjs_load.v0+json": "\n(function(root) {\n  function now() {\n    return new Date();\n  }\n\n  var force = true;\n\n  if (typeof (root._bokeh_onload_callbacks) === \"undefined\" || force === true) {\n    root._bokeh_onload_callbacks = [];\n    root._bokeh_is_loading = undefined;\n  }\n\n  \n\n  \n  if (typeof (root._bokeh_timeout) === \"undefined\" || force === true) {\n    root._bokeh_timeout = Date.now() + 5000;\n    root._bokeh_failed_load = false;\n  }\n\n  var NB_LOAD_WARNING = {'data': {'text/html':\n     \"<div style='background-color: #fdd'>\\n\"+\n     \"<p>\\n\"+\n     \"BokehJS does not appear to have successfully loaded. If loading BokehJS from CDN, this \\n\"+\n     \"may be due to a slow or bad network connection. Possible fixes:\\n\"+\n     \"</p>\\n\"+\n     \"<ul>\\n\"+\n     \"<li>re-rerun `output_notebook()` to attempt to load from CDN again, or</li>\\n\"+\n     \"<li>use INLINE resources instead, as so:</li>\\n\"+\n     \"</ul>\\n\"+\n     \"<code>\\n\"+\n     \"from bokeh.resources import INLINE\\n\"+\n     \"output_notebook(resources=INLINE)\\n\"+\n     \"</code>\\n\"+\n     \"</div>\"}};\n\n  function display_loaded() {\n    var el = document.getElementById(\"74a952c2-bdd6-4b3a-a944-36c61dc514f4\");\n    if (el != null) {\n      el.textContent = \"BokehJS is loading...\";\n    }\n    if (root.Bokeh !== undefined) {\n      if (el != null) {\n        el.textContent = \"BokehJS \" + root.Bokeh.version + \" successfully loaded.\";\n      }\n    } else if (Date.now() < root._bokeh_timeout) {\n      setTimeout(display_loaded, 100)\n    }\n  }\n\n\n  function run_callbacks() {\n    try {\n      root._bokeh_onload_callbacks.forEach(function(callback) { callback() });\n    }\n    finally {\n      delete root._bokeh_onload_callbacks\n    }\n    console.info(\"Bokeh: all callbacks have finished\");\n  }\n\n  function load_libs(js_urls, callback) {\n    root._bokeh_onload_callbacks.push(callback);\n    if (root._bokeh_is_loading > 0) {\n      console.log(\"Bokeh: BokehJS is being loaded, scheduling callback at\", now());\n      return null;\n    }\n    if (js_urls == null || js_urls.length === 0) {\n      run_callbacks();\n      return null;\n    }\n    console.log(\"Bokeh: BokehJS not loaded, scheduling load and callback at\", now());\n    root._bokeh_is_loading = js_urls.length;\n    for (var i = 0; i < js_urls.length; i++) {\n      var url = js_urls[i];\n      var s = document.createElement('script');\n      s.src = url;\n      s.async = false;\n      s.onreadystatechange = s.onload = function() {\n        root._bokeh_is_loading--;\n        if (root._bokeh_is_loading === 0) {\n          console.log(\"Bokeh: all BokehJS libraries loaded\");\n          run_callbacks()\n        }\n      };\n      s.onerror = function() {\n        console.warn(\"failed to load library \" + url);\n      };\n      console.log(\"Bokeh: injecting script tag for BokehJS library: \", url);\n      document.getElementsByTagName(\"head\")[0].appendChild(s);\n    }\n  };var element = document.getElementById(\"74a952c2-bdd6-4b3a-a944-36c61dc514f4\");\n  if (element == null) {\n    console.log(\"Bokeh: ERROR: autoload.js configured with elementid '74a952c2-bdd6-4b3a-a944-36c61dc514f4' but no matching script tag was found. \")\n    return false;\n  }\n\n  var js_urls = [\"https://cdn.pydata.org/bokeh/release/bokeh-0.12.13.min.js\", \"https://cdn.pydata.org/bokeh/release/bokeh-widgets-0.12.13.min.js\", \"https://cdn.pydata.org/bokeh/release/bokeh-tables-0.12.13.min.js\", \"https://cdn.pydata.org/bokeh/release/bokeh-gl-0.12.13.min.js\"];\n\n  var inline_js = [\n    function(Bokeh) {\n      Bokeh.set_log_level(\"info\");\n    },\n    \n    function(Bokeh) {\n      \n    },\n    function(Bokeh) {\n      console.log(\"Bokeh: injecting CSS: https://cdn.pydata.org/bokeh/release/bokeh-0.12.13.min.css\");\n      Bokeh.embed.inject_css(\"https://cdn.pydata.org/bokeh/release/bokeh-0.12.13.min.css\");\n      console.log(\"Bokeh: injecting CSS: https://cdn.pydata.org/bokeh/release/bokeh-widgets-0.12.13.min.css\");\n      Bokeh.embed.inject_css(\"https://cdn.pydata.org/bokeh/release/bokeh-widgets-0.12.13.min.css\");\n      console.log(\"Bokeh: injecting CSS: https://cdn.pydata.org/bokeh/release/bokeh-tables-0.12.13.min.css\");\n      Bokeh.embed.inject_css(\"https://cdn.pydata.org/bokeh/release/bokeh-tables-0.12.13.min.css\");\n    }\n  ];\n\n  function run_inline_js() {\n    \n    if ((root.Bokeh !== undefined) || (force === true)) {\n      for (var i = 0; i < inline_js.length; i++) {\n        inline_js[i].call(root, root.Bokeh);\n      }if (force === true) {\n        display_loaded();\n      }} else if (Date.now() < root._bokeh_timeout) {\n      setTimeout(run_inline_js, 100);\n    } else if (!root._bokeh_failed_load) {\n      console.log(\"Bokeh: BokehJS failed to load within specified timeout.\");\n      root._bokeh_failed_load = true;\n    } else if (force !== true) {\n      var cell = $(document.getElementById(\"74a952c2-bdd6-4b3a-a944-36c61dc514f4\")).parents('.cell').data().cell;\n      cell.output_area.append_execute_result(NB_LOAD_WARNING)\n    }\n\n  }\n\n  if (root._bokeh_is_loading === 0) {\n    console.log(\"Bokeh: BokehJS loaded, going straight to plotting\");\n    run_inline_js();\n  } else {\n    load_libs(js_urls, function() {\n      console.log(\"Bokeh: BokehJS plotting callback run at\", now());\n      run_inline_js();\n    });\n  }\n}(window));"
     },
     "metadata": {},
     "output_type": "display_data"
    }
   ],
   "source": [
    "output_notebook()"
   ]
  },
  {
   "cell_type": "markdown",
   "metadata": {},
   "source": [
    "# Some Basic Scatter Plots\n",
    "\n",
    "In this section you will see how to use Bokeh's various marker types to create simple scatter plots. "
   ]
  },
  {
   "cell_type": "code",
   "execution_count": 3,
   "metadata": {},
   "outputs": [
    {
     "data": {
      "text/html": [
       "\n",
       "<div class=\"bk-root\">\n",
       "    <div class=\"bk-plotdiv\" id=\"3d138a05-b69b-46d1-bfae-364647d1e10d\"></div>\n",
       "</div>"
      ]
     },
     "metadata": {},
     "output_type": "display_data"
    },
    {
     "data": {
      "application/javascript": [
       "(function(root) {\n",
       "  function embed_document(root) {\n",
       "    \n",
       "  var docs_json = {\"f2a8aeb7-56d9-4752-bfd6-14c053069514\":{\"roots\":{\"references\":[{\"attributes\":{\"bottom_units\":\"screen\",\"fill_alpha\":{\"value\":0.5},\"fill_color\":{\"value\":\"lightgrey\"},\"left_units\":\"screen\",\"level\":\"overlay\",\"line_alpha\":{\"value\":1.0},\"line_color\":{\"value\":\"black\"},\"line_dash\":[4,4],\"line_width\":{\"value\":2},\"plot\":null,\"render_mode\":\"css\",\"right_units\":\"screen\",\"top_units\":\"screen\"},\"id\":\"404a074a-cfa1-467d-aeee-12c674fc679b\",\"type\":\"BoxAnnotation\"},{\"attributes\":{\"data_source\":{\"id\":\"dbde1b05-4469-4e6f-8c7e-ad9f051bac0e\",\"type\":\"ColumnDataSource\"},\"glyph\":{\"id\":\"d14dc5b1-bdd4-4d82-8681-33441009a35d\",\"type\":\"Circle\"},\"hover_glyph\":null,\"muted_glyph\":null,\"nonselection_glyph\":{\"id\":\"3577d414-28c9-4b3c-a6be-18b96173d21d\",\"type\":\"Circle\"},\"selection_glyph\":null,\"view\":{\"id\":\"5eb131ee-cfbc-477b-a10d-da6539204ad3\",\"type\":\"CDSView\"}},\"id\":\"674fdc7a-e591-4382-a10c-43596bcbc7c3\",\"type\":\"GlyphRenderer\"},{\"attributes\":{},\"id\":\"42095929-b2f5-4f07-b900-550f64ae964b\",\"type\":\"BasicTickFormatter\"},{\"attributes\":{\"below\":[{\"id\":\"d959a9d7-c7e0-4d01-8ab6-372f58b77243\",\"type\":\"LinearAxis\"}],\"left\":[{\"id\":\"d7819e02-e69d-4d96-86ae-44b463bfc1d2\",\"type\":\"LinearAxis\"}],\"plot_height\":400,\"plot_width\":400,\"renderers\":[{\"id\":\"d959a9d7-c7e0-4d01-8ab6-372f58b77243\",\"type\":\"LinearAxis\"},{\"id\":\"c802a3c1-6a4b-429c-863a-db8fcc569063\",\"type\":\"Grid\"},{\"id\":\"d7819e02-e69d-4d96-86ae-44b463bfc1d2\",\"type\":\"LinearAxis\"},{\"id\":\"d86b1c06-25f4-46df-b3e8-5e90bc00845e\",\"type\":\"Grid\"},{\"id\":\"404a074a-cfa1-467d-aeee-12c674fc679b\",\"type\":\"BoxAnnotation\"},{\"id\":\"674fdc7a-e591-4382-a10c-43596bcbc7c3\",\"type\":\"GlyphRenderer\"}],\"title\":{\"id\":\"6f4cd7ca-7406-4e07-a339-f49ba42d0c31\",\"type\":\"Title\"},\"toolbar\":{\"id\":\"88334711-0574-4beb-af5b-82ff40b27bcd\",\"type\":\"Toolbar\"},\"x_range\":{\"id\":\"11675df4-1540-474c-83da-f7de7898ca0d\",\"type\":\"DataRange1d\"},\"x_scale\":{\"id\":\"50e2b0e5-40e5-4770-8f23-41a28a5ed4b5\",\"type\":\"LinearScale\"},\"y_range\":{\"id\":\"f380c396-5ebb-4d2c-8e5c-7b592f62a95d\",\"type\":\"DataRange1d\"},\"y_scale\":{\"id\":\"deebb214-b6b0-4950-a425-3b630360e255\",\"type\":\"LinearScale\"}},\"id\":\"034eea55-7052-4762-86d1-94c62aef2ec3\",\"subtype\":\"Figure\",\"type\":\"Plot\"},{\"attributes\":{\"callback\":null,\"column_names\":[\"x\",\"y\"],\"data\":{\"x\":[1,2,3,4,5],\"y\":[6,7,2,4,5]}},\"id\":\"dbde1b05-4469-4e6f-8c7e-ad9f051bac0e\",\"type\":\"ColumnDataSource\"},{\"attributes\":{},\"id\":\"3c9641b3-3695-4258-86b9-5d3fe06227e5\",\"type\":\"PanTool\"},{\"attributes\":{\"active_drag\":\"auto\",\"active_inspect\":\"auto\",\"active_scroll\":\"auto\",\"active_tap\":\"auto\",\"tools\":[{\"id\":\"3c9641b3-3695-4258-86b9-5d3fe06227e5\",\"type\":\"PanTool\"},{\"id\":\"a1dc88dd-a03c-415c-b752-9be1be62694a\",\"type\":\"WheelZoomTool\"},{\"id\":\"9b508cd5-f87b-463d-a2fa-2b468c7a72f1\",\"type\":\"BoxZoomTool\"},{\"id\":\"e1f8bfda-7cfc-4d37-832c-c369839af123\",\"type\":\"SaveTool\"},{\"id\":\"4605b502-02d2-4635-b6d0-efc66b35bf8a\",\"type\":\"ResetTool\"},{\"id\":\"c53072f3-2e84-4b9f-acf6-e5ef6c9a5ccd\",\"type\":\"HelpTool\"}]},\"id\":\"88334711-0574-4beb-af5b-82ff40b27bcd\",\"type\":\"Toolbar\"},{\"attributes\":{},\"id\":\"a1dc88dd-a03c-415c-b752-9be1be62694a\",\"type\":\"WheelZoomTool\"},{\"attributes\":{\"fill_alpha\":{\"value\":0.1},\"fill_color\":{\"value\":\"#1f77b4\"},\"line_alpha\":{\"value\":0.1},\"line_color\":{\"value\":\"#1f77b4\"},\"size\":{\"units\":\"screen\",\"value\":15},\"x\":{\"field\":\"x\"},\"y\":{\"field\":\"y\"}},\"id\":\"3577d414-28c9-4b3c-a6be-18b96173d21d\",\"type\":\"Circle\"},{\"attributes\":{\"callback\":null},\"id\":\"11675df4-1540-474c-83da-f7de7898ca0d\",\"type\":\"DataRange1d\"},{\"attributes\":{\"overlay\":{\"id\":\"404a074a-cfa1-467d-aeee-12c674fc679b\",\"type\":\"BoxAnnotation\"}},\"id\":\"9b508cd5-f87b-463d-a2fa-2b468c7a72f1\",\"type\":\"BoxZoomTool\"},{\"attributes\":{},\"id\":\"e1f8bfda-7cfc-4d37-832c-c369839af123\",\"type\":\"SaveTool\"},{\"attributes\":{\"callback\":null},\"id\":\"f380c396-5ebb-4d2c-8e5c-7b592f62a95d\",\"type\":\"DataRange1d\"},{\"attributes\":{},\"id\":\"4605b502-02d2-4635-b6d0-efc66b35bf8a\",\"type\":\"ResetTool\"},{\"attributes\":{},\"id\":\"50e2b0e5-40e5-4770-8f23-41a28a5ed4b5\",\"type\":\"LinearScale\"},{\"attributes\":{\"source\":{\"id\":\"dbde1b05-4469-4e6f-8c7e-ad9f051bac0e\",\"type\":\"ColumnDataSource\"}},\"id\":\"5eb131ee-cfbc-477b-a10d-da6539204ad3\",\"type\":\"CDSView\"},{\"attributes\":{},\"id\":\"c53072f3-2e84-4b9f-acf6-e5ef6c9a5ccd\",\"type\":\"HelpTool\"},{\"attributes\":{},\"id\":\"deebb214-b6b0-4950-a425-3b630360e255\",\"type\":\"LinearScale\"},{\"attributes\":{\"plot\":null,\"text\":\"\"},\"id\":\"6f4cd7ca-7406-4e07-a339-f49ba42d0c31\",\"type\":\"Title\"},{\"attributes\":{\"formatter\":{\"id\":\"42095929-b2f5-4f07-b900-550f64ae964b\",\"type\":\"BasicTickFormatter\"},\"plot\":{\"id\":\"034eea55-7052-4762-86d1-94c62aef2ec3\",\"subtype\":\"Figure\",\"type\":\"Plot\"},\"ticker\":{\"id\":\"5841fed2-aec6-41e7-936f-910de8575079\",\"type\":\"BasicTicker\"}},\"id\":\"d959a9d7-c7e0-4d01-8ab6-372f58b77243\",\"type\":\"LinearAxis\"},{\"attributes\":{},\"id\":\"5841fed2-aec6-41e7-936f-910de8575079\",\"type\":\"BasicTicker\"},{\"attributes\":{\"plot\":{\"id\":\"034eea55-7052-4762-86d1-94c62aef2ec3\",\"subtype\":\"Figure\",\"type\":\"Plot\"},\"ticker\":{\"id\":\"5841fed2-aec6-41e7-936f-910de8575079\",\"type\":\"BasicTicker\"}},\"id\":\"c802a3c1-6a4b-429c-863a-db8fcc569063\",\"type\":\"Grid\"},{\"attributes\":{\"formatter\":{\"id\":\"8d95d717-8e4c-4ef2-bc13-7875580d4810\",\"type\":\"BasicTickFormatter\"},\"plot\":{\"id\":\"034eea55-7052-4762-86d1-94c62aef2ec3\",\"subtype\":\"Figure\",\"type\":\"Plot\"},\"ticker\":{\"id\":\"6eb406e2-a524-4659-9bcd-ce6d2a1818c9\",\"type\":\"BasicTicker\"}},\"id\":\"d7819e02-e69d-4d96-86ae-44b463bfc1d2\",\"type\":\"LinearAxis\"},{\"attributes\":{\"fill_alpha\":{\"value\":0.5},\"fill_color\":{\"value\":\"orange\"},\"line_color\":{\"value\":\"navy\"},\"size\":{\"units\":\"screen\",\"value\":15},\"x\":{\"field\":\"x\"},\"y\":{\"field\":\"y\"}},\"id\":\"d14dc5b1-bdd4-4d82-8681-33441009a35d\",\"type\":\"Circle\"},{\"attributes\":{},\"id\":\"6eb406e2-a524-4659-9bcd-ce6d2a1818c9\",\"type\":\"BasicTicker\"},{\"attributes\":{},\"id\":\"8d95d717-8e4c-4ef2-bc13-7875580d4810\",\"type\":\"BasicTickFormatter\"},{\"attributes\":{\"dimension\":1,\"plot\":{\"id\":\"034eea55-7052-4762-86d1-94c62aef2ec3\",\"subtype\":\"Figure\",\"type\":\"Plot\"},\"ticker\":{\"id\":\"6eb406e2-a524-4659-9bcd-ce6d2a1818c9\",\"type\":\"BasicTicker\"}},\"id\":\"d86b1c06-25f4-46df-b3e8-5e90bc00845e\",\"type\":\"Grid\"}],\"root_ids\":[\"034eea55-7052-4762-86d1-94c62aef2ec3\"]},\"title\":\"Bokeh Application\",\"version\":\"0.12.13\"}};\n",
       "  var render_items = [{\"docid\":\"f2a8aeb7-56d9-4752-bfd6-14c053069514\",\"elementid\":\"3d138a05-b69b-46d1-bfae-364647d1e10d\",\"modelid\":\"034eea55-7052-4762-86d1-94c62aef2ec3\"}];\n",
       "  root.Bokeh.embed.embed_items_notebook(docs_json, render_items);\n",
       "\n",
       "  }\n",
       "  if (root.Bokeh !== undefined) {\n",
       "    embed_document(root);\n",
       "  } else {\n",
       "    var attempts = 0;\n",
       "    var timer = setInterval(function(root) {\n",
       "      if (root.Bokeh !== undefined) {\n",
       "        embed_document(root);\n",
       "        clearInterval(timer);\n",
       "      }\n",
       "      attempts++;\n",
       "      if (attempts > 100) {\n",
       "        console.log(\"Bokeh: ERROR: Unable to run BokehJS code because BokehJS library is missing\")\n",
       "        clearInterval(timer);\n",
       "      }\n",
       "    }, 10, root)\n",
       "  }\n",
       "})(window);"
      ],
      "application/vnd.bokehjs_exec.v0+json": ""
     },
     "metadata": {
      "application/vnd.bokehjs_exec.v0+json": {
       "id": "034eea55-7052-4762-86d1-94c62aef2ec3"
      }
     },
     "output_type": "display_data"
    }
   ],
   "source": [
    "# create a new plot with default tools, using figure\n",
    "p = figure(plot_width=400, plot_height=400)\n",
    "\n",
    "# add a circle renderer with a size, color, and alpha\n",
    "p.circle([1, 2, 3, 4, 5], [6, 7, 2, 4, 5], size=15, line_color=\"navy\", fill_color=\"orange\", fill_alpha=0.5)\n",
    "\n",
    "show(p) # show the results"
   ]
  },
  {
   "cell_type": "markdown",
   "metadata": {},
   "source": [
    "All Bokeh markers accept `size` (measured in screen space units) as a property. Circles also have `radius` (measured in \"data\" space units). "
   ]
  },
  {
   "cell_type": "code",
   "execution_count": 4,
   "metadata": {},
   "outputs": [
    {
     "data": {
      "text/html": [
       "\n",
       "<div class=\"bk-root\">\n",
       "    <div class=\"bk-plotdiv\" id=\"b94eb4c8-2016-4ac8-8b0b-c8e7a5b8d0a0\"></div>\n",
       "</div>"
      ]
     },
     "metadata": {},
     "output_type": "display_data"
    },
    {
     "data": {
      "application/javascript": [
       "(function(root) {\n",
       "  function embed_document(root) {\n",
       "    \n",
       "  var docs_json = {\"62e016f6-6736-4e29-ba7f-8bfe2f310926\":{\"roots\":{\"references\":[{\"attributes\":{\"below\":[{\"id\":\"09c43e80-1193-42ee-8069-4afcecfffff0\",\"type\":\"LinearAxis\"}],\"left\":[{\"id\":\"8cb10081-a4cc-4f5c-a0ef-6bf1da224035\",\"type\":\"LinearAxis\"}],\"plot_height\":400,\"plot_width\":400,\"renderers\":[{\"id\":\"09c43e80-1193-42ee-8069-4afcecfffff0\",\"type\":\"LinearAxis\"},{\"id\":\"954d185c-66ba-45b3-ab22-eb8c6c920a6e\",\"type\":\"Grid\"},{\"id\":\"8cb10081-a4cc-4f5c-a0ef-6bf1da224035\",\"type\":\"LinearAxis\"},{\"id\":\"22397a76-f2a7-4798-b2a5-037234e8a965\",\"type\":\"Grid\"},{\"id\":\"623edaa8-3e8b-4159-862d-d0ae9aeccad0\",\"type\":\"BoxAnnotation\"},{\"id\":\"2856c46c-306f-4852-9529-5c3fbcd6d3fe\",\"type\":\"GlyphRenderer\"}],\"title\":{\"id\":\"8b0cc1d4-802f-48f2-a3d1-aa19e22841d9\",\"type\":\"Title\"},\"toolbar\":{\"id\":\"b216984e-5226-49d3-b738-d10b0c832971\",\"type\":\"Toolbar\"},\"x_range\":{\"id\":\"fc8026de-7041-482c-9421-99ea4fb9df4f\",\"type\":\"DataRange1d\"},\"x_scale\":{\"id\":\"83e1567f-fdb2-4ed1-a357-5f3610751441\",\"type\":\"LinearScale\"},\"y_range\":{\"id\":\"8cb27b50-2d6d-4dbd-b4e0-69a217b9d157\",\"type\":\"DataRange1d\"},\"y_scale\":{\"id\":\"3c374a71-cbb5-44e2-8815-9a5a2b4a5c55\",\"type\":\"LinearScale\"}},\"id\":\"6a284fb1-ed03-49bb-83f8-73ad408b7f0b\",\"subtype\":\"Figure\",\"type\":\"Plot\"},{\"attributes\":{\"active_drag\":\"auto\",\"active_inspect\":\"auto\",\"active_scroll\":\"auto\",\"active_tap\":\"auto\",\"tools\":[{\"id\":\"edd7df40-c2ca-4bf8-83d1-a6e465a8e9bd\",\"type\":\"PanTool\"},{\"id\":\"43fc0b28-5f68-4fc5-8ad1-a6de65149777\",\"type\":\"WheelZoomTool\"},{\"id\":\"3d4c5a9c-2e36-49bb-bd41-2457cd622403\",\"type\":\"BoxZoomTool\"},{\"id\":\"97d50b26-715d-44e7-8548-8691f536eb3b\",\"type\":\"SaveTool\"},{\"id\":\"0b1e5061-409a-4ed0-adb3-e0282d2c8f19\",\"type\":\"ResetTool\"},{\"id\":\"700de974-a5db-46c5-ac68-b7dfff5c83a1\",\"type\":\"HelpTool\"}]},\"id\":\"b216984e-5226-49d3-b738-d10b0c832971\",\"type\":\"Toolbar\"},{\"attributes\":{\"overlay\":{\"id\":\"623edaa8-3e8b-4159-862d-d0ae9aeccad0\",\"type\":\"BoxAnnotation\"}},\"id\":\"3d4c5a9c-2e36-49bb-bd41-2457cd622403\",\"type\":\"BoxZoomTool\"},{\"attributes\":{},\"id\":\"edd7df40-c2ca-4bf8-83d1-a6e465a8e9bd\",\"type\":\"PanTool\"},{\"attributes\":{\"plot\":null,\"text\":\"\"},\"id\":\"8b0cc1d4-802f-48f2-a3d1-aa19e22841d9\",\"type\":\"Title\"},{\"attributes\":{},\"id\":\"0b1e5061-409a-4ed0-adb3-e0282d2c8f19\",\"type\":\"ResetTool\"},{\"attributes\":{},\"id\":\"43fc0b28-5f68-4fc5-8ad1-a6de65149777\",\"type\":\"WheelZoomTool\"},{\"attributes\":{\"callback\":null},\"id\":\"8cb27b50-2d6d-4dbd-b4e0-69a217b9d157\",\"type\":\"DataRange1d\"},{\"attributes\":{},\"id\":\"f2632b3e-6465-4be8-94ac-5f0fce645816\",\"type\":\"BasicTickFormatter\"},{\"attributes\":{\"dimension\":1,\"plot\":{\"id\":\"6a284fb1-ed03-49bb-83f8-73ad408b7f0b\",\"subtype\":\"Figure\",\"type\":\"Plot\"},\"ticker\":{\"id\":\"3d6f8d94-fb01-46d3-aae6-6f991857f48d\",\"type\":\"BasicTicker\"}},\"id\":\"22397a76-f2a7-4798-b2a5-037234e8a965\",\"type\":\"Grid\"},{\"attributes\":{\"callback\":null},\"id\":\"fc8026de-7041-482c-9421-99ea4fb9df4f\",\"type\":\"DataRange1d\"},{\"attributes\":{\"plot\":{\"id\":\"6a284fb1-ed03-49bb-83f8-73ad408b7f0b\",\"subtype\":\"Figure\",\"type\":\"Plot\"},\"ticker\":{\"id\":\"160c28fe-e94a-45fa-8b8e-7036f3264fd4\",\"type\":\"BasicTicker\"}},\"id\":\"954d185c-66ba-45b3-ab22-eb8c6c920a6e\",\"type\":\"Grid\"},{\"attributes\":{\"source\":{\"id\":\"6adb68dc-cac1-45b5-b6bd-49978ed74807\",\"type\":\"ColumnDataSource\"}},\"id\":\"8d7cea71-04b6-4fb1-843c-032a1c97e51c\",\"type\":\"CDSView\"},{\"attributes\":{\"fill_alpha\":{\"value\":0.1},\"fill_color\":{\"value\":\"#1f77b4\"},\"line_alpha\":{\"value\":0.1},\"line_color\":{\"value\":\"#1f77b4\"},\"radius\":{\"units\":\"data\",\"value\":0.1},\"x\":{\"field\":\"x\"},\"y\":{\"field\":\"y\"}},\"id\":\"c96e13df-4e00-4155-97c6-74f36a5b364b\",\"type\":\"Circle\"},{\"attributes\":{},\"id\":\"c7780579-523e-4a53-b259-c367c168e4d5\",\"type\":\"BasicTickFormatter\"},{\"attributes\":{\"data_source\":{\"id\":\"6adb68dc-cac1-45b5-b6bd-49978ed74807\",\"type\":\"ColumnDataSource\"},\"glyph\":{\"id\":\"242b4039-0d04-4afa-b4e9-92fbedd27a2b\",\"type\":\"Circle\"},\"hover_glyph\":null,\"muted_glyph\":null,\"nonselection_glyph\":{\"id\":\"c96e13df-4e00-4155-97c6-74f36a5b364b\",\"type\":\"Circle\"},\"selection_glyph\":null,\"view\":{\"id\":\"8d7cea71-04b6-4fb1-843c-032a1c97e51c\",\"type\":\"CDSView\"}},\"id\":\"2856c46c-306f-4852-9529-5c3fbcd6d3fe\",\"type\":\"GlyphRenderer\"},{\"attributes\":{},\"id\":\"160c28fe-e94a-45fa-8b8e-7036f3264fd4\",\"type\":\"BasicTicker\"},{\"attributes\":{},\"id\":\"83e1567f-fdb2-4ed1-a357-5f3610751441\",\"type\":\"LinearScale\"},{\"attributes\":{},\"id\":\"700de974-a5db-46c5-ac68-b7dfff5c83a1\",\"type\":\"HelpTool\"},{\"attributes\":{\"formatter\":{\"id\":\"f2632b3e-6465-4be8-94ac-5f0fce645816\",\"type\":\"BasicTickFormatter\"},\"plot\":{\"id\":\"6a284fb1-ed03-49bb-83f8-73ad408b7f0b\",\"subtype\":\"Figure\",\"type\":\"Plot\"},\"ticker\":{\"id\":\"160c28fe-e94a-45fa-8b8e-7036f3264fd4\",\"type\":\"BasicTicker\"}},\"id\":\"09c43e80-1193-42ee-8069-4afcecfffff0\",\"type\":\"LinearAxis\"},{\"attributes\":{\"bottom_units\":\"screen\",\"fill_alpha\":{\"value\":0.5},\"fill_color\":{\"value\":\"lightgrey\"},\"left_units\":\"screen\",\"level\":\"overlay\",\"line_alpha\":{\"value\":1.0},\"line_color\":{\"value\":\"black\"},\"line_dash\":[4,4],\"line_width\":{\"value\":2},\"plot\":null,\"render_mode\":\"css\",\"right_units\":\"screen\",\"top_units\":\"screen\"},\"id\":\"623edaa8-3e8b-4159-862d-d0ae9aeccad0\",\"type\":\"BoxAnnotation\"},{\"attributes\":{},\"id\":\"97d50b26-715d-44e7-8548-8691f536eb3b\",\"type\":\"SaveTool\"},{\"attributes\":{},\"id\":\"3d6f8d94-fb01-46d3-aae6-6f991857f48d\",\"type\":\"BasicTicker\"},{\"attributes\":{\"fill_alpha\":{\"value\":0.5},\"fill_color\":{\"value\":\"purple\"},\"line_color\":{\"value\":\"blue\"},\"radius\":{\"units\":\"data\",\"value\":0.1},\"x\":{\"field\":\"x\"},\"y\":{\"field\":\"y\"}},\"id\":\"242b4039-0d04-4afa-b4e9-92fbedd27a2b\",\"type\":\"Circle\"},{\"attributes\":{},\"id\":\"3c374a71-cbb5-44e2-8815-9a5a2b4a5c55\",\"type\":\"LinearScale\"},{\"attributes\":{\"callback\":null,\"column_names\":[\"x\",\"y\"],\"data\":{\"x\":[1,2,3,4,5],\"y\":[6,7,2,4,5]}},\"id\":\"6adb68dc-cac1-45b5-b6bd-49978ed74807\",\"type\":\"ColumnDataSource\"},{\"attributes\":{\"formatter\":{\"id\":\"c7780579-523e-4a53-b259-c367c168e4d5\",\"type\":\"BasicTickFormatter\"},\"plot\":{\"id\":\"6a284fb1-ed03-49bb-83f8-73ad408b7f0b\",\"subtype\":\"Figure\",\"type\":\"Plot\"},\"ticker\":{\"id\":\"3d6f8d94-fb01-46d3-aae6-6f991857f48d\",\"type\":\"BasicTicker\"}},\"id\":\"8cb10081-a4cc-4f5c-a0ef-6bf1da224035\",\"type\":\"LinearAxis\"}],\"root_ids\":[\"6a284fb1-ed03-49bb-83f8-73ad408b7f0b\"]},\"title\":\"Bokeh Application\",\"version\":\"0.12.13\"}};\n",
       "  var render_items = [{\"docid\":\"62e016f6-6736-4e29-ba7f-8bfe2f310926\",\"elementid\":\"b94eb4c8-2016-4ac8-8b0b-c8e7a5b8d0a0\",\"modelid\":\"6a284fb1-ed03-49bb-83f8-73ad408b7f0b\"}];\n",
       "  root.Bokeh.embed.embed_items_notebook(docs_json, render_items);\n",
       "\n",
       "  }\n",
       "  if (root.Bokeh !== undefined) {\n",
       "    embed_document(root);\n",
       "  } else {\n",
       "    var attempts = 0;\n",
       "    var timer = setInterval(function(root) {\n",
       "      if (root.Bokeh !== undefined) {\n",
       "        embed_document(root);\n",
       "        clearInterval(timer);\n",
       "      }\n",
       "      attempts++;\n",
       "      if (attempts > 100) {\n",
       "        console.log(\"Bokeh: ERROR: Unable to run BokehJS code because BokehJS library is missing\")\n",
       "        clearInterval(timer);\n",
       "      }\n",
       "    }, 10, root)\n",
       "  }\n",
       "})(window);"
      ],
      "application/vnd.bokehjs_exec.v0+json": ""
     },
     "metadata": {
      "application/vnd.bokehjs_exec.v0+json": {
       "id": "6a284fb1-ed03-49bb-83f8-73ad408b7f0b"
      }
     },
     "output_type": "display_data"
    }
   ],
   "source": [
    "# EXERCISE: Try changing the example above to set a `radius` value instead of `size`\n",
    "\n",
    "# create a new plot with default tools, using figure\n",
    "p = figure(plot_width=400, plot_height=400)\n",
    "\n",
    "# add a circle renderer with a size, color, and alpha\n",
    "p.circle([1, 2, 3, 4, 5], [6, 7, 2, 4, 5], radius=0.10, line_color=\"blue\", fill_color=\"purple\", fill_alpha=0.5)\n",
    "\n",
    "show(p) # show the results"
   ]
  },
  {
   "cell_type": "markdown",
   "metadata": {},
   "source": [
    "To scatter square markers instead of circles, you can use the `square` method on figures. "
   ]
  },
  {
   "cell_type": "code",
   "execution_count": 5,
   "metadata": {},
   "outputs": [
    {
     "data": {
      "text/html": [
       "\n",
       "<div class=\"bk-root\">\n",
       "    <div class=\"bk-plotdiv\" id=\"a2960823-99b2-40d0-b3bc-2b4d1144d337\"></div>\n",
       "</div>"
      ]
     },
     "metadata": {},
     "output_type": "display_data"
    },
    {
     "data": {
      "application/javascript": [
       "(function(root) {\n",
       "  function embed_document(root) {\n",
       "    \n",
       "  var docs_json = {\"ac6cda34-711f-49d2-aca9-094ead5be441\":{\"roots\":{\"references\":[{\"attributes\":{\"callback\":null,\"column_names\":[\"x\",\"y\",\"size\"],\"data\":{\"size\":[10,15,20,25,30],\"x\":[1,2,3,4,5],\"y\":[6,7,2,4,5]}},\"id\":\"efffb4c2-776f-447d-98e3-6548a6639fb0\",\"type\":\"ColumnDataSource\"},{\"attributes\":{},\"id\":\"b2382e17-6987-482e-bae7-3cbcdfdb78d4\",\"type\":\"BasicTicker\"},{\"attributes\":{},\"id\":\"5c3f83f9-aad3-4496-80be-43dbf2c88b78\",\"type\":\"WheelZoomTool\"},{\"attributes\":{\"formatter\":{\"id\":\"6ce55d14-146a-46c8-9578-96bd01f57080\",\"type\":\"BasicTickFormatter\"},\"plot\":{\"id\":\"124fdaaf-1dc2-49de-8122-50f574b469ea\",\"subtype\":\"Figure\",\"type\":\"Plot\"},\"ticker\":{\"id\":\"33d0edf3-40df-4369-9b1d-4291ed5a5445\",\"type\":\"BasicTicker\"}},\"id\":\"04991431-a998-468d-82e1-7eec34ee45fc\",\"type\":\"LinearAxis\"},{\"attributes\":{\"formatter\":{\"id\":\"b987794b-f57b-476c-97d1-e8e86db91e1c\",\"type\":\"BasicTickFormatter\"},\"plot\":{\"id\":\"124fdaaf-1dc2-49de-8122-50f574b469ea\",\"subtype\":\"Figure\",\"type\":\"Plot\"},\"ticker\":{\"id\":\"b2382e17-6987-482e-bae7-3cbcdfdb78d4\",\"type\":\"BasicTicker\"}},\"id\":\"5b36f772-bf13-46e1-a9c4-e87ca107b958\",\"type\":\"LinearAxis\"},{\"attributes\":{},\"id\":\"33d0edf3-40df-4369-9b1d-4291ed5a5445\",\"type\":\"BasicTicker\"},{\"attributes\":{\"source\":{\"id\":\"efffb4c2-776f-447d-98e3-6548a6639fb0\",\"type\":\"ColumnDataSource\"}},\"id\":\"4a6fd46c-31f5-45a8-bcaa-9ae2873661e9\",\"type\":\"CDSView\"},{\"attributes\":{\"dimension\":1,\"plot\":{\"id\":\"124fdaaf-1dc2-49de-8122-50f574b469ea\",\"subtype\":\"Figure\",\"type\":\"Plot\"},\"ticker\":{\"id\":\"b2382e17-6987-482e-bae7-3cbcdfdb78d4\",\"type\":\"BasicTicker\"}},\"id\":\"2ac46389-32c0-457d-b371-5daf4500a70c\",\"type\":\"Grid\"},{\"attributes\":{},\"id\":\"6ce55d14-146a-46c8-9578-96bd01f57080\",\"type\":\"BasicTickFormatter\"},{\"attributes\":{\"fill_alpha\":{\"value\":0.6},\"fill_color\":{\"value\":\"firebrick\"},\"line_alpha\":{\"value\":0.6},\"line_color\":{\"value\":\"firebrick\"},\"size\":{\"field\":\"size\",\"units\":\"screen\"},\"x\":{\"field\":\"x\"},\"y\":{\"field\":\"y\"}},\"id\":\"9d64b375-28ef-49aa-bb04-ed95604cc3eb\",\"type\":\"Square\"},{\"attributes\":{\"overlay\":{\"id\":\"d1e8b0de-998c-4b45-92ad-4c4598f48172\",\"type\":\"BoxAnnotation\"}},\"id\":\"0dab409c-a28b-46dd-997c-dcee9a8638fb\",\"type\":\"BoxZoomTool\"},{\"attributes\":{\"bottom_units\":\"screen\",\"fill_alpha\":{\"value\":0.5},\"fill_color\":{\"value\":\"lightgrey\"},\"left_units\":\"screen\",\"level\":\"overlay\",\"line_alpha\":{\"value\":1.0},\"line_color\":{\"value\":\"black\"},\"line_dash\":[4,4],\"line_width\":{\"value\":2},\"plot\":null,\"render_mode\":\"css\",\"right_units\":\"screen\",\"top_units\":\"screen\"},\"id\":\"d1e8b0de-998c-4b45-92ad-4c4598f48172\",\"type\":\"BoxAnnotation\"},{\"attributes\":{},\"id\":\"3507a6f8-1c63-45d5-8d59-5f216c663671\",\"type\":\"LinearScale\"},{\"attributes\":{\"plot\":null,\"text\":\"\"},\"id\":\"141b6cde-c50b-49c1-91fd-331a7c0229d2\",\"type\":\"Title\"},{\"attributes\":{},\"id\":\"2e550bb7-6192-470e-8159-4675257ccb59\",\"type\":\"PanTool\"},{\"attributes\":{\"fill_alpha\":{\"value\":0.1},\"fill_color\":{\"value\":\"#1f77b4\"},\"line_alpha\":{\"value\":0.1},\"line_color\":{\"value\":\"#1f77b4\"},\"size\":{\"field\":\"size\",\"units\":\"screen\"},\"x\":{\"field\":\"x\"},\"y\":{\"field\":\"y\"}},\"id\":\"923d7732-1861-4f74-93d1-1ab0ea2e1b09\",\"type\":\"Square\"},{\"attributes\":{},\"id\":\"63d1cd1d-95fe-4d50-8c2e-e4839c8972ef\",\"type\":\"LinearScale\"},{\"attributes\":{\"callback\":null},\"id\":\"d1775bd3-cc3d-49bb-a62f-75a979276253\",\"type\":\"DataRange1d\"},{\"attributes\":{\"data_source\":{\"id\":\"efffb4c2-776f-447d-98e3-6548a6639fb0\",\"type\":\"ColumnDataSource\"},\"glyph\":{\"id\":\"9d64b375-28ef-49aa-bb04-ed95604cc3eb\",\"type\":\"Square\"},\"hover_glyph\":null,\"muted_glyph\":null,\"nonselection_glyph\":{\"id\":\"923d7732-1861-4f74-93d1-1ab0ea2e1b09\",\"type\":\"Square\"},\"selection_glyph\":null,\"view\":{\"id\":\"4a6fd46c-31f5-45a8-bcaa-9ae2873661e9\",\"type\":\"CDSView\"}},\"id\":\"a66c4730-4954-4257-9a5f-b8472986b0ab\",\"type\":\"GlyphRenderer\"},{\"attributes\":{\"callback\":null},\"id\":\"8cce92c0-56fd-4ace-b66e-e9cb47158a7f\",\"type\":\"DataRange1d\"},{\"attributes\":{},\"id\":\"d206b1d1-fd9c-43f5-a56e-8d19ca68754c\",\"type\":\"ResetTool\"},{\"attributes\":{\"active_drag\":\"auto\",\"active_inspect\":\"auto\",\"active_scroll\":\"auto\",\"active_tap\":\"auto\",\"tools\":[{\"id\":\"2e550bb7-6192-470e-8159-4675257ccb59\",\"type\":\"PanTool\"},{\"id\":\"5c3f83f9-aad3-4496-80be-43dbf2c88b78\",\"type\":\"WheelZoomTool\"},{\"id\":\"0dab409c-a28b-46dd-997c-dcee9a8638fb\",\"type\":\"BoxZoomTool\"},{\"id\":\"e5d62162-a4f5-4d5f-a922-07ab5607703b\",\"type\":\"SaveTool\"},{\"id\":\"d206b1d1-fd9c-43f5-a56e-8d19ca68754c\",\"type\":\"ResetTool\"},{\"id\":\"2871974f-b333-4a21-a492-b291c7504cb5\",\"type\":\"HelpTool\"}]},\"id\":\"2845ae68-f455-4a14-b75a-00dfb07e927b\",\"type\":\"Toolbar\"},{\"attributes\":{},\"id\":\"b987794b-f57b-476c-97d1-e8e86db91e1c\",\"type\":\"BasicTickFormatter\"},{\"attributes\":{\"plot\":{\"id\":\"124fdaaf-1dc2-49de-8122-50f574b469ea\",\"subtype\":\"Figure\",\"type\":\"Plot\"},\"ticker\":{\"id\":\"33d0edf3-40df-4369-9b1d-4291ed5a5445\",\"type\":\"BasicTicker\"}},\"id\":\"7ad56192-585a-4b15-b6e1-6f7cf3a15079\",\"type\":\"Grid\"},{\"attributes\":{\"below\":[{\"id\":\"04991431-a998-468d-82e1-7eec34ee45fc\",\"type\":\"LinearAxis\"}],\"left\":[{\"id\":\"5b36f772-bf13-46e1-a9c4-e87ca107b958\",\"type\":\"LinearAxis\"}],\"plot_height\":400,\"plot_width\":400,\"renderers\":[{\"id\":\"04991431-a998-468d-82e1-7eec34ee45fc\",\"type\":\"LinearAxis\"},{\"id\":\"7ad56192-585a-4b15-b6e1-6f7cf3a15079\",\"type\":\"Grid\"},{\"id\":\"5b36f772-bf13-46e1-a9c4-e87ca107b958\",\"type\":\"LinearAxis\"},{\"id\":\"2ac46389-32c0-457d-b371-5daf4500a70c\",\"type\":\"Grid\"},{\"id\":\"d1e8b0de-998c-4b45-92ad-4c4598f48172\",\"type\":\"BoxAnnotation\"},{\"id\":\"a66c4730-4954-4257-9a5f-b8472986b0ab\",\"type\":\"GlyphRenderer\"}],\"title\":{\"id\":\"141b6cde-c50b-49c1-91fd-331a7c0229d2\",\"type\":\"Title\"},\"toolbar\":{\"id\":\"2845ae68-f455-4a14-b75a-00dfb07e927b\",\"type\":\"Toolbar\"},\"x_range\":{\"id\":\"d1775bd3-cc3d-49bb-a62f-75a979276253\",\"type\":\"DataRange1d\"},\"x_scale\":{\"id\":\"63d1cd1d-95fe-4d50-8c2e-e4839c8972ef\",\"type\":\"LinearScale\"},\"y_range\":{\"id\":\"8cce92c0-56fd-4ace-b66e-e9cb47158a7f\",\"type\":\"DataRange1d\"},\"y_scale\":{\"id\":\"3507a6f8-1c63-45d5-8d59-5f216c663671\",\"type\":\"LinearScale\"}},\"id\":\"124fdaaf-1dc2-49de-8122-50f574b469ea\",\"subtype\":\"Figure\",\"type\":\"Plot\"},{\"attributes\":{},\"id\":\"e5d62162-a4f5-4d5f-a922-07ab5607703b\",\"type\":\"SaveTool\"},{\"attributes\":{},\"id\":\"2871974f-b333-4a21-a492-b291c7504cb5\",\"type\":\"HelpTool\"}],\"root_ids\":[\"124fdaaf-1dc2-49de-8122-50f574b469ea\"]},\"title\":\"Bokeh Application\",\"version\":\"0.12.13\"}};\n",
       "  var render_items = [{\"docid\":\"ac6cda34-711f-49d2-aca9-094ead5be441\",\"elementid\":\"a2960823-99b2-40d0-b3bc-2b4d1144d337\",\"modelid\":\"124fdaaf-1dc2-49de-8122-50f574b469ea\"}];\n",
       "  root.Bokeh.embed.embed_items_notebook(docs_json, render_items);\n",
       "\n",
       "  }\n",
       "  if (root.Bokeh !== undefined) {\n",
       "    embed_document(root);\n",
       "  } else {\n",
       "    var attempts = 0;\n",
       "    var timer = setInterval(function(root) {\n",
       "      if (root.Bokeh !== undefined) {\n",
       "        embed_document(root);\n",
       "        clearInterval(timer);\n",
       "      }\n",
       "      attempts++;\n",
       "      if (attempts > 100) {\n",
       "        console.log(\"Bokeh: ERROR: Unable to run BokehJS code because BokehJS library is missing\")\n",
       "        clearInterval(timer);\n",
       "      }\n",
       "    }, 10, root)\n",
       "  }\n",
       "})(window);"
      ],
      "application/vnd.bokehjs_exec.v0+json": ""
     },
     "metadata": {
      "application/vnd.bokehjs_exec.v0+json": {
       "id": "124fdaaf-1dc2-49de-8122-50f574b469ea"
      }
     },
     "output_type": "display_data"
    }
   ],
   "source": [
    "# create a new plot using figure\n",
    "p = figure(plot_width=400, plot_height=400)\n",
    "\n",
    "# add a square renderer with a size, color, alpha, and sizes\n",
    "p.square([1, 2, 3, 4, 5], [6, 7, 2, 4, 5], size=[10, 15, 20, 25, 30], color=\"firebrick\", alpha=0.6)\n",
    "\n",
    "show(p) # show the results"
   ]
  },
  {
   "cell_type": "markdown",
   "metadata": {},
   "source": [
    "Note that in the example above, we are also specifying different sizes for each individual marker. ***In general, all of a glyph's properties can be \"vectorized\" in this fashion. ***  Also note that we have passed ``color`` as a shorthand to set both the line and fill colors easily at the same time. This is a convenience specific to ``bokeh.plotting``.\n",
    "\n",
    "</table><p>There are many marker types available in Bokeh, you can see details and\n",
    "example plots for all of them in the reference guide by clicking on entries in the list below:</p>\n",
    "<table class=\"hlist\" style=\"float:left\"><tr><td><ul>\n",
    "<li><a href=\"http://bokeh.pydata.org/en/latest/docs/reference/plotting.html#bokeh.plotting.Figure.asterisk\" title=\"bokeh.plotting.Figure.asterisk\"><code class=\"xref py py-func docutils literal\"><span class=\"pre\">asterisk()</span></code></a></li>\n",
    "<li><a href=\"http://bokeh.pydata.org/en/latest/docs/reference/plotting.html#bokeh.plotting.Figure.circle\" title=\"bokeh.plotting.Figure.circle\"><code class=\"xref py py-func docutils literal\"><span class=\"pre\">circle()</span></code></a></li>\n",
    "<li><a href=\"http://bokeh.pydata.org/en/latest/docs/reference/plotting.html#bokeh.plotting.Figure.circle_cross\" title=\"bokeh.plotting.Figure.circle_cross\"><code class=\"xref py py-func docutils literal\"><span class=\"pre\">circle_cross()</span></code></a></li>\n",
    "<li><a href=\"http://bokeh.pydata.org/en/latest/docs/reference/plotting.html#bokeh.plotting.Figure.circle_x\" title=\"bokeh.plotting.Figure.circle_x\"><code class=\"xref py py-func docutils literal\"><span class=\"pre\">circle_x()</span></code></a></li>\n",
    "<li><a href=\"http://bokeh.pydata.org/en/latest/docs/reference/plotting.html#bokeh.plotting.Figure.cross\" title=\"bokeh.plotting.Figure.cross\"><code class=\"xref py py-func docutils literal\"><span class=\"pre\">cross()</span></code></a></li>\n",
    "</ul>\n",
    "</td><td><ul>\n",
    "<li><a href=\"http://bokeh.pydata.org/en/latest/docs/reference/plotting.html#bokeh.plotting.Figure.diamond\" title=\"bokeh.plotting.Figure.diamond\"><code class=\"xref py py-func docutils literal\"><span class=\"pre\">diamond()</span></code></a></li>\n",
    "<li><a href=\"http://bokeh.pydata.org/en/latest/docs/reference/plotting.html#bokeh.plotting.Figure.diamond_cross\" title=\"bokeh.plotting.Figure.diamond_cross\"><code class=\"xref py py-func docutils literal\"><span class=\"pre\">diamond_cross()</span></code></a></li>\n",
    "<li><a href=\"http://bokeh.pydata.org/en/latest/docs/reference/plotting.html#bokeh.plotting.Figure.inverted_triangle\" title=\"bokeh.plotting.Figure.inverted_triangle\"><code class=\"xref py py-func docutils literal\"><span class=\"pre\">inverted_triangle()</span></code></a></li>\n",
    "<li><a href=\"http://bokeh.pydata.org/en/latest/docs/reference/plotting.html#bokeh.plotting.Figure.square\" title=\"bokeh.plotting.Figure.square\"><code class=\"xref py py-func docutils literal\"><span class=\"pre\">square()</span></code></a></li>\n",
    "</ul>\n",
    "</td><td><ul>\n",
    "<li><a href=\"http://bokeh.pydata.org/en/latest/docs/reference/plotting.html#bokeh.plotting.Figure.square_cross\" title=\"bokeh.plotting.Figure.square_cross\"><code class=\"xref py py-func docutils literal\"><span class=\"pre\">square_cross()</span></code></a></li>\n",
    "<li><a href=\"http://bokeh.pydata.org/en/latest/docs/reference/plotting.html#bokeh.plotting.Figure.square_x\" title=\"bokeh.plotting.Figure.square_x\"><code class=\"xref py py-func docutils literal\"><span class=\"pre\">square_x()</span></code></a></li>\n",
    "<li><a href=\"http://bokeh.pydata.org/en/latest/docs/reference/plotting.html#bokeh.plotting.Figure.triangle\" title=\"bokeh.plotting.Figure.triangle\"><code class=\"xref py py-func docutils literal\"><span class=\"pre\">triangle()</span></code></a></li>\n",
    "<li><a href=\"http://bokeh.pydata.org/en/latest/docs/reference/plotting.html#bokeh.plotting.Figure.x\" title=\"bokeh.plotting.Figure.x\"><code class=\"xref py py-func docutils literal\"><span class=\"pre\">x()</span></code></a></li>\n",
    "</ul>\n",
    "</td></tr></table>"
   ]
  },
  {
   "cell_type": "code",
   "execution_count": 6,
   "metadata": {},
   "outputs": [],
   "source": [
    "# EXERCISE: Plot some different markers in this cell\n",
    "\n"
   ]
  },
  {
   "cell_type": "markdown",
   "metadata": {},
   "source": [
    "# Basic Line Plots"
   ]
  },
  {
   "cell_type": "code",
   "execution_count": 7,
   "metadata": {},
   "outputs": [
    {
     "data": {
      "text/html": [
       "\n",
       "<div class=\"bk-root\">\n",
       "    <div class=\"bk-plotdiv\" id=\"83373953-a0a2-4821-873b-6a215f6c2721\"></div>\n",
       "</div>"
      ]
     },
     "metadata": {},
     "output_type": "display_data"
    },
    {
     "data": {
      "application/javascript": [
       "(function(root) {\n",
       "  function embed_document(root) {\n",
       "    \n",
       "  var docs_json = {\"a013c8c5-36e8-435f-ac0f-b068779e87a2\":{\"roots\":{\"references\":[{\"attributes\":{\"source\":{\"id\":\"a19c9dcf-4dc2-4a04-af85-01aa2371914a\",\"type\":\"ColumnDataSource\"}},\"id\":\"db3eb1af-a4c0-4ab3-b45f-27cdb4d9b9a2\",\"type\":\"CDSView\"},{\"attributes\":{\"active_drag\":\"auto\",\"active_inspect\":\"auto\",\"active_scroll\":\"auto\",\"active_tap\":\"auto\",\"tools\":[{\"id\":\"4c77791d-2ede-4ae0-a850-9b2e2331ca92\",\"type\":\"PanTool\"},{\"id\":\"078c157a-e7d9-4259-9acb-54b62670a38c\",\"type\":\"WheelZoomTool\"},{\"id\":\"2aedb00d-bd3a-4147-a71f-505ef580204d\",\"type\":\"BoxZoomTool\"},{\"id\":\"79de5ea1-b08c-4703-bc4e-776267a98f75\",\"type\":\"SaveTool\"},{\"id\":\"2d8beb07-b487-4fa3-9e77-075c76841d2f\",\"type\":\"ResetTool\"},{\"id\":\"a665bef4-fcd9-4bba-8fc1-a32ea158dd6c\",\"type\":\"HelpTool\"}]},\"id\":\"5c0fd49d-abdd-49a4-8195-7be102961084\",\"type\":\"Toolbar\"},{\"attributes\":{},\"id\":\"4c77791d-2ede-4ae0-a850-9b2e2331ca92\",\"type\":\"PanTool\"},{\"attributes\":{\"line_color\":\"#1f77b4\",\"line_width\":2,\"x\":{\"field\":\"x\"},\"y\":{\"field\":\"y\"}},\"id\":\"8a8c9141-b6de-4d36-88ba-fbcd33ebd360\",\"type\":\"Line\"},{\"attributes\":{\"bottom_units\":\"screen\",\"fill_alpha\":{\"value\":0.5},\"fill_color\":{\"value\":\"lightgrey\"},\"left_units\":\"screen\",\"level\":\"overlay\",\"line_alpha\":{\"value\":1.0},\"line_color\":{\"value\":\"black\"},\"line_dash\":[4,4],\"line_width\":{\"value\":2},\"plot\":null,\"render_mode\":\"css\",\"right_units\":\"screen\",\"top_units\":\"screen\"},\"id\":\"e0d74da7-7752-43c5-8a20-abcc2c544cc9\",\"type\":\"BoxAnnotation\"},{\"attributes\":{},\"id\":\"c2fac8f3-07a9-430e-b4c2-423dc621e93e\",\"type\":\"BasicTicker\"},{\"attributes\":{\"callback\":null,\"column_names\":[\"x\",\"y\"],\"data\":{\"x\":[1,2,3,4,5],\"y\":[6,7,2,4,5]}},\"id\":\"a19c9dcf-4dc2-4a04-af85-01aa2371914a\",\"type\":\"ColumnDataSource\"},{\"attributes\":{\"callback\":null},\"id\":\"769a1e09-53a3-4af9-a296-f337092858eb\",\"type\":\"DataRange1d\"},{\"attributes\":{\"line_alpha\":0.1,\"line_color\":\"#1f77b4\",\"line_width\":2,\"x\":{\"field\":\"x\"},\"y\":{\"field\":\"y\"}},\"id\":\"87b6cf91-8f50-45e1-bd06-aa17f069613e\",\"type\":\"Line\"},{\"attributes\":{\"overlay\":{\"id\":\"e0d74da7-7752-43c5-8a20-abcc2c544cc9\",\"type\":\"BoxAnnotation\"}},\"id\":\"2aedb00d-bd3a-4147-a71f-505ef580204d\",\"type\":\"BoxZoomTool\"},{\"attributes\":{},\"id\":\"4f9cf3d5-d135-486b-b19c-08db197644b1\",\"type\":\"LinearScale\"},{\"attributes\":{},\"id\":\"993c2b26-4c42-4a4b-a82d-9b83e59aaf66\",\"type\":\"BasicTickFormatter\"},{\"attributes\":{\"plot\":null,\"text\":\"My Line Plot\"},\"id\":\"6318e4f9-4935-4591-8a63-4582b6f0bfd4\",\"type\":\"Title\"},{\"attributes\":{\"dimension\":1,\"plot\":{\"id\":\"b81f5450-ad66-48b0-b37a-3dc063c6fb09\",\"subtype\":\"Figure\",\"type\":\"Plot\"},\"ticker\":{\"id\":\"c2fac8f3-07a9-430e-b4c2-423dc621e93e\",\"type\":\"BasicTicker\"}},\"id\":\"0cf506d8-40c0-451e-88e7-c6a2e9b935a4\",\"type\":\"Grid\"},{\"attributes\":{\"data_source\":{\"id\":\"a19c9dcf-4dc2-4a04-af85-01aa2371914a\",\"type\":\"ColumnDataSource\"},\"glyph\":{\"id\":\"8a8c9141-b6de-4d36-88ba-fbcd33ebd360\",\"type\":\"Line\"},\"hover_glyph\":null,\"muted_glyph\":null,\"nonselection_glyph\":{\"id\":\"87b6cf91-8f50-45e1-bd06-aa17f069613e\",\"type\":\"Line\"},\"selection_glyph\":null,\"view\":{\"id\":\"db3eb1af-a4c0-4ab3-b45f-27cdb4d9b9a2\",\"type\":\"CDSView\"}},\"id\":\"df393d7a-0806-4801-9194-7026dd4c3163\",\"type\":\"GlyphRenderer\"},{\"attributes\":{},\"id\":\"a665bef4-fcd9-4bba-8fc1-a32ea158dd6c\",\"type\":\"HelpTool\"},{\"attributes\":{},\"id\":\"64d42863-1e86-42b0-b9a5-0627bb3d0f5e\",\"type\":\"BasicTickFormatter\"},{\"attributes\":{},\"id\":\"c03dfa3f-1ffa-4745-9b74-07d23deefbe1\",\"type\":\"LinearScale\"},{\"attributes\":{},\"id\":\"79de5ea1-b08c-4703-bc4e-776267a98f75\",\"type\":\"SaveTool\"},{\"attributes\":{\"plot\":{\"id\":\"b81f5450-ad66-48b0-b37a-3dc063c6fb09\",\"subtype\":\"Figure\",\"type\":\"Plot\"},\"ticker\":{\"id\":\"7b45e4a2-3ac4-45cc-a92f-b112eccf44c0\",\"type\":\"BasicTicker\"}},\"id\":\"cf494680-d977-4f65-96e8-d34599d81bea\",\"type\":\"Grid\"},{\"attributes\":{\"callback\":null},\"id\":\"28032849-7b95-4e96-babc-3927ebf24c59\",\"type\":\"DataRange1d\"},{\"attributes\":{\"formatter\":{\"id\":\"64d42863-1e86-42b0-b9a5-0627bb3d0f5e\",\"type\":\"BasicTickFormatter\"},\"plot\":{\"id\":\"b81f5450-ad66-48b0-b37a-3dc063c6fb09\",\"subtype\":\"Figure\",\"type\":\"Plot\"},\"ticker\":{\"id\":\"7b45e4a2-3ac4-45cc-a92f-b112eccf44c0\",\"type\":\"BasicTicker\"}},\"id\":\"fca8bd29-8c50-40e5-99a4-1d449082e7cc\",\"type\":\"LinearAxis\"},{\"attributes\":{\"formatter\":{\"id\":\"993c2b26-4c42-4a4b-a82d-9b83e59aaf66\",\"type\":\"BasicTickFormatter\"},\"plot\":{\"id\":\"b81f5450-ad66-48b0-b37a-3dc063c6fb09\",\"subtype\":\"Figure\",\"type\":\"Plot\"},\"ticker\":{\"id\":\"c2fac8f3-07a9-430e-b4c2-423dc621e93e\",\"type\":\"BasicTicker\"}},\"id\":\"17d24754-dca0-43e5-b086-5f0fcde50d34\",\"type\":\"LinearAxis\"},{\"attributes\":{},\"id\":\"2d8beb07-b487-4fa3-9e77-075c76841d2f\",\"type\":\"ResetTool\"},{\"attributes\":{\"below\":[{\"id\":\"fca8bd29-8c50-40e5-99a4-1d449082e7cc\",\"type\":\"LinearAxis\"}],\"left\":[{\"id\":\"17d24754-dca0-43e5-b086-5f0fcde50d34\",\"type\":\"LinearAxis\"}],\"plot_height\":400,\"plot_width\":400,\"renderers\":[{\"id\":\"fca8bd29-8c50-40e5-99a4-1d449082e7cc\",\"type\":\"LinearAxis\"},{\"id\":\"cf494680-d977-4f65-96e8-d34599d81bea\",\"type\":\"Grid\"},{\"id\":\"17d24754-dca0-43e5-b086-5f0fcde50d34\",\"type\":\"LinearAxis\"},{\"id\":\"0cf506d8-40c0-451e-88e7-c6a2e9b935a4\",\"type\":\"Grid\"},{\"id\":\"e0d74da7-7752-43c5-8a20-abcc2c544cc9\",\"type\":\"BoxAnnotation\"},{\"id\":\"df393d7a-0806-4801-9194-7026dd4c3163\",\"type\":\"GlyphRenderer\"}],\"title\":{\"id\":\"6318e4f9-4935-4591-8a63-4582b6f0bfd4\",\"type\":\"Title\"},\"toolbar\":{\"id\":\"5c0fd49d-abdd-49a4-8195-7be102961084\",\"type\":\"Toolbar\"},\"x_range\":{\"id\":\"769a1e09-53a3-4af9-a296-f337092858eb\",\"type\":\"DataRange1d\"},\"x_scale\":{\"id\":\"4f9cf3d5-d135-486b-b19c-08db197644b1\",\"type\":\"LinearScale\"},\"y_range\":{\"id\":\"28032849-7b95-4e96-babc-3927ebf24c59\",\"type\":\"DataRange1d\"},\"y_scale\":{\"id\":\"c03dfa3f-1ffa-4745-9b74-07d23deefbe1\",\"type\":\"LinearScale\"}},\"id\":\"b81f5450-ad66-48b0-b37a-3dc063c6fb09\",\"subtype\":\"Figure\",\"type\":\"Plot\"},{\"attributes\":{},\"id\":\"7b45e4a2-3ac4-45cc-a92f-b112eccf44c0\",\"type\":\"BasicTicker\"},{\"attributes\":{},\"id\":\"078c157a-e7d9-4259-9acb-54b62670a38c\",\"type\":\"WheelZoomTool\"}],\"root_ids\":[\"b81f5450-ad66-48b0-b37a-3dc063c6fb09\"]},\"title\":\"Bokeh Application\",\"version\":\"0.12.13\"}};\n",
       "  var render_items = [{\"docid\":\"a013c8c5-36e8-435f-ac0f-b068779e87a2\",\"elementid\":\"83373953-a0a2-4821-873b-6a215f6c2721\",\"modelid\":\"b81f5450-ad66-48b0-b37a-3dc063c6fb09\"}];\n",
       "  root.Bokeh.embed.embed_items_notebook(docs_json, render_items);\n",
       "\n",
       "  }\n",
       "  if (root.Bokeh !== undefined) {\n",
       "    embed_document(root);\n",
       "  } else {\n",
       "    var attempts = 0;\n",
       "    var timer = setInterval(function(root) {\n",
       "      if (root.Bokeh !== undefined) {\n",
       "        embed_document(root);\n",
       "        clearInterval(timer);\n",
       "      }\n",
       "      attempts++;\n",
       "      if (attempts > 100) {\n",
       "        console.log(\"Bokeh: ERROR: Unable to run BokehJS code because BokehJS library is missing\")\n",
       "        clearInterval(timer);\n",
       "      }\n",
       "    }, 10, root)\n",
       "  }\n",
       "})(window);"
      ],
      "application/vnd.bokehjs_exec.v0+json": ""
     },
     "metadata": {
      "application/vnd.bokehjs_exec.v0+json": {
       "id": "b81f5450-ad66-48b0-b37a-3dc063c6fb09"
      }
     },
     "output_type": "display_data"
    }
   ],
   "source": [
    "# create a new plot (with a title) using figure\n",
    "p = figure(plot_width=400, plot_height=400, title=\"My Line Plot\")\n",
    "\n",
    "# add a line renderer\n",
    "p.line([1, 2, 3, 4, 5], [6, 7, 2, 4, 5], line_width=2)\n",
    "\n",
    "show(p) # show the results"
   ]
  },
  {
   "cell_type": "markdown",
   "metadata": {},
   "source": [
    "# Images"
   ]
  },
  {
   "cell_type": "markdown",
   "metadata": {},
   "source": [
    "The example below shows how to use the `image_rgba` method to display raw RGBA data. \n",
    "\n",
    "**Note**: This example makes use of the NumPy library "
   ]
  },
  {
   "cell_type": "code",
   "execution_count": 8,
   "metadata": {},
   "outputs": [
    {
     "data": {
      "text/html": [
       "\n",
       "<div class=\"bk-root\">\n",
       "    <div class=\"bk-plotdiv\" id=\"0a5b8f62-b257-4c11-bd31-f7a14810dfa7\"></div>\n",
       "</div>"
      ]
     },
     "metadata": {},
     "output_type": "display_data"
    },
    {
     "data": {
      "application/javascript": [
       "(function(root) {\n",
       "  function embed_document(root) {\n",
       "    \n",
       "  var docs_json = {\"5048ef4d-88d0-4291-9c16-5d95cf532eba\":{\"roots\":{\"references\":[{\"attributes\":{\"callback\":null,\"end\":10},\"id\":\"e37a7b03-f96d-4d9d-8c48-2747a3363ba6\",\"type\":\"Range1d\"},{\"attributes\":{},\"id\":\"d8fdb98d-5ee8-4a0b-a2d0-acd3901c9bc3\",\"type\":\"HelpTool\"},{\"attributes\":{},\"id\":\"44e03b20-32b4-41be-af6a-ae3727a1d4ca\",\"type\":\"LinearScale\"},{\"attributes\":{},\"id\":\"476c6fb6-4b85-4d72-8b3c-a95b54291c1f\",\"type\":\"LinearScale\"},{\"attributes\":{},\"id\":\"c4651eaa-a082-4fd9-bc51-d2bc1b73d051\",\"type\":\"BasicTickFormatter\"},{\"attributes\":{\"plot\":{\"id\":\"769e3800-d892-4651-aefe-2adb14e056b0\",\"subtype\":\"Figure\",\"type\":\"Plot\"},\"ticker\":{\"id\":\"fc9eb7fd-0780-4fd8-82ec-e32cbf461c65\",\"type\":\"BasicTicker\"}},\"id\":\"54078f4b-bbc8-4ec5-874e-c78178ebb61d\",\"type\":\"Grid\"},{\"attributes\":{\"plot\":null,\"text\":\"\"},\"id\":\"9660352d-2469-4add-a8fc-0b0e1498b5e0\",\"type\":\"Title\"},{\"attributes\":{\"formatter\":{\"id\":\"c4651eaa-a082-4fd9-bc51-d2bc1b73d051\",\"type\":\"BasicTickFormatter\"},\"plot\":{\"id\":\"769e3800-d892-4651-aefe-2adb14e056b0\",\"subtype\":\"Figure\",\"type\":\"Plot\"},\"ticker\":{\"id\":\"fc9eb7fd-0780-4fd8-82ec-e32cbf461c65\",\"type\":\"BasicTicker\"}},\"id\":\"7191ffaa-f38f-48e5-8d22-305a6e6eedfe\",\"type\":\"LinearAxis\"},{\"attributes\":{},\"id\":\"fc9eb7fd-0780-4fd8-82ec-e32cbf461c65\",\"type\":\"BasicTicker\"},{\"attributes\":{\"formatter\":{\"id\":\"6e87e3bc-775b-4840-b7ef-855ee5e671d5\",\"type\":\"BasicTickFormatter\"},\"plot\":{\"id\":\"769e3800-d892-4651-aefe-2adb14e056b0\",\"subtype\":\"Figure\",\"type\":\"Plot\"},\"ticker\":{\"id\":\"b86f5837-ce5f-4e38-832e-f95e25fe6d91\",\"type\":\"BasicTicker\"}},\"id\":\"fa124166-6e6a-4f72-acf7-25a5fcb4ba0f\",\"type\":\"LinearAxis\"},{\"attributes\":{},\"id\":\"b86f5837-ce5f-4e38-832e-f95e25fe6d91\",\"type\":\"BasicTicker\"},{\"attributes\":{},\"id\":\"6e87e3bc-775b-4840-b7ef-855ee5e671d5\",\"type\":\"BasicTickFormatter\"},{\"attributes\":{\"dimension\":1,\"plot\":{\"id\":\"769e3800-d892-4651-aefe-2adb14e056b0\",\"subtype\":\"Figure\",\"type\":\"Plot\"},\"ticker\":{\"id\":\"b86f5837-ce5f-4e38-832e-f95e25fe6d91\",\"type\":\"BasicTicker\"}},\"id\":\"9724ef8b-a262-459b-a9c5-5d239b98d151\",\"type\":\"Grid\"},{\"attributes\":{\"dh\":{\"field\":\"dh\",\"units\":\"data\"},\"dw\":{\"field\":\"dw\",\"units\":\"data\"},\"image\":{\"field\":\"image\"},\"x\":{\"field\":\"x\"},\"y\":{\"field\":\"y\"}},\"id\":\"e4771092-5866-4ebf-a5e9-e4bce42c3b85\",\"type\":\"ImageRGBA\"},{\"attributes\":{\"dh\":{\"field\":\"dh\",\"units\":\"data\"},\"dw\":{\"field\":\"dw\",\"units\":\"data\"},\"image\":{\"field\":\"image\"},\"x\":{\"field\":\"x\"},\"y\":{\"field\":\"y\"}},\"id\":\"f19bb896-b27f-4c35-ab69-b28e196b53b8\",\"type\":\"ImageRGBA\"},{\"attributes\":{\"bottom_units\":\"screen\",\"fill_alpha\":{\"value\":0.5},\"fill_color\":{\"value\":\"lightgrey\"},\"left_units\":\"screen\",\"level\":\"overlay\",\"line_alpha\":{\"value\":1.0},\"line_color\":{\"value\":\"black\"},\"line_dash\":[4,4],\"line_width\":{\"value\":2},\"plot\":null,\"render_mode\":\"css\",\"right_units\":\"screen\",\"top_units\":\"screen\"},\"id\":\"723b3350-ff98-4019-8389-b5462899ba58\",\"type\":\"BoxAnnotation\"},{\"attributes\":{\"callback\":null,\"column_names\":[\"image\",\"x\",\"y\",\"dw\",\"dh\"],\"data\":{\"dh\":[10],\"dw\":[10],\"image\":[{\"__ndarray__\":\"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\",\"dtype\":\"uint32\",\"shape\":[20,20]}],\"x\":[0],\"y\":[0]}},\"id\":\"78c55751-ca91-43b9-bdfd-1f3e72a3f486\",\"type\":\"ColumnDataSource\"},{\"attributes\":{},\"id\":\"136541af-72a3-430f-9088-f5f014bc918e\",\"type\":\"PanTool\"},{\"attributes\":{\"data_source\":{\"id\":\"78c55751-ca91-43b9-bdfd-1f3e72a3f486\",\"type\":\"ColumnDataSource\"},\"glyph\":{\"id\":\"f19bb896-b27f-4c35-ab69-b28e196b53b8\",\"type\":\"ImageRGBA\"},\"hover_glyph\":null,\"muted_glyph\":null,\"nonselection_glyph\":{\"id\":\"e4771092-5866-4ebf-a5e9-e4bce42c3b85\",\"type\":\"ImageRGBA\"},\"selection_glyph\":null,\"view\":{\"id\":\"793762b9-5e69-401d-b92c-db04f243e6ef\",\"type\":\"CDSView\"}},\"id\":\"093a91af-9100-4f4c-b362-8780e096dd22\",\"type\":\"GlyphRenderer\"},{\"attributes\":{\"source\":{\"id\":\"78c55751-ca91-43b9-bdfd-1f3e72a3f486\",\"type\":\"ColumnDataSource\"}},\"id\":\"793762b9-5e69-401d-b92c-db04f243e6ef\",\"type\":\"CDSView\"},{\"attributes\":{\"below\":[{\"id\":\"7191ffaa-f38f-48e5-8d22-305a6e6eedfe\",\"type\":\"LinearAxis\"}],\"left\":[{\"id\":\"fa124166-6e6a-4f72-acf7-25a5fcb4ba0f\",\"type\":\"LinearAxis\"}],\"renderers\":[{\"id\":\"7191ffaa-f38f-48e5-8d22-305a6e6eedfe\",\"type\":\"LinearAxis\"},{\"id\":\"54078f4b-bbc8-4ec5-874e-c78178ebb61d\",\"type\":\"Grid\"},{\"id\":\"fa124166-6e6a-4f72-acf7-25a5fcb4ba0f\",\"type\":\"LinearAxis\"},{\"id\":\"9724ef8b-a262-459b-a9c5-5d239b98d151\",\"type\":\"Grid\"},{\"id\":\"723b3350-ff98-4019-8389-b5462899ba58\",\"type\":\"BoxAnnotation\"},{\"id\":\"093a91af-9100-4f4c-b362-8780e096dd22\",\"type\":\"GlyphRenderer\"}],\"title\":{\"id\":\"9660352d-2469-4add-a8fc-0b0e1498b5e0\",\"type\":\"Title\"},\"toolbar\":{\"id\":\"38788708-c816-4b78-802c-dff35f62e473\",\"type\":\"Toolbar\"},\"x_range\":{\"id\":\"6fe0fcc3-3d8f-4225-befc-6685f52bb995\",\"type\":\"Range1d\"},\"x_scale\":{\"id\":\"44e03b20-32b4-41be-af6a-ae3727a1d4ca\",\"type\":\"LinearScale\"},\"y_range\":{\"id\":\"e37a7b03-f96d-4d9d-8c48-2747a3363ba6\",\"type\":\"Range1d\"},\"y_scale\":{\"id\":\"476c6fb6-4b85-4d72-8b3c-a95b54291c1f\",\"type\":\"LinearScale\"}},\"id\":\"769e3800-d892-4651-aefe-2adb14e056b0\",\"subtype\":\"Figure\",\"type\":\"Plot\"},{\"attributes\":{},\"id\":\"20781f86-6b68-4a3f-aea9-9850b6c1a0a7\",\"type\":\"WheelZoomTool\"},{\"attributes\":{\"active_drag\":\"auto\",\"active_inspect\":\"auto\",\"active_scroll\":\"auto\",\"active_tap\":\"auto\",\"tools\":[{\"id\":\"136541af-72a3-430f-9088-f5f014bc918e\",\"type\":\"PanTool\"},{\"id\":\"20781f86-6b68-4a3f-aea9-9850b6c1a0a7\",\"type\":\"WheelZoomTool\"},{\"id\":\"c3e73832-3a93-48eb-93eb-912e780e3737\",\"type\":\"BoxZoomTool\"},{\"id\":\"60ef2ba7-b499-473e-ae2e-84a768a4e7ce\",\"type\":\"SaveTool\"},{\"id\":\"853c1e0d-20fb-4f89-be01-b6d14a1180b8\",\"type\":\"ResetTool\"},{\"id\":\"d8fdb98d-5ee8-4a0b-a2d0-acd3901c9bc3\",\"type\":\"HelpTool\"}]},\"id\":\"38788708-c816-4b78-802c-dff35f62e473\",\"type\":\"Toolbar\"},{\"attributes\":{\"overlay\":{\"id\":\"723b3350-ff98-4019-8389-b5462899ba58\",\"type\":\"BoxAnnotation\"}},\"id\":\"c3e73832-3a93-48eb-93eb-912e780e3737\",\"type\":\"BoxZoomTool\"},{\"attributes\":{\"callback\":null,\"end\":10},\"id\":\"6fe0fcc3-3d8f-4225-befc-6685f52bb995\",\"type\":\"Range1d\"},{\"attributes\":{},\"id\":\"60ef2ba7-b499-473e-ae2e-84a768a4e7ce\",\"type\":\"SaveTool\"},{\"attributes\":{},\"id\":\"853c1e0d-20fb-4f89-be01-b6d14a1180b8\",\"type\":\"ResetTool\"}],\"root_ids\":[\"769e3800-d892-4651-aefe-2adb14e056b0\"]},\"title\":\"Bokeh Application\",\"version\":\"0.12.13\"}};\n",
       "  var render_items = [{\"docid\":\"5048ef4d-88d0-4291-9c16-5d95cf532eba\",\"elementid\":\"0a5b8f62-b257-4c11-bd31-f7a14810dfa7\",\"modelid\":\"769e3800-d892-4651-aefe-2adb14e056b0\"}];\n",
       "  root.Bokeh.embed.embed_items_notebook(docs_json, render_items);\n",
       "\n",
       "  }\n",
       "  if (root.Bokeh !== undefined) {\n",
       "    embed_document(root);\n",
       "  } else {\n",
       "    var attempts = 0;\n",
       "    var timer = setInterval(function(root) {\n",
       "      if (root.Bokeh !== undefined) {\n",
       "        embed_document(root);\n",
       "        clearInterval(timer);\n",
       "      }\n",
       "      attempts++;\n",
       "      if (attempts > 100) {\n",
       "        console.log(\"Bokeh: ERROR: Unable to run BokehJS code because BokehJS library is missing\")\n",
       "        clearInterval(timer);\n",
       "      }\n",
       "    }, 10, root)\n",
       "  }\n",
       "})(window);"
      ],
      "application/vnd.bokehjs_exec.v0+json": ""
     },
     "metadata": {
      "application/vnd.bokehjs_exec.v0+json": {
       "id": "769e3800-d892-4651-aefe-2adb14e056b0"
      }
     },
     "output_type": "display_data"
    }
   ],
   "source": [
    "from __future__ import division\n",
    "import numpy as np\n",
    "\n",
    "# set up some data\n",
    "N = 20\n",
    "img = np.empty((N,N), dtype=np.uint32)\n",
    "view = img.view(dtype=np.uint8).reshape((N, N, 4))\n",
    "for i in range(N):\n",
    "    for j in range(N):\n",
    "        view[i, j, 0] = int(i/N*255) # red\n",
    "        view[i, j, 1] = 158          # green\n",
    "        view[i, j, 2] = int(j/N*255) # blue\n",
    "        view[i, j, 3] = 255          # alpha\n",
    "        \n",
    "# create a new plot (with a fixed range) using figure\n",
    "p = figure(x_range=[0,10], y_range=[0,10])\n",
    "\n",
    "# add an RGBA image renderer\n",
    "p.image_rgba(image=[img], x=[0], y=[0], dw=[10], dh=[10])\n",
    "\n",
    "show(p) # show the results"
   ]
  },
  {
   "cell_type": "markdown",
   "metadata": {},
   "source": [
    "# Other Kinds of Glyphs\n",
    "\n",
    "Bokeh supports many other kinds of glyphs. You can click on the User Guide links below to see how to create plots with these glyphs using the [`bokeh.plotting`](http://bokeh.pydata.org/en/latest/docs/user_guide/plotting.html) interface.\n",
    "\n",
    "* [Rectangles and Ovals](http://bokeh.pydata.org/en/latest/docs/user_guide/plotting.html#rectangles-and-ovals)\n",
    "* [Segments and Rays](http://bokeh.pydata.org/en/latest/docs/user_guide/plotting.html#segments-and-rays)\n",
    "* [Wedges and Arcs](http://bokeh.pydata.org/en/latest/docs/user_guide/plotting.html#wedges-and-arcs)\n",
    "* [Specialized Curves](http://bokeh.pydata.org/en/latest/docs/user_guide/plotting.html#specialized-curves)\n"
   ]
  },
  {
   "cell_type": "code",
   "execution_count": 9,
   "metadata": {},
   "outputs": [],
   "source": [
    "# EXERCISE: Plot some of the other glyph types, following the examples in the User Guide. \n",
    "\n"
   ]
  },
  {
   "cell_type": "markdown",
   "metadata": {},
   "source": [
    "# Plots with Multiple Glyphs \n",
    "\n",
    "It is possible to combine more than one glyph on a single figure. You just need to call multiple glyph methods on one figure object:"
   ]
  },
  {
   "cell_type": "code",
   "execution_count": 10,
   "metadata": {},
   "outputs": [
    {
     "data": {
      "text/html": [
       "\n",
       "<div class=\"bk-root\">\n",
       "    <div class=\"bk-plotdiv\" id=\"8d6a243b-33b2-4593-b66f-c43ec619d7b5\"></div>\n",
       "</div>"
      ]
     },
     "metadata": {},
     "output_type": "display_data"
    },
    {
     "data": {
      "application/javascript": [
       "(function(root) {\n",
       "  function embed_document(root) {\n",
       "    \n",
       "  var docs_json = {\"51b6b8b5-f325-4666-9f82-a233c92bc4c8\":{\"roots\":{\"references\":[{\"attributes\":{},\"id\":\"e0426774-2346-4f88-a680-82fec2adba9a\",\"type\":\"ResetTool\"},{\"attributes\":{\"bottom_units\":\"screen\",\"fill_alpha\":{\"value\":0.5},\"fill_color\":{\"value\":\"lightgrey\"},\"left_units\":\"screen\",\"level\":\"overlay\",\"line_alpha\":{\"value\":1.0},\"line_color\":{\"value\":\"black\"},\"line_dash\":[4,4],\"line_width\":{\"value\":2},\"plot\":null,\"render_mode\":\"css\",\"right_units\":\"screen\",\"top_units\":\"screen\"},\"id\":\"9208867c-3dd7-4bb7-9d49-cf6ffdeb7060\",\"type\":\"BoxAnnotation\"},{\"attributes\":{\"fill_alpha\":{\"value\":0.1},\"fill_color\":{\"value\":\"#1f77b4\"},\"line_alpha\":{\"value\":0.1},\"line_color\":{\"value\":\"#1f77b4\"},\"size\":{\"units\":\"screen\",\"value\":8},\"x\":{\"field\":\"x\"},\"y\":{\"field\":\"y\"}},\"id\":\"b318763a-1a82-424b-b1bf-0b06e129924a\",\"type\":\"Circle\"},{\"attributes\":{},\"id\":\"7486db21-4e1f-4308-94b6-88dc1dffcb61\",\"type\":\"HelpTool\"},{\"attributes\":{},\"id\":\"1d350a98-23f3-4c95-8513-28336b054981\",\"type\":\"WheelZoomTool\"},{\"attributes\":{},\"id\":\"c7905ae5-dd36-489b-be6c-9afd4e1f9b96\",\"type\":\"BasicTickFormatter\"},{\"attributes\":{\"formatter\":{\"id\":\"073d0218-dcb2-4ce8-a227-0f2a86dc1069\",\"type\":\"BasicTickFormatter\"},\"plot\":{\"id\":\"2681b074-8b91-4572-b2b2-927176f5c6fe\",\"subtype\":\"Figure\",\"type\":\"Plot\"},\"ticker\":{\"id\":\"cd5bd53e-2996-4367-a6a9-0d639c92e1e8\",\"type\":\"BasicTicker\"}},\"id\":\"6483cb9b-d1d6-45fb-95e5-c565831d9ca5\",\"type\":\"LinearAxis\"},{\"attributes\":{},\"id\":\"073d0218-dcb2-4ce8-a227-0f2a86dc1069\",\"type\":\"BasicTickFormatter\"},{\"attributes\":{},\"id\":\"2e8898e5-fce5-4f50-9b85-5d3e3d551dc3\",\"type\":\"PanTool\"},{\"attributes\":{\"source\":{\"id\":\"c8ac87b2-0b4a-467c-ae59-c2d90717c3bc\",\"type\":\"ColumnDataSource\"}},\"id\":\"ef925a1b-8da8-4068-b542-d24800aee1ad\",\"type\":\"CDSView\"},{\"attributes\":{\"formatter\":{\"id\":\"c7905ae5-dd36-489b-be6c-9afd4e1f9b96\",\"type\":\"BasicTickFormatter\"},\"plot\":{\"id\":\"2681b074-8b91-4572-b2b2-927176f5c6fe\",\"subtype\":\"Figure\",\"type\":\"Plot\"},\"ticker\":{\"id\":\"ea8411d1-752d-4d45-8340-614563979c62\",\"type\":\"BasicTicker\"}},\"id\":\"9be7d4be-fb62-44da-9e95-d92b18c50e75\",\"type\":\"LinearAxis\"},{\"attributes\":{},\"id\":\"e7575964-fd57-4568-a714-b71adc56bc99\",\"type\":\"SaveTool\"},{\"attributes\":{},\"id\":\"cd5bd53e-2996-4367-a6a9-0d639c92e1e8\",\"type\":\"BasicTicker\"},{\"attributes\":{\"overlay\":{\"id\":\"9208867c-3dd7-4bb7-9d49-cf6ffdeb7060\",\"type\":\"BoxAnnotation\"}},\"id\":\"553be6b4-d218-4948-838f-89a04f830bef\",\"type\":\"BoxZoomTool\"},{\"attributes\":{\"data_source\":{\"id\":\"c8ac87b2-0b4a-467c-ae59-c2d90717c3bc\",\"type\":\"ColumnDataSource\"},\"glyph\":{\"id\":\"1a331275-7a32-4e86-a30b-5f46504b3784\",\"type\":\"Circle\"},\"hover_glyph\":null,\"muted_glyph\":null,\"nonselection_glyph\":{\"id\":\"b318763a-1a82-424b-b1bf-0b06e129924a\",\"type\":\"Circle\"},\"selection_glyph\":null,\"view\":{\"id\":\"ef925a1b-8da8-4068-b542-d24800aee1ad\",\"type\":\"CDSView\"}},\"id\":\"fc2930d3-32c1-40ab-87cc-c2f1540476e8\",\"type\":\"GlyphRenderer\"},{\"attributes\":{\"callback\":null,\"column_names\":[\"x\",\"y\"],\"data\":{\"x\":[1,2,3,4,5],\"y\":[6,7,8,7,3]}},\"id\":\"cff05233-ab0a-4101-a119-ca49e20f658b\",\"type\":\"ColumnDataSource\"},{\"attributes\":{\"plot\":null,\"text\":\"\"},\"id\":\"d4f6419f-4d6a-40cd-af26-6ba60b43557d\",\"type\":\"Title\"},{\"attributes\":{\"data_source\":{\"id\":\"cff05233-ab0a-4101-a119-ca49e20f658b\",\"type\":\"ColumnDataSource\"},\"glyph\":{\"id\":\"eee7a057-8578-43ab-b1e1-4839da5dd411\",\"type\":\"Line\"},\"hover_glyph\":null,\"muted_glyph\":null,\"nonselection_glyph\":{\"id\":\"f2005704-3d81-4cf8-a7b6-fc82685520d8\",\"type\":\"Line\"},\"selection_glyph\":null,\"view\":{\"id\":\"a0ec5a40-bc42-4b2a-9836-93c4294e9f33\",\"type\":\"CDSView\"}},\"id\":\"5f343072-0375-4af9-b091-15801f634b6b\",\"type\":\"GlyphRenderer\"},{\"attributes\":{\"active_drag\":\"auto\",\"active_inspect\":\"auto\",\"active_scroll\":\"auto\",\"active_tap\":\"auto\",\"tools\":[{\"id\":\"2e8898e5-fce5-4f50-9b85-5d3e3d551dc3\",\"type\":\"PanTool\"},{\"id\":\"1d350a98-23f3-4c95-8513-28336b054981\",\"type\":\"WheelZoomTool\"},{\"id\":\"553be6b4-d218-4948-838f-89a04f830bef\",\"type\":\"BoxZoomTool\"},{\"id\":\"e7575964-fd57-4568-a714-b71adc56bc99\",\"type\":\"SaveTool\"},{\"id\":\"e0426774-2346-4f88-a680-82fec2adba9a\",\"type\":\"ResetTool\"},{\"id\":\"7486db21-4e1f-4308-94b6-88dc1dffcb61\",\"type\":\"HelpTool\"}]},\"id\":\"274d2397-43fb-4415-8a0b-d62dece38039\",\"type\":\"Toolbar\"},{\"attributes\":{\"below\":[{\"id\":\"6483cb9b-d1d6-45fb-95e5-c565831d9ca5\",\"type\":\"LinearAxis\"}],\"left\":[{\"id\":\"9be7d4be-fb62-44da-9e95-d92b18c50e75\",\"type\":\"LinearAxis\"}],\"plot_height\":400,\"plot_width\":400,\"renderers\":[{\"id\":\"6483cb9b-d1d6-45fb-95e5-c565831d9ca5\",\"type\":\"LinearAxis\"},{\"id\":\"a52028da-51a7-4cb6-a0b5-c5c88fd01b13\",\"type\":\"Grid\"},{\"id\":\"9be7d4be-fb62-44da-9e95-d92b18c50e75\",\"type\":\"LinearAxis\"},{\"id\":\"e5c4b7de-a10e-4eed-8546-295a6a35160a\",\"type\":\"Grid\"},{\"id\":\"9208867c-3dd7-4bb7-9d49-cf6ffdeb7060\",\"type\":\"BoxAnnotation\"},{\"id\":\"5f343072-0375-4af9-b091-15801f634b6b\",\"type\":\"GlyphRenderer\"},{\"id\":\"fc2930d3-32c1-40ab-87cc-c2f1540476e8\",\"type\":\"GlyphRenderer\"}],\"title\":{\"id\":\"d4f6419f-4d6a-40cd-af26-6ba60b43557d\",\"type\":\"Title\"},\"toolbar\":{\"id\":\"274d2397-43fb-4415-8a0b-d62dece38039\",\"type\":\"Toolbar\"},\"x_range\":{\"id\":\"6ca9488d-184d-41b2-b682-eb7c33bd8c24\",\"type\":\"DataRange1d\"},\"x_scale\":{\"id\":\"bbd97d1d-bccd-42f5-8cc5-b27533041f2a\",\"type\":\"LinearScale\"},\"y_range\":{\"id\":\"06a0d899-d21b-4375-b8ed-59fe1be507e7\",\"type\":\"DataRange1d\"},\"y_scale\":{\"id\":\"a8b5a474-f424-448b-b488-a92a7ad331db\",\"type\":\"LinearScale\"}},\"id\":\"2681b074-8b91-4572-b2b2-927176f5c6fe\",\"subtype\":\"Figure\",\"type\":\"Plot\"},{\"attributes\":{\"plot\":{\"id\":\"2681b074-8b91-4572-b2b2-927176f5c6fe\",\"subtype\":\"Figure\",\"type\":\"Plot\"},\"ticker\":{\"id\":\"cd5bd53e-2996-4367-a6a9-0d639c92e1e8\",\"type\":\"BasicTicker\"}},\"id\":\"a52028da-51a7-4cb6-a0b5-c5c88fd01b13\",\"type\":\"Grid\"},{\"attributes\":{\"line_color\":\"#1f77b4\",\"line_width\":2,\"x\":{\"field\":\"x\"},\"y\":{\"field\":\"y\"}},\"id\":\"eee7a057-8578-43ab-b1e1-4839da5dd411\",\"type\":\"Line\"},{\"attributes\":{\"fill_color\":{\"value\":\"white\"},\"line_color\":{\"value\":\"#1f77b4\"},\"size\":{\"units\":\"screen\",\"value\":8},\"x\":{\"field\":\"x\"},\"y\":{\"field\":\"y\"}},\"id\":\"1a331275-7a32-4e86-a30b-5f46504b3784\",\"type\":\"Circle\"},{\"attributes\":{\"callback\":null},\"id\":\"6ca9488d-184d-41b2-b682-eb7c33bd8c24\",\"type\":\"DataRange1d\"},{\"attributes\":{},\"id\":\"a8b5a474-f424-448b-b488-a92a7ad331db\",\"type\":\"LinearScale\"},{\"attributes\":{},\"id\":\"bbd97d1d-bccd-42f5-8cc5-b27533041f2a\",\"type\":\"LinearScale\"},{\"attributes\":{\"callback\":null},\"id\":\"06a0d899-d21b-4375-b8ed-59fe1be507e7\",\"type\":\"DataRange1d\"},{\"attributes\":{\"source\":{\"id\":\"cff05233-ab0a-4101-a119-ca49e20f658b\",\"type\":\"ColumnDataSource\"}},\"id\":\"a0ec5a40-bc42-4b2a-9836-93c4294e9f33\",\"type\":\"CDSView\"},{\"attributes\":{},\"id\":\"ea8411d1-752d-4d45-8340-614563979c62\",\"type\":\"BasicTicker\"},{\"attributes\":{\"dimension\":1,\"plot\":{\"id\":\"2681b074-8b91-4572-b2b2-927176f5c6fe\",\"subtype\":\"Figure\",\"type\":\"Plot\"},\"ticker\":{\"id\":\"ea8411d1-752d-4d45-8340-614563979c62\",\"type\":\"BasicTicker\"}},\"id\":\"e5c4b7de-a10e-4eed-8546-295a6a35160a\",\"type\":\"Grid\"},{\"attributes\":{\"callback\":null,\"column_names\":[\"x\",\"y\"],\"data\":{\"x\":[1,2,3,4,5],\"y\":[6,7,8,7,3]}},\"id\":\"c8ac87b2-0b4a-467c-ae59-c2d90717c3bc\",\"type\":\"ColumnDataSource\"},{\"attributes\":{\"line_alpha\":0.1,\"line_color\":\"#1f77b4\",\"line_width\":2,\"x\":{\"field\":\"x\"},\"y\":{\"field\":\"y\"}},\"id\":\"f2005704-3d81-4cf8-a7b6-fc82685520d8\",\"type\":\"Line\"}],\"root_ids\":[\"2681b074-8b91-4572-b2b2-927176f5c6fe\"]},\"title\":\"Bokeh Application\",\"version\":\"0.12.13\"}};\n",
       "  var render_items = [{\"docid\":\"51b6b8b5-f325-4666-9f82-a233c92bc4c8\",\"elementid\":\"8d6a243b-33b2-4593-b66f-c43ec619d7b5\",\"modelid\":\"2681b074-8b91-4572-b2b2-927176f5c6fe\"}];\n",
       "  root.Bokeh.embed.embed_items_notebook(docs_json, render_items);\n",
       "\n",
       "  }\n",
       "  if (root.Bokeh !== undefined) {\n",
       "    embed_document(root);\n",
       "  } else {\n",
       "    var attempts = 0;\n",
       "    var timer = setInterval(function(root) {\n",
       "      if (root.Bokeh !== undefined) {\n",
       "        embed_document(root);\n",
       "        clearInterval(timer);\n",
       "      }\n",
       "      attempts++;\n",
       "      if (attempts > 100) {\n",
       "        console.log(\"Bokeh: ERROR: Unable to run BokehJS code because BokehJS library is missing\")\n",
       "        clearInterval(timer);\n",
       "      }\n",
       "    }, 10, root)\n",
       "  }\n",
       "})(window);"
      ],
      "application/vnd.bokehjs_exec.v0+json": ""
     },
     "metadata": {
      "application/vnd.bokehjs_exec.v0+json": {
       "id": "2681b074-8b91-4572-b2b2-927176f5c6fe"
      }
     },
     "output_type": "display_data"
    }
   ],
   "source": [
    "# set up some data\n",
    "x = [1, 2, 3, 4, 5]\n",
    "y = [6, 7, 8, 7, 3]\n",
    "\n",
    "# create a new plot with figure\n",
    "p = figure(plot_width=400, plot_height=400)\n",
    "\n",
    "# add both a line and circles on the same plot\n",
    "p.line(x, y, line_width=2)\n",
    "p.circle(x, y, fill_color=\"white\", size=8)\n",
    "\n",
    "show(p) # show the results"
   ]
  },
  {
   "cell_type": "code",
   "execution_count": 11,
   "metadata": {},
   "outputs": [],
   "source": [
    "# EXERCISE: create your own plot combining multiple glyphs together\n",
    "\n"
   ]
  }
 ],
 "metadata": {
  "anaconda-cloud": {},
  "kernelspec": {
   "display_name": "Python 3",
   "language": "python",
   "name": "python3"
  },
  "language_info": {
   "codemirror_mode": {
    "name": "ipython",
    "version": 3
   },
   "file_extension": ".py",
   "mimetype": "text/x-python",
   "name": "python",
   "nbconvert_exporter": "python",
   "pygments_lexer": "ipython3",
   "version": "3.6.5"
  }
 },
 "nbformat": 4,
 "nbformat_minor": 1
}
