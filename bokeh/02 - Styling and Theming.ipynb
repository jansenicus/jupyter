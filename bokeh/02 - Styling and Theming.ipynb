{
 "cells": [
  {
   "cell_type": "markdown",
   "metadata": {},
   "source": [
    "<table style=\"float:left; border:none\">\n",
    "   <tr style=\"border:none; background-color: #ffffff\">\n",
    "       <td style=\"border:none\">\n",
    "           <a href=\"http://bokeh.pydata.org/\">     \n",
    "           <img \n",
    "               src=\"assets/bokeh-transparent.png\" \n",
    "               style=\"width:50px\"\n",
    "           >\n",
    "           </a>    \n",
    "       </td>\n",
    "       <td style=\"border:none\">\n",
    "           <h1>Bokeh Tutorial</h1>\n",
    "       </td>\n",
    "   </tr>\n",
    "</table>\n",
    "\n",
    "<div style=\"float:right;\"><h2>02. Styling and Theming</h2></div>"
   ]
  },
  {
   "cell_type": "code",
   "execution_count": 10,
   "metadata": {},
   "outputs": [],
   "source": [
    "#import bokeh.sampledata\n",
    "#bokeh.sampledata.download()"
   ]
  },
  {
   "cell_type": "code",
   "execution_count": 11,
   "metadata": {},
   "outputs": [],
   "source": [
    "from bokeh.io import output_notebook, show\n",
    "from bokeh.plotting import figure"
   ]
  },
  {
   "cell_type": "code",
   "execution_count": 12,
   "metadata": {},
   "outputs": [
    {
     "data": {
      "text/html": [
       "\n",
       "    <div class=\"bk-root\">\n",
       "        <a href=\"https://bokeh.pydata.org\" target=\"_blank\" class=\"bk-logo bk-logo-small bk-logo-notebook\"></a>\n",
       "        <span id=\"b5591258-1543-46f9-b616-5095392e6d20\">Loading BokehJS ...</span>\n",
       "    </div>"
      ]
     },
     "metadata": {},
     "output_type": "display_data"
    },
    {
     "data": {
      "application/javascript": [
       "\n",
       "(function(root) {\n",
       "  function now() {\n",
       "    return new Date();\n",
       "  }\n",
       "\n",
       "  var force = true;\n",
       "\n",
       "  if (typeof (root._bokeh_onload_callbacks) === \"undefined\" || force === true) {\n",
       "    root._bokeh_onload_callbacks = [];\n",
       "    root._bokeh_is_loading = undefined;\n",
       "  }\n",
       "\n",
       "  var JS_MIME_TYPE = 'application/javascript';\n",
       "  var HTML_MIME_TYPE = 'text/html';\n",
       "  var EXEC_MIME_TYPE = 'application/vnd.bokehjs_exec.v0+json';\n",
       "  var CLASS_NAME = 'output_bokeh rendered_html';\n",
       "\n",
       "  /**\n",
       "   * Render data to the DOM node\n",
       "   */\n",
       "  function render(props, node) {\n",
       "    var script = document.createElement(\"script\");\n",
       "    node.appendChild(script);\n",
       "  }\n",
       "\n",
       "  /**\n",
       "   * Handle when an output is cleared or removed\n",
       "   */\n",
       "  function handleClearOutput(event, handle) {\n",
       "    var cell = handle.cell;\n",
       "\n",
       "    var id = cell.output_area._bokeh_element_id;\n",
       "    var server_id = cell.output_area._bokeh_server_id;\n",
       "    // Clean up Bokeh references\n",
       "    if (id !== undefined) {\n",
       "      Bokeh.index[id].model.document.clear();\n",
       "      delete Bokeh.index[id];\n",
       "    }\n",
       "\n",
       "    if (server_id !== undefined) {\n",
       "      // Clean up Bokeh references\n",
       "      var cmd = \"from bokeh.io.state import curstate; print(curstate().uuid_to_server['\" + server_id + \"'].get_sessions()[0].document.roots[0]._id)\";\n",
       "      cell.notebook.kernel.execute(cmd, {\n",
       "        iopub: {\n",
       "          output: function(msg) {\n",
       "            var element_id = msg.content.text.trim();\n",
       "            Bokeh.index[element_id].model.document.clear();\n",
       "            delete Bokeh.index[element_id];\n",
       "          }\n",
       "        }\n",
       "      });\n",
       "      // Destroy server and session\n",
       "      var cmd = \"import bokeh.io.notebook as ion; ion.destroy_server('\" + server_id + \"')\";\n",
       "      cell.notebook.kernel.execute(cmd);\n",
       "    }\n",
       "  }\n",
       "\n",
       "  /**\n",
       "   * Handle when a new output is added\n",
       "   */\n",
       "  function handleAddOutput(event, handle) {\n",
       "    var output_area = handle.output_area;\n",
       "    var output = handle.output;\n",
       "\n",
       "    // limit handleAddOutput to display_data with EXEC_MIME_TYPE content only\n",
       "    if ((output.output_type != \"display_data\") || (!output.data.hasOwnProperty(EXEC_MIME_TYPE))) {\n",
       "      return\n",
       "    }\n",
       "\n",
       "    var toinsert = output_area.element.find(\".\" + CLASS_NAME.split(' ')[0]);\n",
       "\n",
       "    if (output.metadata[EXEC_MIME_TYPE][\"id\"] !== undefined) {\n",
       "      toinsert[0].firstChild.textContent = output.data[JS_MIME_TYPE];\n",
       "      // store reference to embed id on output_area\n",
       "      output_area._bokeh_element_id = output.metadata[EXEC_MIME_TYPE][\"id\"];\n",
       "    }\n",
       "    if (output.metadata[EXEC_MIME_TYPE][\"server_id\"] !== undefined) {\n",
       "      var bk_div = document.createElement(\"div\");\n",
       "      bk_div.innerHTML = output.data[HTML_MIME_TYPE];\n",
       "      var script_attrs = bk_div.children[0].attributes;\n",
       "      for (var i = 0; i < script_attrs.length; i++) {\n",
       "        toinsert[0].firstChild.setAttribute(script_attrs[i].name, script_attrs[i].value);\n",
       "      }\n",
       "      // store reference to server id on output_area\n",
       "      output_area._bokeh_server_id = output.metadata[EXEC_MIME_TYPE][\"server_id\"];\n",
       "    }\n",
       "  }\n",
       "\n",
       "  function register_renderer(events, OutputArea) {\n",
       "\n",
       "    function append_mime(data, metadata, element) {\n",
       "      // create a DOM node to render to\n",
       "      var toinsert = this.create_output_subarea(\n",
       "        metadata,\n",
       "        CLASS_NAME,\n",
       "        EXEC_MIME_TYPE\n",
       "      );\n",
       "      this.keyboard_manager.register_events(toinsert);\n",
       "      // Render to node\n",
       "      var props = {data: data, metadata: metadata[EXEC_MIME_TYPE]};\n",
       "      render(props, toinsert[0]);\n",
       "      element.append(toinsert);\n",
       "      return toinsert\n",
       "    }\n",
       "\n",
       "    /* Handle when an output is cleared or removed */\n",
       "    events.on('clear_output.CodeCell', handleClearOutput);\n",
       "    events.on('delete.Cell', handleClearOutput);\n",
       "\n",
       "    /* Handle when a new output is added */\n",
       "    events.on('output_added.OutputArea', handleAddOutput);\n",
       "\n",
       "    /**\n",
       "     * Register the mime type and append_mime function with output_area\n",
       "     */\n",
       "    OutputArea.prototype.register_mime_type(EXEC_MIME_TYPE, append_mime, {\n",
       "      /* Is output safe? */\n",
       "      safe: true,\n",
       "      /* Index of renderer in `output_area.display_order` */\n",
       "      index: 0\n",
       "    });\n",
       "  }\n",
       "\n",
       "  // register the mime type if in Jupyter Notebook environment and previously unregistered\n",
       "  if (root.Jupyter !== undefined) {\n",
       "    var events = require('base/js/events');\n",
       "    var OutputArea = require('notebook/js/outputarea').OutputArea;\n",
       "\n",
       "    if (OutputArea.prototype.mime_types().indexOf(EXEC_MIME_TYPE) == -1) {\n",
       "      register_renderer(events, OutputArea);\n",
       "    }\n",
       "  }\n",
       "\n",
       "  \n",
       "  if (typeof (root._bokeh_timeout) === \"undefined\" || force === true) {\n",
       "    root._bokeh_timeout = Date.now() + 5000;\n",
       "    root._bokeh_failed_load = false;\n",
       "  }\n",
       "\n",
       "  var NB_LOAD_WARNING = {'data': {'text/html':\n",
       "     \"<div style='background-color: #fdd'>\\n\"+\n",
       "     \"<p>\\n\"+\n",
       "     \"BokehJS does not appear to have successfully loaded. If loading BokehJS from CDN, this \\n\"+\n",
       "     \"may be due to a slow or bad network connection. Possible fixes:\\n\"+\n",
       "     \"</p>\\n\"+\n",
       "     \"<ul>\\n\"+\n",
       "     \"<li>re-rerun `output_notebook()` to attempt to load from CDN again, or</li>\\n\"+\n",
       "     \"<li>use INLINE resources instead, as so:</li>\\n\"+\n",
       "     \"</ul>\\n\"+\n",
       "     \"<code>\\n\"+\n",
       "     \"from bokeh.resources import INLINE\\n\"+\n",
       "     \"output_notebook(resources=INLINE)\\n\"+\n",
       "     \"</code>\\n\"+\n",
       "     \"</div>\"}};\n",
       "\n",
       "  function display_loaded() {\n",
       "    var el = document.getElementById(\"b5591258-1543-46f9-b616-5095392e6d20\");\n",
       "    if (el != null) {\n",
       "      el.textContent = \"BokehJS is loading...\";\n",
       "    }\n",
       "    if (root.Bokeh !== undefined) {\n",
       "      if (el != null) {\n",
       "        el.textContent = \"BokehJS \" + root.Bokeh.version + \" successfully loaded.\";\n",
       "      }\n",
       "    } else if (Date.now() < root._bokeh_timeout) {\n",
       "      setTimeout(display_loaded, 100)\n",
       "    }\n",
       "  }\n",
       "\n",
       "\n",
       "  function run_callbacks() {\n",
       "    try {\n",
       "      root._bokeh_onload_callbacks.forEach(function(callback) { callback() });\n",
       "    }\n",
       "    finally {\n",
       "      delete root._bokeh_onload_callbacks\n",
       "    }\n",
       "    console.info(\"Bokeh: all callbacks have finished\");\n",
       "  }\n",
       "\n",
       "  function load_libs(js_urls, callback) {\n",
       "    root._bokeh_onload_callbacks.push(callback);\n",
       "    if (root._bokeh_is_loading > 0) {\n",
       "      console.log(\"Bokeh: BokehJS is being loaded, scheduling callback at\", now());\n",
       "      return null;\n",
       "    }\n",
       "    if (js_urls == null || js_urls.length === 0) {\n",
       "      run_callbacks();\n",
       "      return null;\n",
       "    }\n",
       "    console.log(\"Bokeh: BokehJS not loaded, scheduling load and callback at\", now());\n",
       "    root._bokeh_is_loading = js_urls.length;\n",
       "    for (var i = 0; i < js_urls.length; i++) {\n",
       "      var url = js_urls[i];\n",
       "      var s = document.createElement('script');\n",
       "      s.src = url;\n",
       "      s.async = false;\n",
       "      s.onreadystatechange = s.onload = function() {\n",
       "        root._bokeh_is_loading--;\n",
       "        if (root._bokeh_is_loading === 0) {\n",
       "          console.log(\"Bokeh: all BokehJS libraries loaded\");\n",
       "          run_callbacks()\n",
       "        }\n",
       "      };\n",
       "      s.onerror = function() {\n",
       "        console.warn(\"failed to load library \" + url);\n",
       "      };\n",
       "      console.log(\"Bokeh: injecting script tag for BokehJS library: \", url);\n",
       "      document.getElementsByTagName(\"head\")[0].appendChild(s);\n",
       "    }\n",
       "  };var element = document.getElementById(\"b5591258-1543-46f9-b616-5095392e6d20\");\n",
       "  if (element == null) {\n",
       "    console.log(\"Bokeh: ERROR: autoload.js configured with elementid 'b5591258-1543-46f9-b616-5095392e6d20' but no matching script tag was found. \")\n",
       "    return false;\n",
       "  }\n",
       "\n",
       "  var js_urls = [\"https://cdn.pydata.org/bokeh/release/bokeh-0.12.13.min.js\", \"https://cdn.pydata.org/bokeh/release/bokeh-widgets-0.12.13.min.js\", \"https://cdn.pydata.org/bokeh/release/bokeh-tables-0.12.13.min.js\", \"https://cdn.pydata.org/bokeh/release/bokeh-gl-0.12.13.min.js\"];\n",
       "\n",
       "  var inline_js = [\n",
       "    function(Bokeh) {\n",
       "      Bokeh.set_log_level(\"info\");\n",
       "    },\n",
       "    \n",
       "    function(Bokeh) {\n",
       "      \n",
       "    },\n",
       "    function(Bokeh) {\n",
       "      console.log(\"Bokeh: injecting CSS: https://cdn.pydata.org/bokeh/release/bokeh-0.12.13.min.css\");\n",
       "      Bokeh.embed.inject_css(\"https://cdn.pydata.org/bokeh/release/bokeh-0.12.13.min.css\");\n",
       "      console.log(\"Bokeh: injecting CSS: https://cdn.pydata.org/bokeh/release/bokeh-widgets-0.12.13.min.css\");\n",
       "      Bokeh.embed.inject_css(\"https://cdn.pydata.org/bokeh/release/bokeh-widgets-0.12.13.min.css\");\n",
       "      console.log(\"Bokeh: injecting CSS: https://cdn.pydata.org/bokeh/release/bokeh-tables-0.12.13.min.css\");\n",
       "      Bokeh.embed.inject_css(\"https://cdn.pydata.org/bokeh/release/bokeh-tables-0.12.13.min.css\");\n",
       "    }\n",
       "  ];\n",
       "\n",
       "  function run_inline_js() {\n",
       "    \n",
       "    if ((root.Bokeh !== undefined) || (force === true)) {\n",
       "      for (var i = 0; i < inline_js.length; i++) {\n",
       "        inline_js[i].call(root, root.Bokeh);\n",
       "      }if (force === true) {\n",
       "        display_loaded();\n",
       "      }} else if (Date.now() < root._bokeh_timeout) {\n",
       "      setTimeout(run_inline_js, 100);\n",
       "    } else if (!root._bokeh_failed_load) {\n",
       "      console.log(\"Bokeh: BokehJS failed to load within specified timeout.\");\n",
       "      root._bokeh_failed_load = true;\n",
       "    } else if (force !== true) {\n",
       "      var cell = $(document.getElementById(\"b5591258-1543-46f9-b616-5095392e6d20\")).parents('.cell').data().cell;\n",
       "      cell.output_area.append_execute_result(NB_LOAD_WARNING)\n",
       "    }\n",
       "\n",
       "  }\n",
       "\n",
       "  if (root._bokeh_is_loading === 0) {\n",
       "    console.log(\"Bokeh: BokehJS loaded, going straight to plotting\");\n",
       "    run_inline_js();\n",
       "  } else {\n",
       "    load_libs(js_urls, function() {\n",
       "      console.log(\"Bokeh: BokehJS plotting callback run at\", now());\n",
       "      run_inline_js();\n",
       "    });\n",
       "  }\n",
       "}(window));"
      ],
      "application/vnd.bokehjs_load.v0+json": "\n(function(root) {\n  function now() {\n    return new Date();\n  }\n\n  var force = true;\n\n  if (typeof (root._bokeh_onload_callbacks) === \"undefined\" || force === true) {\n    root._bokeh_onload_callbacks = [];\n    root._bokeh_is_loading = undefined;\n  }\n\n  \n\n  \n  if (typeof (root._bokeh_timeout) === \"undefined\" || force === true) {\n    root._bokeh_timeout = Date.now() + 5000;\n    root._bokeh_failed_load = false;\n  }\n\n  var NB_LOAD_WARNING = {'data': {'text/html':\n     \"<div style='background-color: #fdd'>\\n\"+\n     \"<p>\\n\"+\n     \"BokehJS does not appear to have successfully loaded. If loading BokehJS from CDN, this \\n\"+\n     \"may be due to a slow or bad network connection. Possible fixes:\\n\"+\n     \"</p>\\n\"+\n     \"<ul>\\n\"+\n     \"<li>re-rerun `output_notebook()` to attempt to load from CDN again, or</li>\\n\"+\n     \"<li>use INLINE resources instead, as so:</li>\\n\"+\n     \"</ul>\\n\"+\n     \"<code>\\n\"+\n     \"from bokeh.resources import INLINE\\n\"+\n     \"output_notebook(resources=INLINE)\\n\"+\n     \"</code>\\n\"+\n     \"</div>\"}};\n\n  function display_loaded() {\n    var el = document.getElementById(\"b5591258-1543-46f9-b616-5095392e6d20\");\n    if (el != null) {\n      el.textContent = \"BokehJS is loading...\";\n    }\n    if (root.Bokeh !== undefined) {\n      if (el != null) {\n        el.textContent = \"BokehJS \" + root.Bokeh.version + \" successfully loaded.\";\n      }\n    } else if (Date.now() < root._bokeh_timeout) {\n      setTimeout(display_loaded, 100)\n    }\n  }\n\n\n  function run_callbacks() {\n    try {\n      root._bokeh_onload_callbacks.forEach(function(callback) { callback() });\n    }\n    finally {\n      delete root._bokeh_onload_callbacks\n    }\n    console.info(\"Bokeh: all callbacks have finished\");\n  }\n\n  function load_libs(js_urls, callback) {\n    root._bokeh_onload_callbacks.push(callback);\n    if (root._bokeh_is_loading > 0) {\n      console.log(\"Bokeh: BokehJS is being loaded, scheduling callback at\", now());\n      return null;\n    }\n    if (js_urls == null || js_urls.length === 0) {\n      run_callbacks();\n      return null;\n    }\n    console.log(\"Bokeh: BokehJS not loaded, scheduling load and callback at\", now());\n    root._bokeh_is_loading = js_urls.length;\n    for (var i = 0; i < js_urls.length; i++) {\n      var url = js_urls[i];\n      var s = document.createElement('script');\n      s.src = url;\n      s.async = false;\n      s.onreadystatechange = s.onload = function() {\n        root._bokeh_is_loading--;\n        if (root._bokeh_is_loading === 0) {\n          console.log(\"Bokeh: all BokehJS libraries loaded\");\n          run_callbacks()\n        }\n      };\n      s.onerror = function() {\n        console.warn(\"failed to load library \" + url);\n      };\n      console.log(\"Bokeh: injecting script tag for BokehJS library: \", url);\n      document.getElementsByTagName(\"head\")[0].appendChild(s);\n    }\n  };var element = document.getElementById(\"b5591258-1543-46f9-b616-5095392e6d20\");\n  if (element == null) {\n    console.log(\"Bokeh: ERROR: autoload.js configured with elementid 'b5591258-1543-46f9-b616-5095392e6d20' but no matching script tag was found. \")\n    return false;\n  }\n\n  var js_urls = [\"https://cdn.pydata.org/bokeh/release/bokeh-0.12.13.min.js\", \"https://cdn.pydata.org/bokeh/release/bokeh-widgets-0.12.13.min.js\", \"https://cdn.pydata.org/bokeh/release/bokeh-tables-0.12.13.min.js\", \"https://cdn.pydata.org/bokeh/release/bokeh-gl-0.12.13.min.js\"];\n\n  var inline_js = [\n    function(Bokeh) {\n      Bokeh.set_log_level(\"info\");\n    },\n    \n    function(Bokeh) {\n      \n    },\n    function(Bokeh) {\n      console.log(\"Bokeh: injecting CSS: https://cdn.pydata.org/bokeh/release/bokeh-0.12.13.min.css\");\n      Bokeh.embed.inject_css(\"https://cdn.pydata.org/bokeh/release/bokeh-0.12.13.min.css\");\n      console.log(\"Bokeh: injecting CSS: https://cdn.pydata.org/bokeh/release/bokeh-widgets-0.12.13.min.css\");\n      Bokeh.embed.inject_css(\"https://cdn.pydata.org/bokeh/release/bokeh-widgets-0.12.13.min.css\");\n      console.log(\"Bokeh: injecting CSS: https://cdn.pydata.org/bokeh/release/bokeh-tables-0.12.13.min.css\");\n      Bokeh.embed.inject_css(\"https://cdn.pydata.org/bokeh/release/bokeh-tables-0.12.13.min.css\");\n    }\n  ];\n\n  function run_inline_js() {\n    \n    if ((root.Bokeh !== undefined) || (force === true)) {\n      for (var i = 0; i < inline_js.length; i++) {\n        inline_js[i].call(root, root.Bokeh);\n      }if (force === true) {\n        display_loaded();\n      }} else if (Date.now() < root._bokeh_timeout) {\n      setTimeout(run_inline_js, 100);\n    } else if (!root._bokeh_failed_load) {\n      console.log(\"Bokeh: BokehJS failed to load within specified timeout.\");\n      root._bokeh_failed_load = true;\n    } else if (force !== true) {\n      var cell = $(document.getElementById(\"b5591258-1543-46f9-b616-5095392e6d20\")).parents('.cell').data().cell;\n      cell.output_area.append_execute_result(NB_LOAD_WARNING)\n    }\n\n  }\n\n  if (root._bokeh_is_loading === 0) {\n    console.log(\"Bokeh: BokehJS loaded, going straight to plotting\");\n    run_inline_js();\n  } else {\n    load_libs(js_urls, function() {\n      console.log(\"Bokeh: BokehJS plotting callback run at\", now());\n      run_inline_js();\n    });\n  }\n}(window));"
     },
     "metadata": {},
     "output_type": "display_data"
    }
   ],
   "source": [
    "output_notebook()"
   ]
  },
  {
   "cell_type": "markdown",
   "metadata": {},
   "source": [
    "# Colors and Properties"
   ]
  },
  {
   "cell_type": "markdown",
   "metadata": {},
   "source": [
    "## Colors\n",
    "\n",
    "There are many places where you may need to specify colors. Bokeh can accept colors in a variety of different ways:\n",
    "\n",
    "* any of the [147 named CSS colors](http://www.w3schools.com/cssref/css_colornames.asp), e.g ``'green'``, ``'indigo'``\n",
    "* an RGB(A) hex value, e.g., ``'#FF0000'``, ``'#44444444'``\n",
    "* a 3-tuple of integers *(r,g,b)* between 0 and 255\n",
    "*  a 4-tuple of *(r,g,b,a)* where *r*, *g*, *b* are integers between 0 and 255 and *a* is a floating point value between 0 and 1\n",
    "\n"
   ]
  },
  {
   "cell_type": "markdown",
   "metadata": {
    "collapsed": true
   },
   "source": [
    "## Properties\n",
    "\n",
    "Regardless of what API (``models``, ``plotting``, or ``charts``) is used to create a Bokeh plot, styling the visual aspects of the plot can always be accomplished by setting attributes on the Bokeh model objects that comprise the resulting plot. Visual properties come in three kinds: line, fill, and text properties. For full information with code and examples see the [Styling Visual Properties](http://bokeh.pydata.org/en/latest/docs/user_guide/styling.html) section of the user guide. \n",
    "\n",
    "----\n",
    "\n",
    "### Line Properties\n",
    "\n",
    "Set the visual appearance of lines. The most common are ``line_color``, ``line_alpha``, ``line_width`` and ``line_dash``.\n",
    "\n",
    "### Fill Properties\n",
    "\n",
    "Set the visual appearance of filled areas: ``fill_color`` and ``fill_alpha``.\n",
    "\n",
    "### Text Properties\n",
    "\n",
    "Set the visual appearance of lines of text. The most common are ``text_font``, ``text_font_size``, ``text_color``, and ``text_alpha``.\n",
    "\n",
    "----\n",
    "\n",
    "Sometimes a prefix is used with property names, e.g. to distinguish between different line properties on the same object, or to give a more meaningful name. For example, to set the line width of the plot outline, you would say ``myplot.outline_line_width = 2``. "
   ]
  },
  {
   "cell_type": "markdown",
   "metadata": {},
   "source": [
    "# Plots\n",
    "\n",
    "Many top-level attributes of plots (outline, border, etc.) can be configured. See the [Plots](http://bokeh.pydata.org/en/latest/docs/user_guide/styling.html#plots) section of the styling guide for full information. \n",
    "\n",
    "Here is an example that tweaks the plot outline:"
   ]
  },
  {
   "cell_type": "code",
   "execution_count": 13,
   "metadata": {
    "scrolled": false
   },
   "outputs": [
    {
     "data": {
      "text/html": [
       "\n",
       "<div class=\"bk-root\">\n",
       "    <div class=\"bk-plotdiv\" id=\"a87e1fbe-747d-4099-a15b-500b6c7f099b\"></div>\n",
       "</div>"
      ]
     },
     "metadata": {},
     "output_type": "display_data"
    },
    {
     "data": {
      "application/javascript": [
       "(function(root) {\n",
       "  function embed_document(root) {\n",
       "    \n",
       "  var docs_json = {\"99e05075-0937-4ef4-83a3-e523643aac2f\":{\"roots\":{\"references\":[{\"attributes\":{},\"id\":\"4bc079f8-84d1-4b08-962c-c49f60cd2949\",\"type\":\"PanTool\"},{\"attributes\":{},\"id\":\"c716a200-15bb-49b3-95e6-052e0fa0997b\",\"type\":\"BasicTickFormatter\"},{\"attributes\":{\"source\":{\"id\":\"511096c2-5f58-41e2-a278-7f30cd1be60a\",\"type\":\"ColumnDataSource\"}},\"id\":\"217a8e22-550f-441f-acb5-bf80c40af56a\",\"type\":\"CDSView\"},{\"attributes\":{},\"id\":\"c52254e9-998f-4f58-9f11-141a775b841b\",\"type\":\"WheelZoomTool\"},{\"attributes\":{\"active_drag\":\"auto\",\"active_inspect\":\"auto\",\"active_scroll\":\"auto\",\"active_tap\":\"auto\",\"tools\":[{\"id\":\"4bc079f8-84d1-4b08-962c-c49f60cd2949\",\"type\":\"PanTool\"},{\"id\":\"c52254e9-998f-4f58-9f11-141a775b841b\",\"type\":\"WheelZoomTool\"},{\"id\":\"f5125dc0-3252-4452-b3ec-f905f0fdf983\",\"type\":\"BoxZoomTool\"},{\"id\":\"20ab8ec2-537f-4785-ba60-81930ad295f8\",\"type\":\"SaveTool\"},{\"id\":\"084df8ef-db8b-400e-8b17-46d59095d923\",\"type\":\"ResetTool\"},{\"id\":\"5aa807ef-588c-4b76-a12c-62efb4f661cf\",\"type\":\"HelpTool\"}]},\"id\":\"43b25333-9602-4ac2-85dc-88fce4246048\",\"type\":\"Toolbar\"},{\"attributes\":{\"overlay\":{\"id\":\"6c61ed5b-e9f6-4294-ad18-273eb3a7522e\",\"type\":\"BoxAnnotation\"}},\"id\":\"f5125dc0-3252-4452-b3ec-f905f0fdf983\",\"type\":\"BoxZoomTool\"},{\"attributes\":{\"callback\":null},\"id\":\"289d9e0d-0518-46ae-94c0-99b2819aef7b\",\"type\":\"DataRange1d\"},{\"attributes\":{},\"id\":\"20ab8ec2-537f-4785-ba60-81930ad295f8\",\"type\":\"SaveTool\"},{\"attributes\":{\"fill_alpha\":{\"value\":0.1},\"fill_color\":{\"value\":\"#1f77b4\"},\"line_alpha\":{\"value\":0.1},\"line_color\":{\"value\":\"#1f77b4\"},\"size\":{\"units\":\"screen\",\"value\":10},\"x\":{\"field\":\"x\"},\"y\":{\"field\":\"y\"}},\"id\":\"7e2cf54d-cc39-4557-a806-f522f73d5ade\",\"type\":\"Circle\"},{\"attributes\":{},\"id\":\"084df8ef-db8b-400e-8b17-46d59095d923\",\"type\":\"ResetTool\"},{\"attributes\":{\"callback\":null},\"id\":\"c99ef73c-6bed-4bc2-aab3-f24a2a059e57\",\"type\":\"DataRange1d\"},{\"attributes\":{},\"id\":\"5aa807ef-588c-4b76-a12c-62efb4f661cf\",\"type\":\"HelpTool\"},{\"attributes\":{},\"id\":\"80abe36b-7691-40e8-bcda-3bdee30bdb15\",\"type\":\"LinearScale\"},{\"attributes\":{},\"id\":\"394312b9-c346-45f9-b046-8972d34724e3\",\"type\":\"LinearScale\"},{\"attributes\":{\"plot\":null,\"text\":\"\"},\"id\":\"fb526c12-2bb0-4714-ba10-2aaa183b2938\",\"type\":\"Title\"},{\"attributes\":{\"plot\":{\"id\":\"84c43dea-deac-424c-aece-a76d83d78cd9\",\"subtype\":\"Figure\",\"type\":\"Plot\"},\"ticker\":{\"id\":\"04e97cf6-3d6c-4bff-b1a6-a3b7133299ba\",\"type\":\"BasicTicker\"}},\"id\":\"a7dcebcd-cd00-4035-a3a7-59251f14c95b\",\"type\":\"Grid\"},{\"attributes\":{\"below\":[{\"id\":\"9501de90-61f8-4e76-ae81-0d4a539d7a7e\",\"type\":\"LinearAxis\"}],\"left\":[{\"id\":\"18c6c80a-44fc-4dd9-bee3-2b28ebf0d104\",\"type\":\"LinearAxis\"}],\"outline_line_alpha\":{\"value\":0.3},\"outline_line_color\":{\"value\":\"navy\"},\"outline_line_width\":{\"value\":7},\"plot_height\":400,\"plot_width\":400,\"renderers\":[{\"id\":\"9501de90-61f8-4e76-ae81-0d4a539d7a7e\",\"type\":\"LinearAxis\"},{\"id\":\"a7dcebcd-cd00-4035-a3a7-59251f14c95b\",\"type\":\"Grid\"},{\"id\":\"18c6c80a-44fc-4dd9-bee3-2b28ebf0d104\",\"type\":\"LinearAxis\"},{\"id\":\"16cab48c-9779-4eea-8f82-8fc4a1584c32\",\"type\":\"Grid\"},{\"id\":\"6c61ed5b-e9f6-4294-ad18-273eb3a7522e\",\"type\":\"BoxAnnotation\"},{\"id\":\"b44d9e34-18ba-4ea1-a482-1e55e04c8ffc\",\"type\":\"GlyphRenderer\"}],\"title\":{\"id\":\"fb526c12-2bb0-4714-ba10-2aaa183b2938\",\"type\":\"Title\"},\"toolbar\":{\"id\":\"43b25333-9602-4ac2-85dc-88fce4246048\",\"type\":\"Toolbar\"},\"x_range\":{\"id\":\"289d9e0d-0518-46ae-94c0-99b2819aef7b\",\"type\":\"DataRange1d\"},\"x_scale\":{\"id\":\"80abe36b-7691-40e8-bcda-3bdee30bdb15\",\"type\":\"LinearScale\"},\"y_range\":{\"id\":\"c99ef73c-6bed-4bc2-aab3-f24a2a059e57\",\"type\":\"DataRange1d\"},\"y_scale\":{\"id\":\"394312b9-c346-45f9-b046-8972d34724e3\",\"type\":\"LinearScale\"}},\"id\":\"84c43dea-deac-424c-aece-a76d83d78cd9\",\"subtype\":\"Figure\",\"type\":\"Plot\"},{\"attributes\":{\"formatter\":{\"id\":\"c716a200-15bb-49b3-95e6-052e0fa0997b\",\"type\":\"BasicTickFormatter\"},\"plot\":{\"id\":\"84c43dea-deac-424c-aece-a76d83d78cd9\",\"subtype\":\"Figure\",\"type\":\"Plot\"},\"ticker\":{\"id\":\"04e97cf6-3d6c-4bff-b1a6-a3b7133299ba\",\"type\":\"BasicTicker\"}},\"id\":\"9501de90-61f8-4e76-ae81-0d4a539d7a7e\",\"type\":\"LinearAxis\"},{\"attributes\":{},\"id\":\"04e97cf6-3d6c-4bff-b1a6-a3b7133299ba\",\"type\":\"BasicTicker\"},{\"attributes\":{\"formatter\":{\"id\":\"7480ef14-be04-4c2a-a008-7ed652ad2102\",\"type\":\"BasicTickFormatter\"},\"plot\":{\"id\":\"84c43dea-deac-424c-aece-a76d83d78cd9\",\"subtype\":\"Figure\",\"type\":\"Plot\"},\"ticker\":{\"id\":\"dce03d9f-c830-4eab-a1e6-217016e1ebec\",\"type\":\"BasicTicker\"}},\"id\":\"18c6c80a-44fc-4dd9-bee3-2b28ebf0d104\",\"type\":\"LinearAxis\"},{\"attributes\":{},\"id\":\"dce03d9f-c830-4eab-a1e6-217016e1ebec\",\"type\":\"BasicTicker\"},{\"attributes\":{\"dimension\":1,\"plot\":{\"id\":\"84c43dea-deac-424c-aece-a76d83d78cd9\",\"subtype\":\"Figure\",\"type\":\"Plot\"},\"ticker\":{\"id\":\"dce03d9f-c830-4eab-a1e6-217016e1ebec\",\"type\":\"BasicTicker\"}},\"id\":\"16cab48c-9779-4eea-8f82-8fc4a1584c32\",\"type\":\"Grid\"},{\"attributes\":{\"data_source\":{\"id\":\"511096c2-5f58-41e2-a278-7f30cd1be60a\",\"type\":\"ColumnDataSource\"},\"glyph\":{\"id\":\"cf3890d2-0b36-431b-ba9f-76431ded05a7\",\"type\":\"Circle\"},\"hover_glyph\":null,\"muted_glyph\":null,\"nonselection_glyph\":{\"id\":\"7e2cf54d-cc39-4557-a806-f522f73d5ade\",\"type\":\"Circle\"},\"selection_glyph\":null,\"view\":{\"id\":\"217a8e22-550f-441f-acb5-bf80c40af56a\",\"type\":\"CDSView\"}},\"id\":\"b44d9e34-18ba-4ea1-a482-1e55e04c8ffc\",\"type\":\"GlyphRenderer\"},{\"attributes\":{\"fill_color\":{\"value\":\"#1f77b4\"},\"line_color\":{\"value\":\"#1f77b4\"},\"size\":{\"units\":\"screen\",\"value\":10},\"x\":{\"field\":\"x\"},\"y\":{\"field\":\"y\"}},\"id\":\"cf3890d2-0b36-431b-ba9f-76431ded05a7\",\"type\":\"Circle\"},{\"attributes\":{\"callback\":null,\"column_names\":[\"x\",\"y\"],\"data\":{\"x\":[1,2,3,4,5],\"y\":[2,5,8,2,7]}},\"id\":\"511096c2-5f58-41e2-a278-7f30cd1be60a\",\"type\":\"ColumnDataSource\"},{\"attributes\":{},\"id\":\"7480ef14-be04-4c2a-a008-7ed652ad2102\",\"type\":\"BasicTickFormatter\"},{\"attributes\":{\"bottom_units\":\"screen\",\"fill_alpha\":{\"value\":0.5},\"fill_color\":{\"value\":\"lightgrey\"},\"left_units\":\"screen\",\"level\":\"overlay\",\"line_alpha\":{\"value\":1.0},\"line_color\":{\"value\":\"black\"},\"line_dash\":[4,4],\"line_width\":{\"value\":2},\"plot\":null,\"render_mode\":\"css\",\"right_units\":\"screen\",\"top_units\":\"screen\"},\"id\":\"6c61ed5b-e9f6-4294-ad18-273eb3a7522e\",\"type\":\"BoxAnnotation\"}],\"root_ids\":[\"84c43dea-deac-424c-aece-a76d83d78cd9\"]},\"title\":\"Bokeh Application\",\"version\":\"0.12.13\"}};\n",
       "  var render_items = [{\"docid\":\"99e05075-0937-4ef4-83a3-e523643aac2f\",\"elementid\":\"a87e1fbe-747d-4099-a15b-500b6c7f099b\",\"modelid\":\"84c43dea-deac-424c-aece-a76d83d78cd9\"}];\n",
       "  root.Bokeh.embed.embed_items_notebook(docs_json, render_items);\n",
       "\n",
       "  }\n",
       "  if (root.Bokeh !== undefined) {\n",
       "    embed_document(root);\n",
       "  } else {\n",
       "    var attempts = 0;\n",
       "    var timer = setInterval(function(root) {\n",
       "      if (root.Bokeh !== undefined) {\n",
       "        embed_document(root);\n",
       "        clearInterval(timer);\n",
       "      }\n",
       "      attempts++;\n",
       "      if (attempts > 100) {\n",
       "        console.log(\"Bokeh: ERROR: Unable to run BokehJS code because BokehJS library is missing\")\n",
       "        clearInterval(timer);\n",
       "      }\n",
       "    }, 10, root)\n",
       "  }\n",
       "})(window);"
      ],
      "application/vnd.bokehjs_exec.v0+json": ""
     },
     "metadata": {
      "application/vnd.bokehjs_exec.v0+json": {
       "id": "84c43dea-deac-424c-aece-a76d83d78cd9"
      }
     },
     "output_type": "display_data"
    }
   ],
   "source": [
    "# create a new plot with a title\n",
    "p = figure(plot_width=400, plot_height=400)\n",
    "p.outline_line_width = 7\n",
    "p.outline_line_alpha = 0.3\n",
    "p.outline_line_color = \"navy\"\n",
    "\n",
    "p.circle([1,2,3,4,5], [2,5,8,2,7], size=10)\n",
    "\n",
    "show(p)"
   ]
  },
  {
   "cell_type": "code",
   "execution_count": 14,
   "metadata": {},
   "outputs": [],
   "source": [
    "# EXERCISE Create a plot of your own and customize several plot-level properties\n"
   ]
  },
  {
   "cell_type": "markdown",
   "metadata": {},
   "source": [
    "# Glyphs\n",
    "\n",
    "It's also possible to style the visual properties of glyphs. When using `bokeh.plotting` this is often done when calling the glyph methods:\n",
    "```python\n",
    "p.circle(line_color=\"red\", fill_alpha=0.2, ...)\n",
    "```\n",
    "But it is also possible to set these properties directly on glyph objects. Glyph objects are found on `GlyphRenderer` objects, which are returned by the `Plot.add_glyph` and `bokeh.plotting` glyph methods like `circle`, `rect`, etc. Let's look at an example:"
   ]
  },
  {
   "cell_type": "code",
   "execution_count": 15,
   "metadata": {},
   "outputs": [
    {
     "data": {
      "text/html": [
       "\n",
       "<div class=\"bk-root\">\n",
       "    <div class=\"bk-plotdiv\" id=\"533e467d-80a8-4fc7-9bcd-74f537cd8cd8\"></div>\n",
       "</div>"
      ]
     },
     "metadata": {},
     "output_type": "display_data"
    },
    {
     "data": {
      "application/javascript": [
       "(function(root) {\n",
       "  function embed_document(root) {\n",
       "    \n",
       "  var docs_json = {\"31b10ef7-698a-4e4f-bfe8-b9bcb8054ce7\":{\"roots\":{\"references\":[{\"attributes\":{\"callback\":null,\"column_names\":[\"x\",\"y\"],\"data\":{\"x\":[1,2,3,4,5],\"y\":[2,5,8,2,7]}},\"id\":\"e5dfb597-e29f-4303-af63-9abffceee351\",\"type\":\"ColumnDataSource\"},{\"attributes\":{\"below\":[{\"id\":\"8614fc82-a253-4d33-8a65-375c8dda0311\",\"type\":\"LinearAxis\"}],\"left\":[{\"id\":\"c93d5ce1-3464-408e-9e77-307c1ab405a2\",\"type\":\"LinearAxis\"}],\"plot_height\":400,\"plot_width\":400,\"renderers\":[{\"id\":\"8614fc82-a253-4d33-8a65-375c8dda0311\",\"type\":\"LinearAxis\"},{\"id\":\"631b6154-492b-4e0a-8037-114599e5ae51\",\"type\":\"Grid\"},{\"id\":\"c93d5ce1-3464-408e-9e77-307c1ab405a2\",\"type\":\"LinearAxis\"},{\"id\":\"afe7c0d2-70e3-4991-911b-3d3798f90d87\",\"type\":\"Grid\"},{\"id\":\"63345685-af8e-4018-a201-931ddfcccba1\",\"type\":\"BoxAnnotation\"},{\"id\":\"1cff3db0-b931-4eac-bf84-4db4861e7943\",\"type\":\"GlyphRenderer\"}],\"title\":{\"id\":\"37e055ab-4240-4716-b090-f7751ce214df\",\"type\":\"Title\"},\"toolbar\":{\"id\":\"7c8ed651-234d-4726-bca9-617b5ff6f805\",\"type\":\"Toolbar\"},\"x_range\":{\"id\":\"c3182784-9c36-4c4e-97ce-bed67d39517a\",\"type\":\"DataRange1d\"},\"x_scale\":{\"id\":\"6bc0183c-532b-4b7b-a4db-2af25493d343\",\"type\":\"LinearScale\"},\"y_range\":{\"id\":\"ac4122c1-ebc4-490f-972f-91af950cfba1\",\"type\":\"DataRange1d\"},\"y_scale\":{\"id\":\"dbbaca6e-8cb7-45fc-abde-2e3657c750ef\",\"type\":\"LinearScale\"}},\"id\":\"0612be3b-03b6-45d8-a428-208763a437a4\",\"subtype\":\"Figure\",\"type\":\"Plot\"},{\"attributes\":{\"formatter\":{\"id\":\"aa2efddb-6b09-4476-aa3a-6c508ea7f655\",\"type\":\"BasicTickFormatter\"},\"plot\":{\"id\":\"0612be3b-03b6-45d8-a428-208763a437a4\",\"subtype\":\"Figure\",\"type\":\"Plot\"},\"ticker\":{\"id\":\"eb712211-5466-43de-b122-2f03624a3975\",\"type\":\"BasicTicker\"}},\"id\":\"8614fc82-a253-4d33-8a65-375c8dda0311\",\"type\":\"LinearAxis\"},{\"attributes\":{\"plot\":{\"id\":\"0612be3b-03b6-45d8-a428-208763a437a4\",\"subtype\":\"Figure\",\"type\":\"Plot\"},\"ticker\":{\"id\":\"eb712211-5466-43de-b122-2f03624a3975\",\"type\":\"BasicTicker\"}},\"id\":\"631b6154-492b-4e0a-8037-114599e5ae51\",\"type\":\"Grid\"},{\"attributes\":{},\"id\":\"dbbaca6e-8cb7-45fc-abde-2e3657c750ef\",\"type\":\"LinearScale\"},{\"attributes\":{\"source\":{\"id\":\"e5dfb597-e29f-4303-af63-9abffceee351\",\"type\":\"ColumnDataSource\"}},\"id\":\"89690740-fd31-4215-9955-030d965fa016\",\"type\":\"CDSView\"},{\"attributes\":{\"dimension\":1,\"plot\":{\"id\":\"0612be3b-03b6-45d8-a428-208763a437a4\",\"subtype\":\"Figure\",\"type\":\"Plot\"},\"ticker\":{\"id\":\"3a3ca3b0-f69a-408f-9af2-c0b7ef48baf4\",\"type\":\"BasicTicker\"}},\"id\":\"afe7c0d2-70e3-4991-911b-3d3798f90d87\",\"type\":\"Grid\"},{\"attributes\":{\"fill_alpha\":{\"value\":0.2},\"fill_color\":{\"value\":\"#1f77b4\"},\"line_color\":{\"value\":\"firebrick\"},\"line_dash\":[5,1],\"line_width\":{\"value\":2},\"size\":{\"units\":\"screen\",\"value\":50},\"x\":{\"field\":\"x\"},\"y\":{\"field\":\"y\"}},\"id\":\"2ef70a39-a113-4d9e-ac9d-6db75f2ec77b\",\"type\":\"Circle\"},{\"attributes\":{},\"id\":\"3a3ca3b0-f69a-408f-9af2-c0b7ef48baf4\",\"type\":\"BasicTicker\"},{\"attributes\":{\"formatter\":{\"id\":\"4ada6a0a-4900-4404-b423-270cfd0f75ed\",\"type\":\"BasicTickFormatter\"},\"plot\":{\"id\":\"0612be3b-03b6-45d8-a428-208763a437a4\",\"subtype\":\"Figure\",\"type\":\"Plot\"},\"ticker\":{\"id\":\"3a3ca3b0-f69a-408f-9af2-c0b7ef48baf4\",\"type\":\"BasicTicker\"}},\"id\":\"c93d5ce1-3464-408e-9e77-307c1ab405a2\",\"type\":\"LinearAxis\"},{\"attributes\":{},\"id\":\"eb712211-5466-43de-b122-2f03624a3975\",\"type\":\"BasicTicker\"},{\"attributes\":{},\"id\":\"7b7b3003-4d01-46f7-a81d-af2ba48c18fe\",\"type\":\"SaveTool\"},{\"attributes\":{},\"id\":\"f07a225d-b18e-4753-8cbc-477904b5c28d\",\"type\":\"ResetTool\"},{\"attributes\":{},\"id\":\"4ada6a0a-4900-4404-b423-270cfd0f75ed\",\"type\":\"BasicTickFormatter\"},{\"attributes\":{\"bottom_units\":\"screen\",\"fill_alpha\":{\"value\":0.5},\"fill_color\":{\"value\":\"lightgrey\"},\"left_units\":\"screen\",\"level\":\"overlay\",\"line_alpha\":{\"value\":1.0},\"line_color\":{\"value\":\"black\"},\"line_dash\":[4,4],\"line_width\":{\"value\":2},\"plot\":null,\"render_mode\":\"css\",\"right_units\":\"screen\",\"top_units\":\"screen\"},\"id\":\"63345685-af8e-4018-a201-931ddfcccba1\",\"type\":\"BoxAnnotation\"},{\"attributes\":{},\"id\":\"aa2efddb-6b09-4476-aa3a-6c508ea7f655\",\"type\":\"BasicTickFormatter\"},{\"attributes\":{},\"id\":\"14076ed9-18ee-4a55-af88-f8ea73c7c0d1\",\"type\":\"HelpTool\"},{\"attributes\":{},\"id\":\"6bc0183c-532b-4b7b-a4db-2af25493d343\",\"type\":\"LinearScale\"},{\"attributes\":{\"callback\":null},\"id\":\"ac4122c1-ebc4-490f-972f-91af950cfba1\",\"type\":\"DataRange1d\"},{\"attributes\":{\"overlay\":{\"id\":\"63345685-af8e-4018-a201-931ddfcccba1\",\"type\":\"BoxAnnotation\"}},\"id\":\"3a7611bc-a9b9-43a2-ac15-f4205c4c0248\",\"type\":\"BoxZoomTool\"},{\"attributes\":{},\"id\":\"1e37488e-c09d-488d-b161-bd952bb91856\",\"type\":\"WheelZoomTool\"},{\"attributes\":{\"data_source\":{\"id\":\"e5dfb597-e29f-4303-af63-9abffceee351\",\"type\":\"ColumnDataSource\"},\"glyph\":{\"id\":\"2ef70a39-a113-4d9e-ac9d-6db75f2ec77b\",\"type\":\"Circle\"},\"hover_glyph\":null,\"muted_glyph\":null,\"nonselection_glyph\":{\"id\":\"a6427516-7d8a-436b-b92e-88898fd2005a\",\"type\":\"Circle\"},\"selection_glyph\":null,\"view\":{\"id\":\"89690740-fd31-4215-9955-030d965fa016\",\"type\":\"CDSView\"}},\"id\":\"1cff3db0-b931-4eac-bf84-4db4861e7943\",\"type\":\"GlyphRenderer\"},{\"attributes\":{\"fill_alpha\":{\"value\":0.1},\"fill_color\":{\"value\":\"#1f77b4\"},\"line_alpha\":{\"value\":0.1},\"line_color\":{\"value\":\"#1f77b4\"},\"x\":{\"field\":\"x\"},\"y\":{\"field\":\"y\"}},\"id\":\"a6427516-7d8a-436b-b92e-88898fd2005a\",\"type\":\"Circle\"},{\"attributes\":{\"plot\":null,\"text\":\"\"},\"id\":\"37e055ab-4240-4716-b090-f7751ce214df\",\"type\":\"Title\"},{\"attributes\":{\"callback\":null},\"id\":\"c3182784-9c36-4c4e-97ce-bed67d39517a\",\"type\":\"DataRange1d\"},{\"attributes\":{},\"id\":\"00173673-b696-4ce8-bba9-618a962b9641\",\"type\":\"PanTool\"},{\"attributes\":{\"active_drag\":\"auto\",\"active_inspect\":\"auto\",\"active_scroll\":\"auto\",\"active_tap\":\"auto\",\"tools\":[{\"id\":\"00173673-b696-4ce8-bba9-618a962b9641\",\"type\":\"PanTool\"},{\"id\":\"1e37488e-c09d-488d-b161-bd952bb91856\",\"type\":\"WheelZoomTool\"},{\"id\":\"3a7611bc-a9b9-43a2-ac15-f4205c4c0248\",\"type\":\"BoxZoomTool\"},{\"id\":\"7b7b3003-4d01-46f7-a81d-af2ba48c18fe\",\"type\":\"SaveTool\"},{\"id\":\"f07a225d-b18e-4753-8cbc-477904b5c28d\",\"type\":\"ResetTool\"},{\"id\":\"14076ed9-18ee-4a55-af88-f8ea73c7c0d1\",\"type\":\"HelpTool\"}]},\"id\":\"7c8ed651-234d-4726-bca9-617b5ff6f805\",\"type\":\"Toolbar\"}],\"root_ids\":[\"0612be3b-03b6-45d8-a428-208763a437a4\"]},\"title\":\"Bokeh Application\",\"version\":\"0.12.13\"}};\n",
       "  var render_items = [{\"docid\":\"31b10ef7-698a-4e4f-bfe8-b9bcb8054ce7\",\"elementid\":\"533e467d-80a8-4fc7-9bcd-74f537cd8cd8\",\"modelid\":\"0612be3b-03b6-45d8-a428-208763a437a4\"}];\n",
       "  root.Bokeh.embed.embed_items_notebook(docs_json, render_items);\n",
       "\n",
       "  }\n",
       "  if (root.Bokeh !== undefined) {\n",
       "    embed_document(root);\n",
       "  } else {\n",
       "    var attempts = 0;\n",
       "    var timer = setInterval(function(root) {\n",
       "      if (root.Bokeh !== undefined) {\n",
       "        embed_document(root);\n",
       "        clearInterval(timer);\n",
       "      }\n",
       "      attempts++;\n",
       "      if (attempts > 100) {\n",
       "        console.log(\"Bokeh: ERROR: Unable to run BokehJS code because BokehJS library is missing\")\n",
       "        clearInterval(timer);\n",
       "      }\n",
       "    }, 10, root)\n",
       "  }\n",
       "})(window);"
      ],
      "application/vnd.bokehjs_exec.v0+json": ""
     },
     "metadata": {
      "application/vnd.bokehjs_exec.v0+json": {
       "id": "0612be3b-03b6-45d8-a428-208763a437a4"
      }
     },
     "output_type": "display_data"
    }
   ],
   "source": [
    "p = figure(plot_width=400, plot_height=400)\n",
    "\n",
    "# keep a reference to the returned GlyphRenderer\n",
    "r = p.circle([1,2,3,4,5], [2,5,8,2,7])\n",
    "\n",
    "r.glyph.size = 50\n",
    "r.glyph.fill_alpha = 0.2\n",
    "r.glyph.line_color = \"firebrick\"\n",
    "r.glyph.line_dash = [5, 1]\n",
    "r.glyph.line_width = 2\n",
    "\n",
    "show(p)"
   ]
  },
  {
   "cell_type": "markdown",
   "metadata": {},
   "source": [
    "### Selection and non-selection visuals\n",
    "\n",
    "You can also control how glyphs look when there are selections involved. The set of \"selected\" points is displayed according to the optional `.selection_glyph` property of a `GlyphRenderer`:\n",
    "```python\n",
    "r.selection_glyph = Circle(fill_alpha=1, fill_color=\"firebrick\", line_color=None) \n",
    "```\n",
    "When there is a non-empty selection, the set of \"unselected: points is displayed according to the optional  `.nonselection_glyph` property of a `GlyphRenderer`:\n",
    "```python\n",
    "r.nonselection_glyph = Circle(fill_alpha=0.2, fill_color=\"grey\", line_color=None) \n",
    "```\n",
    "\n",
    "When using the `bokeh.plotting` interface, it is easier to pass these visual properties to the glyph methods as shown below. The glyph method will create the selection or nonselection glyphs and attach them to the renderer for you. "
   ]
  },
  {
   "cell_type": "code",
   "execution_count": 16,
   "metadata": {},
   "outputs": [
    {
     "data": {
      "text/html": [
       "\n",
       "<div class=\"bk-root\">\n",
       "    <div class=\"bk-plotdiv\" id=\"47dcdc64-e2b7-4674-9b2b-ca44ada70341\"></div>\n",
       "</div>"
      ]
     },
     "metadata": {},
     "output_type": "display_data"
    },
    {
     "data": {
      "application/javascript": [
       "(function(root) {\n",
       "  function embed_document(root) {\n",
       "    \n",
       "  var docs_json = {\"c45daaa0-1a8e-4020-8a59-916e91b47f1a\":{\"roots\":{\"references\":[{\"attributes\":{\"callback\":null},\"id\":\"95c6df8d-3d74-488b-9f87-334ad1881133\",\"type\":\"TapTool\"},{\"attributes\":{\"callback\":null},\"id\":\"3e1cc324-9571-45f3-b81b-a74af7a1d210\",\"type\":\"DataRange1d\"},{\"attributes\":{},\"id\":\"efc31aa7-d16e-4f49-bdcb-9a07dc068fca\",\"type\":\"BasicTickFormatter\"},{\"attributes\":{},\"id\":\"1388620b-9364-4efa-9b24-81fd927f68a1\",\"type\":\"BasicTickFormatter\"},{\"attributes\":{\"callback\":null,\"column_names\":[\"x\",\"y\"],\"data\":{\"x\":[1,2,3,4,5],\"y\":[2,5,8,2,7]}},\"id\":\"04cc2553-115a-42cd-8210-3de86e386e37\",\"type\":\"ColumnDataSource\"},{\"attributes\":{\"source\":{\"id\":\"04cc2553-115a-42cd-8210-3de86e386e37\",\"type\":\"ColumnDataSource\"}},\"id\":\"bfae085f-2b81-438d-ab99-dcf8e9f9ad3d\",\"type\":\"CDSView\"},{\"attributes\":{},\"id\":\"ac5843a1-c507-4ab1-a2f6-5ef18b6ba3c1\",\"type\":\"BasicTicker\"},{\"attributes\":{\"plot\":null,\"text\":\"Select a circle\"},\"id\":\"05684ecf-41c1-44a2-b40f-69d12c7d118f\",\"type\":\"Title\"},{\"attributes\":{\"below\":[{\"id\":\"be3df634-7a79-4483-be73-c1e6b8a6ad3b\",\"type\":\"LinearAxis\"}],\"left\":[{\"id\":\"0ff61fa5-c72b-4771-8009-27d93df92b50\",\"type\":\"LinearAxis\"}],\"plot_height\":400,\"plot_width\":400,\"renderers\":[{\"id\":\"be3df634-7a79-4483-be73-c1e6b8a6ad3b\",\"type\":\"LinearAxis\"},{\"id\":\"b70c65b7-5c37-4e0f-999b-119641c6e327\",\"type\":\"Grid\"},{\"id\":\"0ff61fa5-c72b-4771-8009-27d93df92b50\",\"type\":\"LinearAxis\"},{\"id\":\"6c03ddc7-2594-4527-a0b0-a4a7fedb6d6e\",\"type\":\"Grid\"},{\"id\":\"ae9f5a2c-b233-4250-8e19-4b96f23d543c\",\"type\":\"GlyphRenderer\"}],\"title\":{\"id\":\"05684ecf-41c1-44a2-b40f-69d12c7d118f\",\"type\":\"Title\"},\"toolbar\":{\"id\":\"31c366da-c75d-43e0-8836-a0eb1e46b3cb\",\"type\":\"Toolbar\"},\"x_range\":{\"id\":\"3e1cc324-9571-45f3-b81b-a74af7a1d210\",\"type\":\"DataRange1d\"},\"x_scale\":{\"id\":\"d1c2e6d6-0e8b-41ec-a344-32b60bac9198\",\"type\":\"LinearScale\"},\"y_range\":{\"id\":\"6c29ecc9-385a-4581-9c8c-d2fbcc4f16d6\",\"type\":\"DataRange1d\"},\"y_scale\":{\"id\":\"7f309fd1-ae84-4b1b-953b-8e0be3adf546\",\"type\":\"LinearScale\"}},\"id\":\"05e9f080-82dc-4650-9ce2-051971a453c0\",\"subtype\":\"Figure\",\"type\":\"Plot\"},{\"attributes\":{\"fill_alpha\":{\"value\":0.2},\"fill_color\":{\"value\":\"grey\"},\"line_color\":{\"value\":\"firebrick\"},\"size\":{\"units\":\"screen\",\"value\":50},\"x\":{\"field\":\"x\"},\"y\":{\"field\":\"y\"}},\"id\":\"c7712ba9-0500-4a15-b3d7-67edc16eadab\",\"type\":\"Circle\"},{\"attributes\":{\"fill_color\":{\"value\":\"firebrick\"},\"line_color\":{\"value\":\"firebrick\"},\"size\":{\"units\":\"screen\",\"value\":50},\"x\":{\"field\":\"x\"},\"y\":{\"field\":\"y\"}},\"id\":\"fa72d219-3fbe-4d9a-84ff-d5de6c445a1a\",\"type\":\"Circle\"},{\"attributes\":{},\"id\":\"d1c2e6d6-0e8b-41ec-a344-32b60bac9198\",\"type\":\"LinearScale\"},{\"attributes\":{\"data_source\":{\"id\":\"04cc2553-115a-42cd-8210-3de86e386e37\",\"type\":\"ColumnDataSource\"},\"glyph\":{\"id\":\"7b5b5c58-d31a-4aeb-8859-0608bc409777\",\"type\":\"Circle\"},\"hover_glyph\":null,\"muted_glyph\":null,\"nonselection_glyph\":{\"id\":\"c7712ba9-0500-4a15-b3d7-67edc16eadab\",\"type\":\"Circle\"},\"selection_glyph\":{\"id\":\"fa72d219-3fbe-4d9a-84ff-d5de6c445a1a\",\"type\":\"Circle\"},\"view\":{\"id\":\"bfae085f-2b81-438d-ab99-dcf8e9f9ad3d\",\"type\":\"CDSView\"}},\"id\":\"ae9f5a2c-b233-4250-8e19-4b96f23d543c\",\"type\":\"GlyphRenderer\"},{\"attributes\":{\"callback\":null},\"id\":\"6c29ecc9-385a-4581-9c8c-d2fbcc4f16d6\",\"type\":\"DataRange1d\"},{\"attributes\":{\"plot\":{\"id\":\"05e9f080-82dc-4650-9ce2-051971a453c0\",\"subtype\":\"Figure\",\"type\":\"Plot\"},\"ticker\":{\"id\":\"6f91e039-552c-4acf-ba43-8ed5732ea705\",\"type\":\"BasicTicker\"}},\"id\":\"b70c65b7-5c37-4e0f-999b-119641c6e327\",\"type\":\"Grid\"},{\"attributes\":{\"formatter\":{\"id\":\"efc31aa7-d16e-4f49-bdcb-9a07dc068fca\",\"type\":\"BasicTickFormatter\"},\"plot\":{\"id\":\"05e9f080-82dc-4650-9ce2-051971a453c0\",\"subtype\":\"Figure\",\"type\":\"Plot\"},\"ticker\":{\"id\":\"ac5843a1-c507-4ab1-a2f6-5ef18b6ba3c1\",\"type\":\"BasicTicker\"}},\"id\":\"0ff61fa5-c72b-4771-8009-27d93df92b50\",\"type\":\"LinearAxis\"},{\"attributes\":{},\"id\":\"7f309fd1-ae84-4b1b-953b-8e0be3adf546\",\"type\":\"LinearScale\"},{\"attributes\":{\"fill_color\":{\"value\":\"#1f77b4\"},\"line_color\":{\"value\":\"#1f77b4\"},\"size\":{\"units\":\"screen\",\"value\":50},\"x\":{\"field\":\"x\"},\"y\":{\"field\":\"y\"}},\"id\":\"7b5b5c58-d31a-4aeb-8859-0608bc409777\",\"type\":\"Circle\"},{\"attributes\":{\"active_drag\":\"auto\",\"active_inspect\":\"auto\",\"active_scroll\":\"auto\",\"active_tap\":\"auto\",\"tools\":[{\"id\":\"95c6df8d-3d74-488b-9f87-334ad1881133\",\"type\":\"TapTool\"}]},\"id\":\"31c366da-c75d-43e0-8836-a0eb1e46b3cb\",\"type\":\"Toolbar\"},{\"attributes\":{},\"id\":\"6f91e039-552c-4acf-ba43-8ed5732ea705\",\"type\":\"BasicTicker\"},{\"attributes\":{\"dimension\":1,\"plot\":{\"id\":\"05e9f080-82dc-4650-9ce2-051971a453c0\",\"subtype\":\"Figure\",\"type\":\"Plot\"},\"ticker\":{\"id\":\"ac5843a1-c507-4ab1-a2f6-5ef18b6ba3c1\",\"type\":\"BasicTicker\"}},\"id\":\"6c03ddc7-2594-4527-a0b0-a4a7fedb6d6e\",\"type\":\"Grid\"},{\"attributes\":{\"formatter\":{\"id\":\"1388620b-9364-4efa-9b24-81fd927f68a1\",\"type\":\"BasicTickFormatter\"},\"plot\":{\"id\":\"05e9f080-82dc-4650-9ce2-051971a453c0\",\"subtype\":\"Figure\",\"type\":\"Plot\"},\"ticker\":{\"id\":\"6f91e039-552c-4acf-ba43-8ed5732ea705\",\"type\":\"BasicTicker\"}},\"id\":\"be3df634-7a79-4483-be73-c1e6b8a6ad3b\",\"type\":\"LinearAxis\"}],\"root_ids\":[\"05e9f080-82dc-4650-9ce2-051971a453c0\"]},\"title\":\"Bokeh Application\",\"version\":\"0.12.13\"}};\n",
       "  var render_items = [{\"docid\":\"c45daaa0-1a8e-4020-8a59-916e91b47f1a\",\"elementid\":\"47dcdc64-e2b7-4674-9b2b-ca44ada70341\",\"modelid\":\"05e9f080-82dc-4650-9ce2-051971a453c0\"}];\n",
       "  root.Bokeh.embed.embed_items_notebook(docs_json, render_items);\n",
       "\n",
       "  }\n",
       "  if (root.Bokeh !== undefined) {\n",
       "    embed_document(root);\n",
       "  } else {\n",
       "    var attempts = 0;\n",
       "    var timer = setInterval(function(root) {\n",
       "      if (root.Bokeh !== undefined) {\n",
       "        embed_document(root);\n",
       "        clearInterval(timer);\n",
       "      }\n",
       "      attempts++;\n",
       "      if (attempts > 100) {\n",
       "        console.log(\"Bokeh: ERROR: Unable to run BokehJS code because BokehJS library is missing\")\n",
       "        clearInterval(timer);\n",
       "      }\n",
       "    }, 10, root)\n",
       "  }\n",
       "})(window);"
      ],
      "application/vnd.bokehjs_exec.v0+json": ""
     },
     "metadata": {
      "application/vnd.bokehjs_exec.v0+json": {
       "id": "05e9f080-82dc-4650-9ce2-051971a453c0"
      }
     },
     "output_type": "display_data"
    }
   ],
   "source": [
    "p = figure(plot_width=400, plot_height=400, tools=\"tap\", title=\"Select a circle\")\n",
    "renderer = p.circle([1, 2, 3, 4, 5], [2, 5, 8, 2, 7], size=50,\n",
    "\n",
    "                    # set visual properties for selected glyphs\n",
    "                    selection_color=\"firebrick\",\n",
    "\n",
    "                    # set visual properties for non-selected glyphs\n",
    "                    nonselection_fill_alpha=0.2,\n",
    "                    nonselection_fill_color=\"grey\",\n",
    "                    nonselection_line_color=\"firebrick\",\n",
    "                    nonselection_line_alpha=1.0)\n",
    "\n",
    "show(p)"
   ]
  },
  {
   "cell_type": "markdown",
   "metadata": {},
   "source": [
    "It is also possible to specify the visual appearance of glyphs when they are \"inspected\", e.g. by a hover tool. This is accomplished by setting an optional `hover_glyph` on the glyph renderer:\n",
    "```python\n",
    "r.hover_glyph = Circle(fill_alpha=1, fill_color=\"firebrick\", line_color=None) \n",
    "```\n",
    "Or if using `bokeh.plotting` glyph methods, by passing `hover_fill_alpha`, etc. to the glyph method. Lets look at an example that works together with a `HoverTool` configured for \"hline\" hit-testing."
   ]
  },
  {
   "cell_type": "code",
   "execution_count": 17,
   "metadata": {},
   "outputs": [
    {
     "data": {
      "text/html": [
       "\n",
       "<div class=\"bk-root\">\n",
       "    <div class=\"bk-plotdiv\" id=\"7a46ffb3-1a98-40d1-8864-81d6d6407def\"></div>\n",
       "</div>"
      ]
     },
     "metadata": {},
     "output_type": "display_data"
    },
    {
     "data": {
      "application/javascript": [
       "(function(root) {\n",
       "  function embed_document(root) {\n",
       "    \n",
       "  var docs_json = {\"daeb0bf9-9f06-4130-8157-42b97018f82d\":{\"roots\":{\"references\":[{\"attributes\":{\"days\":[1,15]},\"id\":\"d3df7ddd-4c9a-4f67-95b6-ec5b0a173037\",\"type\":\"DaysTicker\"},{\"attributes\":{\"callback\":null,\"column_names\":[\"x\",\"y\"],\"data\":{\"x\":{\"__ndarray__\":\"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\",\"dtype\":\"float64\",\"shape\":[288]},\"y\":[143,147,150,152,152,152,154,155,142,140,138,134,131,130,128,127,126,126,126,126,127,129,131,132,134,136,136,136,136,135,134,132,130,130,130,129,128,127,125,124,123,123,122,121,120,118,115,112,111,111,110,110,109,108,107,107,107,108,107,105,105,105,105,104,103,102,99,97,96,94,94,93,93,92,91,92,94,95,96,97,99,102,104,112,112,112,111,110,107,104,105,105,103,99,96,94,95,102,114,128,144,160,173,185,196,205,209,214,219,226,234,241,248,255,260,265,268,270,272,271,271,268,265,261,256,253,250,246,244,241,237,233,229,225,222,204,200,197,193,190,186,182,179,175,171,168,164,158,154,151,148,145,141,133,139,152,173,196,217,233,244,249,250,253,256,260,263,265,265,264,260,254,246,234,217,200,188,181,175,169,164,159,154,147,138,132,129,127,123,117,111,106,104,103,100,94,88,83,78,75,73,71,69,68,67,67,68,70,71,71,70,69,68,67,67,67,66,67,69,71,74,76,78,80,80,80,80,80,80,82,84,87,90,92,87,87,86,86,86,86,87,87,87,85,83,82,83,87,95,107,118,130,141,149,172,179,187,201,214,221,225,230,232,230,223,216,208,199,191,185,181,177,176,177,176,173,171,169,163,154,152,153,154,154,153,151,150,150]}},\"id\":\"dc9ce825-b7cd-4588-9040-0270946c6226\",\"type\":\"ColumnDataSource\"},{\"attributes\":{\"days\":[1,4,7,10,13,16,19,22,25,28]},\"id\":\"d9958ec1-b4c9-45e7-9d9b-252cfa31a386\",\"type\":\"DaysTicker\"},{\"attributes\":{\"days\":[1,8,15,22]},\"id\":\"fa0e16b8-f7c7-420c-ab13-b141ea8c6c1c\",\"type\":\"DaysTicker\"},{\"attributes\":{},\"id\":\"457d58a6-e5c1-4123-89d7-15072dfef8e5\",\"type\":\"LinearScale\"},{\"attributes\":{\"base\":24,\"mantissas\":[1,2,4,6,8,12],\"max_interval\":43200000.0,\"min_interval\":3600000.0,\"num_minor_ticks\":0},\"id\":\"723fc1ee-d4fb-401c-9c3c-67012a650ba8\",\"type\":\"AdaptiveTicker\"},{\"attributes\":{\"callback\":null},\"id\":\"e66229c2-3ac6-4e91-a85a-990dee3403c7\",\"type\":\"DataRange1d\"},{\"attributes\":{\"months\":[0,1,2,3,4,5,6,7,8,9,10,11]},\"id\":\"93e4e2b2-ff1a-483b-8f0f-47b2542eb4fa\",\"type\":\"MonthsTicker\"},{\"attributes\":{\"below\":[{\"id\":\"a3cdc43e-d99b-43ea-966f-e4783fa2d379\",\"type\":\"DatetimeAxis\"}],\"left\":[{\"id\":\"73235b41-2a61-4475-beee-390acabc080b\",\"type\":\"LinearAxis\"}],\"plot_height\":300,\"renderers\":[{\"id\":\"a3cdc43e-d99b-43ea-966f-e4783fa2d379\",\"type\":\"DatetimeAxis\"},{\"id\":\"12e0da73-b453-4621-aefe-9f1fc0ae1bd0\",\"type\":\"Grid\"},{\"id\":\"73235b41-2a61-4475-beee-390acabc080b\",\"type\":\"LinearAxis\"},{\"id\":\"3870bd15-5873-4d37-929b-4af45b906b13\",\"type\":\"Grid\"},{\"id\":\"59ce1bda-aea3-4610-8566-b74748842a19\",\"type\":\"BoxAnnotation\"},{\"id\":\"c49c6d8f-c211-4945-9c5d-938ea8b3e759\",\"type\":\"GlyphRenderer\"},{\"id\":\"a8f44fc7-50bb-4f33-bedf-ce15520c7cca\",\"type\":\"GlyphRenderer\"}],\"title\":{\"id\":\"5df4125a-c2b1-4691-ba86-fb593028771d\",\"type\":\"Title\"},\"toolbar\":{\"id\":\"4dfbb420-d16c-460b-a8fe-5b9f383f3bde\",\"type\":\"Toolbar\"},\"x_range\":{\"id\":\"bf626f1f-09cf-4dd0-a911-8e365cc2f565\",\"type\":\"DataRange1d\"},\"x_scale\":{\"id\":\"457d58a6-e5c1-4123-89d7-15072dfef8e5\",\"type\":\"LinearScale\"},\"y_range\":{\"id\":\"e66229c2-3ac6-4e91-a85a-990dee3403c7\",\"type\":\"DataRange1d\"},\"y_scale\":{\"id\":\"33c2586b-911b-4f13-a60c-8fc76543dcaa\",\"type\":\"LinearScale\"}},\"id\":\"b902ff34-cccc-46ff-9a93-41b92988a91e\",\"subtype\":\"Figure\",\"type\":\"Plot\"},{\"attributes\":{\"months\":[0,2,4,6,8,10]},\"id\":\"f9241938-705e-43dc-984a-e745a6850b4d\",\"type\":\"MonthsTicker\"},{\"attributes\":{\"plot\":null,\"text\":\"Hover over points\"},\"id\":\"5df4125a-c2b1-4691-ba86-fb593028771d\",\"type\":\"Title\"},{\"attributes\":{\"months\":[0,4,8]},\"id\":\"e4c05927-14d5-4afa-a2db-e3cfaa401584\",\"type\":\"MonthsTicker\"},{\"attributes\":{\"plot\":{\"id\":\"b902ff34-cccc-46ff-9a93-41b92988a91e\",\"subtype\":\"Figure\",\"type\":\"Plot\"},\"ticker\":{\"id\":\"c5398227-db5e-4f1a-b087-7d929adc3e1a\",\"type\":\"DatetimeTicker\"}},\"id\":\"12e0da73-b453-4621-aefe-9f1fc0ae1bd0\",\"type\":\"Grid\"},{\"attributes\":{\"months\":[0,6]},\"id\":\"aa8787e7-a0fc-4386-b2e1-5507493cc8f1\",\"type\":\"MonthsTicker\"},{\"attributes\":{\"data_source\":{\"id\":\"dc9ce825-b7cd-4588-9040-0270946c6226\",\"type\":\"ColumnDataSource\"},\"glyph\":{\"id\":\"2587ae13-7dc6-44f8-b5b5-527f3dcbc334\",\"type\":\"Line\"},\"hover_glyph\":null,\"muted_glyph\":null,\"nonselection_glyph\":{\"id\":\"a1de53c0-627f-463c-a9a1-4957e63ea9b0\",\"type\":\"Line\"},\"selection_glyph\":null,\"view\":{\"id\":\"e509d02a-aa77-494e-9ae2-fc75015c91ff\",\"type\":\"CDSView\"}},\"id\":\"c49c6d8f-c211-4945-9c5d-938ea8b3e759\",\"type\":\"GlyphRenderer\"},{\"attributes\":{\"line_color\":\"gray\",\"line_dash\":[4,4],\"x\":{\"field\":\"x\"},\"y\":{\"field\":\"y\"}},\"id\":\"2587ae13-7dc6-44f8-b5b5-527f3dcbc334\",\"type\":\"Line\"},{\"attributes\":{},\"id\":\"94df6828-9187-4518-91f3-ecc543c4f445\",\"type\":\"YearsTicker\"},{\"attributes\":{},\"id\":\"33c2586b-911b-4f13-a60c-8fc76543dcaa\",\"type\":\"LinearScale\"},{\"attributes\":{\"formatter\":{\"id\":\"b865f268-984d-4903-93a5-c79aa70ebb96\",\"type\":\"DatetimeTickFormatter\"},\"plot\":{\"id\":\"b902ff34-cccc-46ff-9a93-41b92988a91e\",\"subtype\":\"Figure\",\"type\":\"Plot\"},\"ticker\":{\"id\":\"c5398227-db5e-4f1a-b087-7d929adc3e1a\",\"type\":\"DatetimeTicker\"}},\"id\":\"a3cdc43e-d99b-43ea-966f-e4783fa2d379\",\"type\":\"DatetimeAxis\"},{\"attributes\":{\"callback\":null},\"id\":\"bf626f1f-09cf-4dd0-a911-8e365cc2f565\",\"type\":\"DataRange1d\"},{\"attributes\":{\"active_drag\":\"auto\",\"active_inspect\":\"auto\",\"active_scroll\":\"auto\",\"active_tap\":\"auto\",\"tools\":[{\"id\":\"388a143c-de5c-4c02-8bf1-6bf5f342d219\",\"type\":\"PanTool\"},{\"id\":\"6bc7cb34-6271-4f3f-a6c4-21482c907d0a\",\"type\":\"WheelZoomTool\"},{\"id\":\"9bf76189-1259-4304-9974-b4aa036c7ecb\",\"type\":\"BoxZoomTool\"},{\"id\":\"660b47c0-2902-4335-aa9d-2df3a7d6d222\",\"type\":\"SaveTool\"},{\"id\":\"7f58c8bb-acae-4e38-a31e-c65aaccdfe6f\",\"type\":\"ResetTool\"},{\"id\":\"edfc32ca-d5ac-4209-9518-e583da95c176\",\"type\":\"HelpTool\"},{\"id\":\"e711cae5-30bc-477c-9c6a-d1127a233687\",\"type\":\"HoverTool\"}]},\"id\":\"4dfbb420-d16c-460b-a8fe-5b9f383f3bde\",\"type\":\"Toolbar\"},{\"attributes\":{},\"id\":\"16760dbd-4a05-44c8-b9f5-8ed87f17fe3d\",\"type\":\"BasicTicker\"},{\"attributes\":{\"fill_alpha\":{\"value\":0.1},\"fill_color\":{\"value\":\"#1f77b4\"},\"line_alpha\":{\"value\":0.1},\"line_color\":{\"value\":\"#1f77b4\"},\"size\":{\"units\":\"screen\",\"value\":20},\"x\":{\"field\":\"x\"},\"y\":{\"field\":\"y\"}},\"id\":\"6097744a-c21b-4e87-a51b-937b10791a97\",\"type\":\"Circle\"},{\"attributes\":{\"dimension\":1,\"plot\":{\"id\":\"b902ff34-cccc-46ff-9a93-41b92988a91e\",\"subtype\":\"Figure\",\"type\":\"Plot\"},\"ticker\":{\"id\":\"16760dbd-4a05-44c8-b9f5-8ed87f17fe3d\",\"type\":\"BasicTicker\"}},\"id\":\"3870bd15-5873-4d37-929b-4af45b906b13\",\"type\":\"Grid\"},{\"attributes\":{\"num_minor_ticks\":5,\"tickers\":[{\"id\":\"1b13b11f-d5a8-45a1-9e9f-f0ea0cef2962\",\"type\":\"AdaptiveTicker\"},{\"id\":\"ee3fca97-bb2d-46e7-ad28-10ce32b440d8\",\"type\":\"AdaptiveTicker\"},{\"id\":\"723fc1ee-d4fb-401c-9c3c-67012a650ba8\",\"type\":\"AdaptiveTicker\"},{\"id\":\"a2e2736e-0089-419e-b621-29c84301e73f\",\"type\":\"DaysTicker\"},{\"id\":\"d9958ec1-b4c9-45e7-9d9b-252cfa31a386\",\"type\":\"DaysTicker\"},{\"id\":\"fa0e16b8-f7c7-420c-ab13-b141ea8c6c1c\",\"type\":\"DaysTicker\"},{\"id\":\"d3df7ddd-4c9a-4f67-95b6-ec5b0a173037\",\"type\":\"DaysTicker\"},{\"id\":\"93e4e2b2-ff1a-483b-8f0f-47b2542eb4fa\",\"type\":\"MonthsTicker\"},{\"id\":\"f9241938-705e-43dc-984a-e745a6850b4d\",\"type\":\"MonthsTicker\"},{\"id\":\"e4c05927-14d5-4afa-a2db-e3cfaa401584\",\"type\":\"MonthsTicker\"},{\"id\":\"aa8787e7-a0fc-4386-b2e1-5507493cc8f1\",\"type\":\"MonthsTicker\"},{\"id\":\"94df6828-9187-4518-91f3-ecc543c4f445\",\"type\":\"YearsTicker\"}]},\"id\":\"c5398227-db5e-4f1a-b087-7d929adc3e1a\",\"type\":\"DatetimeTicker\"},{\"attributes\":{\"formatter\":{\"id\":\"dc465607-da65-48a1-8ade-0c53dc5bb8b8\",\"type\":\"BasicTickFormatter\"},\"plot\":{\"id\":\"b902ff34-cccc-46ff-9a93-41b92988a91e\",\"subtype\":\"Figure\",\"type\":\"Plot\"},\"ticker\":{\"id\":\"16760dbd-4a05-44c8-b9f5-8ed87f17fe3d\",\"type\":\"BasicTicker\"}},\"id\":\"73235b41-2a61-4475-beee-390acabc080b\",\"type\":\"LinearAxis\"},{\"attributes\":{\"source\":{\"id\":\"dc9ce825-b7cd-4588-9040-0270946c6226\",\"type\":\"ColumnDataSource\"}},\"id\":\"e509d02a-aa77-494e-9ae2-fc75015c91ff\",\"type\":\"CDSView\"},{\"attributes\":{},\"id\":\"dc465607-da65-48a1-8ade-0c53dc5bb8b8\",\"type\":\"BasicTickFormatter\"},{\"attributes\":{\"line_alpha\":0.1,\"line_color\":\"#1f77b4\",\"line_dash\":[4,4],\"x\":{\"field\":\"x\"},\"y\":{\"field\":\"y\"}},\"id\":\"a1de53c0-627f-463c-a9a1-4957e63ea9b0\",\"type\":\"Line\"},{\"attributes\":{\"bottom_units\":\"screen\",\"fill_alpha\":{\"value\":0.5},\"fill_color\":{\"value\":\"lightgrey\"},\"left_units\":\"screen\",\"level\":\"overlay\",\"line_alpha\":{\"value\":1.0},\"line_color\":{\"value\":\"black\"},\"line_dash\":[4,4],\"line_width\":{\"value\":2},\"plot\":null,\"render_mode\":\"css\",\"right_units\":\"screen\",\"top_units\":\"screen\"},\"id\":\"59ce1bda-aea3-4610-8566-b74748842a19\",\"type\":\"BoxAnnotation\"},{\"attributes\":{\"callback\":null,\"mode\":\"hline\",\"renderers\":[{\"id\":\"a8f44fc7-50bb-4f33-bedf-ce15520c7cca\",\"type\":\"GlyphRenderer\"}],\"tooltips\":null},\"id\":\"e711cae5-30bc-477c-9c6a-d1127a233687\",\"type\":\"HoverTool\"},{\"attributes\":{},\"id\":\"388a143c-de5c-4c02-8bf1-6bf5f342d219\",\"type\":\"PanTool\"},{\"attributes\":{\"callback\":null,\"column_names\":[\"x\",\"y\"],\"data\":{\"x\":{\"__ndarray__\":\"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\",\"dtype\":\"float64\",\"shape\":[288]},\"y\":[143,147,150,152,152,152,154,155,142,140,138,134,131,130,128,127,126,126,126,126,127,129,131,132,134,136,136,136,136,135,134,132,130,130,130,129,128,127,125,124,123,123,122,121,120,118,115,112,111,111,110,110,109,108,107,107,107,108,107,105,105,105,105,104,103,102,99,97,96,94,94,93,93,92,91,92,94,95,96,97,99,102,104,112,112,112,111,110,107,104,105,105,103,99,96,94,95,102,114,128,144,160,173,185,196,205,209,214,219,226,234,241,248,255,260,265,268,270,272,271,271,268,265,261,256,253,250,246,244,241,237,233,229,225,222,204,200,197,193,190,186,182,179,175,171,168,164,158,154,151,148,145,141,133,139,152,173,196,217,233,244,249,250,253,256,260,263,265,265,264,260,254,246,234,217,200,188,181,175,169,164,159,154,147,138,132,129,127,123,117,111,106,104,103,100,94,88,83,78,75,73,71,69,68,67,67,68,70,71,71,70,69,68,67,67,67,66,67,69,71,74,76,78,80,80,80,80,80,80,82,84,87,90,92,87,87,86,86,86,86,87,87,87,85,83,82,83,87,95,107,118,130,141,149,172,179,187,201,214,221,225,230,232,230,223,216,208,199,191,185,181,177,176,177,176,173,171,169,163,154,152,153,154,154,153,151,150,150]}},\"id\":\"ad7be491-7695-48fb-ad53-410d2def8000\",\"type\":\"ColumnDataSource\"},{\"attributes\":{\"base\":60,\"mantissas\":[1,2,5,10,15,20,30],\"max_interval\":1800000.0,\"min_interval\":1000.0,\"num_minor_ticks\":0},\"id\":\"ee3fca97-bb2d-46e7-ad28-10ce32b440d8\",\"type\":\"AdaptiveTicker\"},{\"attributes\":{},\"id\":\"6bc7cb34-6271-4f3f-a6c4-21482c907d0a\",\"type\":\"WheelZoomTool\"},{\"attributes\":{\"data_source\":{\"id\":\"ad7be491-7695-48fb-ad53-410d2def8000\",\"type\":\"ColumnDataSource\"},\"glyph\":{\"id\":\"c5a36dc8-0641-4a54-9fe0-df6fd375c875\",\"type\":\"Circle\"},\"hover_glyph\":{\"id\":\"864fffcb-c6ae-4460-ae5c-65ce43089cb4\",\"type\":\"Circle\"},\"muted_glyph\":null,\"nonselection_glyph\":{\"id\":\"6097744a-c21b-4e87-a51b-937b10791a97\",\"type\":\"Circle\"},\"selection_glyph\":null,\"view\":{\"id\":\"0e570128-349f-4734-b5eb-ea00c53141cf\",\"type\":\"CDSView\"}},\"id\":\"a8f44fc7-50bb-4f33-bedf-ce15520c7cca\",\"type\":\"GlyphRenderer\"},{\"attributes\":{\"overlay\":{\"id\":\"59ce1bda-aea3-4610-8566-b74748842a19\",\"type\":\"BoxAnnotation\"}},\"id\":\"9bf76189-1259-4304-9974-b4aa036c7ecb\",\"type\":\"BoxZoomTool\"},{\"attributes\":{},\"id\":\"660b47c0-2902-4335-aa9d-2df3a7d6d222\",\"type\":\"SaveTool\"},{\"attributes\":{\"fill_alpha\":{\"value\":0.3},\"fill_color\":{\"value\":\"firebrick\"},\"line_alpha\":{\"value\":0.3},\"line_color\":{\"value\":\"white\"},\"size\":{\"units\":\"screen\",\"value\":20},\"x\":{\"field\":\"x\"},\"y\":{\"field\":\"y\"}},\"id\":\"864fffcb-c6ae-4460-ae5c-65ce43089cb4\",\"type\":\"Circle\"},{\"attributes\":{},\"id\":\"7f58c8bb-acae-4e38-a31e-c65aaccdfe6f\",\"type\":\"ResetTool\"},{\"attributes\":{},\"id\":\"edfc32ca-d5ac-4209-9518-e583da95c176\",\"type\":\"HelpTool\"},{\"attributes\":{},\"id\":\"b865f268-984d-4903-93a5-c79aa70ebb96\",\"type\":\"DatetimeTickFormatter\"},{\"attributes\":{\"fill_alpha\":{\"value\":0.05},\"fill_color\":{\"value\":\"grey\"},\"line_color\":{\"value\":null},\"size\":{\"units\":\"screen\",\"value\":20},\"x\":{\"field\":\"x\"},\"y\":{\"field\":\"y\"}},\"id\":\"c5a36dc8-0641-4a54-9fe0-df6fd375c875\",\"type\":\"Circle\"},{\"attributes\":{\"mantissas\":[1,2,5],\"max_interval\":500.0,\"num_minor_ticks\":0},\"id\":\"1b13b11f-d5a8-45a1-9e9f-f0ea0cef2962\",\"type\":\"AdaptiveTicker\"},{\"attributes\":{\"source\":{\"id\":\"ad7be491-7695-48fb-ad53-410d2def8000\",\"type\":\"ColumnDataSource\"}},\"id\":\"0e570128-349f-4734-b5eb-ea00c53141cf\",\"type\":\"CDSView\"},{\"attributes\":{\"days\":[1,2,3,4,5,6,7,8,9,10,11,12,13,14,15,16,17,18,19,20,21,22,23,24,25,26,27,28,29,30,31]},\"id\":\"a2e2736e-0089-419e-b621-29c84301e73f\",\"type\":\"DaysTicker\"}],\"root_ids\":[\"b902ff34-cccc-46ff-9a93-41b92988a91e\"]},\"title\":\"Bokeh Application\",\"version\":\"0.12.13\"}};\n",
       "  var render_items = [{\"docid\":\"daeb0bf9-9f06-4130-8157-42b97018f82d\",\"elementid\":\"7a46ffb3-1a98-40d1-8864-81d6d6407def\",\"modelid\":\"b902ff34-cccc-46ff-9a93-41b92988a91e\"}];\n",
       "  root.Bokeh.embed.embed_items_notebook(docs_json, render_items);\n",
       "\n",
       "  }\n",
       "  if (root.Bokeh !== undefined) {\n",
       "    embed_document(root);\n",
       "  } else {\n",
       "    var attempts = 0;\n",
       "    var timer = setInterval(function(root) {\n",
       "      if (root.Bokeh !== undefined) {\n",
       "        embed_document(root);\n",
       "        clearInterval(timer);\n",
       "      }\n",
       "      attempts++;\n",
       "      if (attempts > 100) {\n",
       "        console.log(\"Bokeh: ERROR: Unable to run BokehJS code because BokehJS library is missing\")\n",
       "        clearInterval(timer);\n",
       "      }\n",
       "    }, 10, root)\n",
       "  }\n",
       "})(window);"
      ],
      "application/vnd.bokehjs_exec.v0+json": ""
     },
     "metadata": {
      "application/vnd.bokehjs_exec.v0+json": {
       "id": "b902ff34-cccc-46ff-9a93-41b92988a91e"
      }
     },
     "output_type": "display_data"
    }
   ],
   "source": [
    "from bokeh.models.tools import HoverTool\n",
    "from bokeh.sampledata.glucose import data\n",
    "\n",
    "subset = data.loc['2010-10-06']\n",
    "\n",
    "x, y = subset.index.to_series(), subset['glucose']\n",
    "\n",
    "# Basic plot setup\n",
    "p = figure(width=600, height=300, x_axis_type=\"datetime\", title='Hover over points')\n",
    "\n",
    "p.line(x, y, line_dash=\"4 4\", line_width=1, color='gray')\n",
    "\n",
    "cr = p.circle(x, y, size=20,\n",
    "              fill_color=\"grey\", hover_fill_color=\"firebrick\",\n",
    "              fill_alpha=0.05, hover_alpha=0.3,\n",
    "              line_color=None, hover_line_color=\"white\")\n",
    "\n",
    "p.add_tools(HoverTool(tooltips=None, renderers=[cr], mode='hline'))\n",
    "\n",
    "show(p)"
   ]
  },
  {
   "cell_type": "code",
   "execution_count": 18,
   "metadata": {},
   "outputs": [],
   "source": [
    "# EXERCISE: experiment with standard, selected, hover glyph visual properties\n"
   ]
  },
  {
   "cell_type": "markdown",
   "metadata": {},
   "source": [
    "# Axes\n",
    "\n",
    "[Axes](http://bokeh.pydata.org/en/latest/docs/user_guide/styling.html#axes)\n",
    "\n",
    "To style axes, you first must get ahold of `Axis` objects. The simplest way is to use some convenience methods on `Plot`: [axis](http://bokeh.pydata.org/en/latest/docs/reference/plotting.html#bokeh.plotting.Figure.axis), [xaxis](http://bokeh.pydata.org/en/latest/docs/reference/plotting.html#bokeh.plotting.Figure.xaxis), and [yaxis](http://bokeh.pydata.org/en/latest/docs/reference/plotting.html#bokeh.plotting.Figure.yaxis). These methods return lists of axis objects:\n",
    "\n",
    "```\n",
    ">>> p.xaxis\n",
    "[<bokeh.models.axes.LinearAxis at 0x106fa2390>]\n",
    "```\n",
    "However, you can set properties on all the elements of the list as if it was a single object:\n",
    "```\n",
    "p.xaxis.axis_label = \"Temperature\"\n",
    "p.axis.major_label_text_color = \"orange\"\n",
    "```\n",
    "These are referred to as \"splattable\" lists, and tab completion works on them as well. \n"
   ]
  },
  {
   "cell_type": "code",
   "execution_count": 19,
   "metadata": {},
   "outputs": [],
   "source": [
    "# EXERCISE Try out tab completion. Type p.xaxis.<press tab key> to see a list of attributes that can be set.\n",
    "\n"
   ]
  },
  {
   "cell_type": "markdown",
   "metadata": {},
   "source": [
    "* **axis** \n",
    " - [line properties](http://bokeh.pydata.org/en/latest/docs/user_guide/styling.html#line-properties)\n",
    "* **axis_label** \n",
    " - [text properties](http://bokeh.pydata.org/en/latest/docs/user_guide/styling.html#text-properties)\n",
    " - ``axis_label_standoff``\n",
    "* **major_label** \n",
    " - [text properties](http://bokeh.pydata.org/en/latest/docs/user_guide/styling.html#text-properties)\n",
    " - ``orientation``\n",
    "* **major_tick** \n",
    " - [line_properties](http://bokeh.pydata.org/en/latest/docs/user_guide/styling.html#line-properties)\n",
    " - ``major_tick_in`` \n",
    " - ``major_tick_out``\n",
    "* **minor_tick** \n",
    " - [line properties](http://bokeh.pydata.org/en/latest/docs/user_guide/styling.html#line-properties)\n",
    " - ``minor_tick_in``\n",
    " - ``minor_tick_out``\n",
    "\n",
    "As a simple first example, let's change the orientation of the major tick labels on both axes of a plot:"
   ]
  },
  {
   "cell_type": "code",
   "execution_count": 20,
   "metadata": {},
   "outputs": [
    {
     "data": {
      "text/html": [
       "\n",
       "<div class=\"bk-root\">\n",
       "    <div class=\"bk-plotdiv\" id=\"f8f42669-942f-4d42-b15a-71406fc02c18\"></div>\n",
       "</div>"
      ]
     },
     "metadata": {},
     "output_type": "display_data"
    },
    {
     "data": {
      "application/javascript": [
       "(function(root) {\n",
       "  function embed_document(root) {\n",
       "    \n",
       "  var docs_json = {\"68131380-6add-4199-8c4f-b665b7a510f5\":{\"roots\":{\"references\":[{\"attributes\":{\"fill_color\":{\"value\":\"#1f77b4\"},\"line_color\":{\"value\":\"#1f77b4\"},\"line_width\":{\"value\":2},\"size\":{\"units\":\"screen\",\"value\":10},\"x\":{\"field\":\"x\"},\"y\":{\"field\":\"y\"}},\"id\":\"eb12ff3b-ce54-406b-ab15-a527db957da8\",\"type\":\"X\"},{\"attributes\":{},\"id\":\"10d18914-af06-4c8e-ac1d-3568f52087b6\",\"type\":\"HelpTool\"},{\"attributes\":{\"data_source\":{\"id\":\"42168f00-1b1b-4046-8575-3475ded29357\",\"type\":\"ColumnDataSource\"},\"glyph\":{\"id\":\"eb12ff3b-ce54-406b-ab15-a527db957da8\",\"type\":\"X\"},\"hover_glyph\":null,\"muted_glyph\":null,\"nonselection_glyph\":{\"id\":\"96353c86-b8d9-4704-841c-a2a80e297ad7\",\"type\":\"X\"},\"selection_glyph\":null,\"view\":{\"id\":\"e5ed153b-0af1-4751-8744-0fb74b4633ed\",\"type\":\"CDSView\"}},\"id\":\"553b1bf0-ffda-41a4-b339-d7f1e0620473\",\"type\":\"GlyphRenderer\"},{\"attributes\":{\"source\":{\"id\":\"42168f00-1b1b-4046-8575-3475ded29357\",\"type\":\"ColumnDataSource\"}},\"id\":\"e5ed153b-0af1-4751-8744-0fb74b4633ed\",\"type\":\"CDSView\"},{\"attributes\":{\"callback\":null},\"id\":\"8dae0274-3378-4200-b42b-c3f32c63c8f0\",\"type\":\"DataRange1d\"},{\"attributes\":{},\"id\":\"6e979d2c-e9d5-47e7-a968-0f59edbd4d6b\",\"type\":\"ResetTool\"},{\"attributes\":{\"bottom_units\":\"screen\",\"fill_alpha\":{\"value\":0.5},\"fill_color\":{\"value\":\"lightgrey\"},\"left_units\":\"screen\",\"level\":\"overlay\",\"line_alpha\":{\"value\":1.0},\"line_color\":{\"value\":\"black\"},\"line_dash\":[4,4],\"line_width\":{\"value\":2},\"plot\":null,\"render_mode\":\"css\",\"right_units\":\"screen\",\"top_units\":\"screen\"},\"id\":\"59c3435f-ee6f-4b96-8564-c89d9620666b\",\"type\":\"BoxAnnotation\"},{\"attributes\":{\"formatter\":{\"id\":\"d34d4e8b-37e0-48d9-93c7-9412a32ef998\",\"type\":\"BasicTickFormatter\"},\"major_label_orientation\":0.7853981633974483,\"plot\":{\"id\":\"3ddef9ad-a08e-4a3d-8dd0-8db1955fbe94\",\"subtype\":\"Figure\",\"type\":\"Plot\"},\"ticker\":{\"id\":\"40f2d074-f8b1-4765-b286-ec650102c136\",\"type\":\"BasicTicker\"}},\"id\":\"1ecf7ec1-87ab-4a27-8e79-9a16481703a4\",\"type\":\"LinearAxis\"},{\"attributes\":{},\"id\":\"1c584e40-f2ed-4091-bb1d-f7d5f336b942\",\"type\":\"LinearScale\"},{\"attributes\":{\"plot\":null,\"text\":\"\"},\"id\":\"96bfb2c4-37bd-470d-afa1-e35e4e49d958\",\"type\":\"Title\"},{\"attributes\":{},\"id\":\"40f2d074-f8b1-4765-b286-ec650102c136\",\"type\":\"BasicTicker\"},{\"attributes\":{\"fill_alpha\":{\"value\":0.1},\"fill_color\":{\"value\":\"#1f77b4\"},\"line_alpha\":{\"value\":0.1},\"line_color\":{\"value\":\"#1f77b4\"},\"line_width\":{\"value\":2},\"size\":{\"units\":\"screen\",\"value\":10},\"x\":{\"field\":\"x\"},\"y\":{\"field\":\"y\"}},\"id\":\"96353c86-b8d9-4704-841c-a2a80e297ad7\",\"type\":\"X\"},{\"attributes\":{\"formatter\":{\"id\":\"2b78886f-da4d-41d1-9bc6-3c455d595960\",\"type\":\"BasicTickFormatter\"},\"major_label_orientation\":\"vertical\",\"plot\":{\"id\":\"3ddef9ad-a08e-4a3d-8dd0-8db1955fbe94\",\"subtype\":\"Figure\",\"type\":\"Plot\"},\"ticker\":{\"id\":\"09e2f98f-22c1-4344-a518-e8d08967c831\",\"type\":\"BasicTicker\"}},\"id\":\"cad6d643-ce58-4175-a1e7-77df35f70024\",\"type\":\"LinearAxis\"},{\"attributes\":{\"overlay\":{\"id\":\"59c3435f-ee6f-4b96-8564-c89d9620666b\",\"type\":\"BoxAnnotation\"}},\"id\":\"ea84b7d4-30af-49e6-b6e9-21318ca588fc\",\"type\":\"BoxZoomTool\"},{\"attributes\":{},\"id\":\"d34d4e8b-37e0-48d9-93c7-9412a32ef998\",\"type\":\"BasicTickFormatter\"},{\"attributes\":{},\"id\":\"2203b01d-d7f4-4e46-8b5c-19b866248d4e\",\"type\":\"LinearScale\"},{\"attributes\":{},\"id\":\"bc1b1920-0787-41c8-a677-cd876e764d8f\",\"type\":\"SaveTool\"},{\"attributes\":{},\"id\":\"09e2f98f-22c1-4344-a518-e8d08967c831\",\"type\":\"BasicTicker\"},{\"attributes\":{\"dimension\":1,\"plot\":{\"id\":\"3ddef9ad-a08e-4a3d-8dd0-8db1955fbe94\",\"subtype\":\"Figure\",\"type\":\"Plot\"},\"ticker\":{\"id\":\"09e2f98f-22c1-4344-a518-e8d08967c831\",\"type\":\"BasicTicker\"}},\"id\":\"25d1fb58-e071-4af1-819f-59fe061889bb\",\"type\":\"Grid\"},{\"attributes\":{\"plot\":{\"id\":\"3ddef9ad-a08e-4a3d-8dd0-8db1955fbe94\",\"subtype\":\"Figure\",\"type\":\"Plot\"},\"ticker\":{\"id\":\"40f2d074-f8b1-4765-b286-ec650102c136\",\"type\":\"BasicTicker\"}},\"id\":\"275f87ab-605b-4300-90b4-49b783b1e78e\",\"type\":\"Grid\"},{\"attributes\":{\"active_drag\":\"auto\",\"active_inspect\":\"auto\",\"active_scroll\":\"auto\",\"active_tap\":\"auto\",\"tools\":[{\"id\":\"8e1b1b50-5e56-409c-ac0c-0284794c0fd7\",\"type\":\"PanTool\"},{\"id\":\"38c9908b-f12f-434c-84c5-790d73a7a53d\",\"type\":\"WheelZoomTool\"},{\"id\":\"ea84b7d4-30af-49e6-b6e9-21318ca588fc\",\"type\":\"BoxZoomTool\"},{\"id\":\"bc1b1920-0787-41c8-a677-cd876e764d8f\",\"type\":\"SaveTool\"},{\"id\":\"6e979d2c-e9d5-47e7-a968-0f59edbd4d6b\",\"type\":\"ResetTool\"},{\"id\":\"10d18914-af06-4c8e-ac1d-3568f52087b6\",\"type\":\"HelpTool\"}]},\"id\":\"49d3bf23-f0fe-47be-a47e-6c422e953545\",\"type\":\"Toolbar\"},{\"attributes\":{},\"id\":\"2b78886f-da4d-41d1-9bc6-3c455d595960\",\"type\":\"BasicTickFormatter\"},{\"attributes\":{\"callback\":null,\"column_names\":[\"x\",\"y\"],\"data\":{\"x\":[1,2,3,4,5],\"y\":[2,5,8,2,7]}},\"id\":\"42168f00-1b1b-4046-8575-3475ded29357\",\"type\":\"ColumnDataSource\"},{\"attributes\":{\"callback\":null},\"id\":\"05ff6c12-87a4-4d0b-b440-28d0e2ad4fd5\",\"type\":\"DataRange1d\"},{\"attributes\":{},\"id\":\"38c9908b-f12f-434c-84c5-790d73a7a53d\",\"type\":\"WheelZoomTool\"},{\"attributes\":{},\"id\":\"8e1b1b50-5e56-409c-ac0c-0284794c0fd7\",\"type\":\"PanTool\"},{\"attributes\":{\"below\":[{\"id\":\"1ecf7ec1-87ab-4a27-8e79-9a16481703a4\",\"type\":\"LinearAxis\"}],\"left\":[{\"id\":\"cad6d643-ce58-4175-a1e7-77df35f70024\",\"type\":\"LinearAxis\"}],\"plot_height\":400,\"plot_width\":400,\"renderers\":[{\"id\":\"1ecf7ec1-87ab-4a27-8e79-9a16481703a4\",\"type\":\"LinearAxis\"},{\"id\":\"275f87ab-605b-4300-90b4-49b783b1e78e\",\"type\":\"Grid\"},{\"id\":\"cad6d643-ce58-4175-a1e7-77df35f70024\",\"type\":\"LinearAxis\"},{\"id\":\"25d1fb58-e071-4af1-819f-59fe061889bb\",\"type\":\"Grid\"},{\"id\":\"59c3435f-ee6f-4b96-8564-c89d9620666b\",\"type\":\"BoxAnnotation\"},{\"id\":\"553b1bf0-ffda-41a4-b339-d7f1e0620473\",\"type\":\"GlyphRenderer\"}],\"title\":{\"id\":\"96bfb2c4-37bd-470d-afa1-e35e4e49d958\",\"type\":\"Title\"},\"toolbar\":{\"id\":\"49d3bf23-f0fe-47be-a47e-6c422e953545\",\"type\":\"Toolbar\"},\"x_range\":{\"id\":\"8dae0274-3378-4200-b42b-c3f32c63c8f0\",\"type\":\"DataRange1d\"},\"x_scale\":{\"id\":\"1c584e40-f2ed-4091-bb1d-f7d5f336b942\",\"type\":\"LinearScale\"},\"y_range\":{\"id\":\"05ff6c12-87a4-4d0b-b440-28d0e2ad4fd5\",\"type\":\"DataRange1d\"},\"y_scale\":{\"id\":\"2203b01d-d7f4-4e46-8b5c-19b866248d4e\",\"type\":\"LinearScale\"}},\"id\":\"3ddef9ad-a08e-4a3d-8dd0-8db1955fbe94\",\"subtype\":\"Figure\",\"type\":\"Plot\"}],\"root_ids\":[\"3ddef9ad-a08e-4a3d-8dd0-8db1955fbe94\"]},\"title\":\"Bokeh Application\",\"version\":\"0.12.13\"}};\n",
       "  var render_items = [{\"docid\":\"68131380-6add-4199-8c4f-b665b7a510f5\",\"elementid\":\"f8f42669-942f-4d42-b15a-71406fc02c18\",\"modelid\":\"3ddef9ad-a08e-4a3d-8dd0-8db1955fbe94\"}];\n",
       "  root.Bokeh.embed.embed_items_notebook(docs_json, render_items);\n",
       "\n",
       "  }\n",
       "  if (root.Bokeh !== undefined) {\n",
       "    embed_document(root);\n",
       "  } else {\n",
       "    var attempts = 0;\n",
       "    var timer = setInterval(function(root) {\n",
       "      if (root.Bokeh !== undefined) {\n",
       "        embed_document(root);\n",
       "        clearInterval(timer);\n",
       "      }\n",
       "      attempts++;\n",
       "      if (attempts > 100) {\n",
       "        console.log(\"Bokeh: ERROR: Unable to run BokehJS code because BokehJS library is missing\")\n",
       "        clearInterval(timer);\n",
       "      }\n",
       "    }, 10, root)\n",
       "  }\n",
       "})(window);"
      ],
      "application/vnd.bokehjs_exec.v0+json": ""
     },
     "metadata": {
      "application/vnd.bokehjs_exec.v0+json": {
       "id": "3ddef9ad-a08e-4a3d-8dd0-8db1955fbe94"
      }
     },
     "output_type": "display_data"
    }
   ],
   "source": [
    "from math import pi\n",
    "\n",
    "p = figure(plot_width=400, plot_height=400)\n",
    "p.x([1,2,3,4,5], [2,5,8,2,7], size=10, line_width=2)\n",
    "\n",
    "p.xaxis.major_label_orientation = pi/4\n",
    "p.yaxis.major_label_orientation = \"vertical\"\n",
    "\n",
    "show(p)"
   ]
  },
  {
   "cell_type": "markdown",
   "metadata": {},
   "source": [
    "The next example shows customizations on several of the different Axis properties at once:"
   ]
  },
  {
   "cell_type": "code",
   "execution_count": 21,
   "metadata": {},
   "outputs": [
    {
     "data": {
      "text/html": [
       "\n",
       "<div class=\"bk-root\">\n",
       "    <div class=\"bk-plotdiv\" id=\"c25d682e-6e98-45a8-b787-74795eb9368f\"></div>\n",
       "</div>"
      ]
     },
     "metadata": {},
     "output_type": "display_data"
    },
    {
     "data": {
      "application/javascript": [
       "(function(root) {\n",
       "  function embed_document(root) {\n",
       "    \n",
       "  var docs_json = {\"c81c9e20-01d2-4ec7-a384-f74cd9867918\":{\"roots\":{\"references\":[{\"attributes\":{},\"id\":\"3313ad99-0161-4153-9be4-79aab6e7c2e2\",\"type\":\"PanTool\"},{\"attributes\":{\"axis_label\":\"Temp\",\"axis_line_color\":{\"value\":\"red\"},\"axis_line_width\":{\"value\":3},\"formatter\":{\"id\":\"fc059508-6b96-4abf-8642-6461e9c2ef82\",\"type\":\"BasicTickFormatter\"},\"minor_tick_in\":-3,\"minor_tick_out\":6,\"plot\":{\"id\":\"abf64d2f-8f75-4c83-8310-44d8da5ef6e0\",\"subtype\":\"Figure\",\"type\":\"Plot\"},\"ticker\":{\"id\":\"e4c3fddf-9a0e-4973-b5c0-f49fa133b396\",\"type\":\"BasicTicker\"}},\"id\":\"9614932c-1416-4fe1-af1e-9d285f55f8fd\",\"type\":\"LinearAxis\"},{\"attributes\":{},\"id\":\"650ba6ae-ff25-403f-be2a-aec4c55fe9ea\",\"type\":\"BasicTicker\"},{\"attributes\":{},\"id\":\"34ba744c-aa65-46f4-ba51-d8f82c0f62f8\",\"type\":\"ResetTool\"},{\"attributes\":{},\"id\":\"e4c3fddf-9a0e-4973-b5c0-f49fa133b396\",\"type\":\"BasicTicker\"},{\"attributes\":{\"axis_label\":\"Pressure\",\"formatter\":{\"id\":\"55d63b13-c656-40f0-a412-986f828bfd64\",\"type\":\"BasicTickFormatter\"},\"major_label_orientation\":\"vertical\",\"major_label_text_color\":{\"value\":\"orange\"},\"minor_tick_in\":-3,\"minor_tick_out\":6,\"plot\":{\"id\":\"abf64d2f-8f75-4c83-8310-44d8da5ef6e0\",\"subtype\":\"Figure\",\"type\":\"Plot\"},\"ticker\":{\"id\":\"650ba6ae-ff25-403f-be2a-aec4c55fe9ea\",\"type\":\"BasicTicker\"}},\"id\":\"d669aeaa-bfd2-438b-8e2a-04de583139fe\",\"type\":\"LinearAxis\"},{\"attributes\":{\"callback\":null},\"id\":\"3110b1ab-8039-4e44-96d3-d0fc91268a5e\",\"type\":\"DataRange1d\"},{\"attributes\":{\"data_source\":{\"id\":\"9dda4e54-9ea7-43ae-867b-7fecbe953311\",\"type\":\"ColumnDataSource\"},\"glyph\":{\"id\":\"01c01488-8a02-4ea2-883f-f178a118ecdc\",\"type\":\"Asterisk\"},\"hover_glyph\":null,\"muted_glyph\":null,\"nonselection_glyph\":{\"id\":\"ebecd127-beda-4232-a65d-09c67dcf0414\",\"type\":\"Asterisk\"},\"selection_glyph\":null,\"view\":{\"id\":\"13e509d9-381c-4bd1-94ea-854e29ca850a\",\"type\":\"CDSView\"}},\"id\":\"e21e3da3-84b2-4cc2-9d08-f80914b4cc8d\",\"type\":\"GlyphRenderer\"},{\"attributes\":{\"fill_color\":{\"value\":\"olive\"},\"line_color\":{\"value\":\"olive\"},\"size\":{\"units\":\"screen\",\"value\":12},\"x\":{\"field\":\"x\"},\"y\":{\"field\":\"y\"}},\"id\":\"01c01488-8a02-4ea2-883f-f178a118ecdc\",\"type\":\"Asterisk\"},{\"attributes\":{\"fill_alpha\":{\"value\":0.1},\"fill_color\":{\"value\":\"#1f77b4\"},\"line_alpha\":{\"value\":0.1},\"line_color\":{\"value\":\"#1f77b4\"},\"size\":{\"units\":\"screen\",\"value\":12},\"x\":{\"field\":\"x\"},\"y\":{\"field\":\"y\"}},\"id\":\"ebecd127-beda-4232-a65d-09c67dcf0414\",\"type\":\"Asterisk\"},{\"attributes\":{},\"id\":\"59c84459-b23b-4464-bd75-ca37e324a056\",\"type\":\"SaveTool\"},{\"attributes\":{},\"id\":\"55d63b13-c656-40f0-a412-986f828bfd64\",\"type\":\"BasicTickFormatter\"},{\"attributes\":{\"plot\":null,\"text\":\"\"},\"id\":\"510b09e9-d16c-4cf8-89b9-ccfe2fc3d1de\",\"type\":\"Title\"},{\"attributes\":{\"plot\":{\"id\":\"abf64d2f-8f75-4c83-8310-44d8da5ef6e0\",\"subtype\":\"Figure\",\"type\":\"Plot\"},\"ticker\":{\"id\":\"e4c3fddf-9a0e-4973-b5c0-f49fa133b396\",\"type\":\"BasicTicker\"}},\"id\":\"078c6867-f8b9-4c9d-af10-28f1ba6e4168\",\"type\":\"Grid\"},{\"attributes\":{\"bottom_units\":\"screen\",\"fill_alpha\":{\"value\":0.5},\"fill_color\":{\"value\":\"lightgrey\"},\"left_units\":\"screen\",\"level\":\"overlay\",\"line_alpha\":{\"value\":1.0},\"line_color\":{\"value\":\"black\"},\"line_dash\":[4,4],\"line_width\":{\"value\":2},\"plot\":null,\"render_mode\":\"css\",\"right_units\":\"screen\",\"top_units\":\"screen\"},\"id\":\"6a5b4232-a90a-455c-9aac-62364539dece\",\"type\":\"BoxAnnotation\"},{\"attributes\":{\"active_drag\":\"auto\",\"active_inspect\":\"auto\",\"active_scroll\":\"auto\",\"active_tap\":\"auto\",\"tools\":[{\"id\":\"3313ad99-0161-4153-9be4-79aab6e7c2e2\",\"type\":\"PanTool\"},{\"id\":\"59a00021-e5c2-4cbb-8007-26786f04cacd\",\"type\":\"WheelZoomTool\"},{\"id\":\"caf97665-d72a-47b0-8d56-1084dd410bdc\",\"type\":\"BoxZoomTool\"},{\"id\":\"59c84459-b23b-4464-bd75-ca37e324a056\",\"type\":\"SaveTool\"},{\"id\":\"34ba744c-aa65-46f4-ba51-d8f82c0f62f8\",\"type\":\"ResetTool\"},{\"id\":\"538e932b-02c9-4f40-876c-817c9599fb6e\",\"type\":\"HelpTool\"}]},\"id\":\"5a52a9e2-f973-4497-a139-e041be04ca78\",\"type\":\"Toolbar\"},{\"attributes\":{},\"id\":\"555debd9-02f8-4903-9d21-93aaa8e2940d\",\"type\":\"LinearScale\"},{\"attributes\":{\"overlay\":{\"id\":\"6a5b4232-a90a-455c-9aac-62364539dece\",\"type\":\"BoxAnnotation\"}},\"id\":\"caf97665-d72a-47b0-8d56-1084dd410bdc\",\"type\":\"BoxZoomTool\"},{\"attributes\":{\"dimension\":1,\"plot\":{\"id\":\"abf64d2f-8f75-4c83-8310-44d8da5ef6e0\",\"subtype\":\"Figure\",\"type\":\"Plot\"},\"ticker\":{\"id\":\"650ba6ae-ff25-403f-be2a-aec4c55fe9ea\",\"type\":\"BasicTicker\"}},\"id\":\"973d9abc-ed32-4e59-99e1-d671ccf6b3c5\",\"type\":\"Grid\"},{\"attributes\":{},\"id\":\"fc059508-6b96-4abf-8642-6461e9c2ef82\",\"type\":\"BasicTickFormatter\"},{\"attributes\":{\"callback\":null,\"column_names\":[\"x\",\"y\"],\"data\":{\"x\":[1,2,3,4,5],\"y\":[2,5,8,2,7]}},\"id\":\"9dda4e54-9ea7-43ae-867b-7fecbe953311\",\"type\":\"ColumnDataSource\"},{\"attributes\":{},\"id\":\"59a00021-e5c2-4cbb-8007-26786f04cacd\",\"type\":\"WheelZoomTool\"},{\"attributes\":{},\"id\":\"a5eb949e-ebd3-4ba6-a953-733ebd7b95df\",\"type\":\"LinearScale\"},{\"attributes\":{\"below\":[{\"id\":\"9614932c-1416-4fe1-af1e-9d285f55f8fd\",\"type\":\"LinearAxis\"}],\"left\":[{\"id\":\"d669aeaa-bfd2-438b-8e2a-04de583139fe\",\"type\":\"LinearAxis\"}],\"plot_height\":400,\"plot_width\":400,\"renderers\":[{\"id\":\"9614932c-1416-4fe1-af1e-9d285f55f8fd\",\"type\":\"LinearAxis\"},{\"id\":\"078c6867-f8b9-4c9d-af10-28f1ba6e4168\",\"type\":\"Grid\"},{\"id\":\"d669aeaa-bfd2-438b-8e2a-04de583139fe\",\"type\":\"LinearAxis\"},{\"id\":\"973d9abc-ed32-4e59-99e1-d671ccf6b3c5\",\"type\":\"Grid\"},{\"id\":\"6a5b4232-a90a-455c-9aac-62364539dece\",\"type\":\"BoxAnnotation\"},{\"id\":\"e21e3da3-84b2-4cc2-9d08-f80914b4cc8d\",\"type\":\"GlyphRenderer\"}],\"title\":{\"id\":\"510b09e9-d16c-4cf8-89b9-ccfe2fc3d1de\",\"type\":\"Title\"},\"toolbar\":{\"id\":\"5a52a9e2-f973-4497-a139-e041be04ca78\",\"type\":\"Toolbar\"},\"x_range\":{\"id\":\"3110b1ab-8039-4e44-96d3-d0fc91268a5e\",\"type\":\"DataRange1d\"},\"x_scale\":{\"id\":\"555debd9-02f8-4903-9d21-93aaa8e2940d\",\"type\":\"LinearScale\"},\"y_range\":{\"id\":\"1ac14518-9457-424f-b1d8-ff715d716525\",\"type\":\"DataRange1d\"},\"y_scale\":{\"id\":\"a5eb949e-ebd3-4ba6-a953-733ebd7b95df\",\"type\":\"LinearScale\"}},\"id\":\"abf64d2f-8f75-4c83-8310-44d8da5ef6e0\",\"subtype\":\"Figure\",\"type\":\"Plot\"},{\"attributes\":{\"source\":{\"id\":\"9dda4e54-9ea7-43ae-867b-7fecbe953311\",\"type\":\"ColumnDataSource\"}},\"id\":\"13e509d9-381c-4bd1-94ea-854e29ca850a\",\"type\":\"CDSView\"},{\"attributes\":{\"callback\":null},\"id\":\"1ac14518-9457-424f-b1d8-ff715d716525\",\"type\":\"DataRange1d\"},{\"attributes\":{},\"id\":\"538e932b-02c9-4f40-876c-817c9599fb6e\",\"type\":\"HelpTool\"}],\"root_ids\":[\"abf64d2f-8f75-4c83-8310-44d8da5ef6e0\"]},\"title\":\"Bokeh Application\",\"version\":\"0.12.13\"}};\n",
       "  var render_items = [{\"docid\":\"c81c9e20-01d2-4ec7-a384-f74cd9867918\",\"elementid\":\"c25d682e-6e98-45a8-b787-74795eb9368f\",\"modelid\":\"abf64d2f-8f75-4c83-8310-44d8da5ef6e0\"}];\n",
       "  root.Bokeh.embed.embed_items_notebook(docs_json, render_items);\n",
       "\n",
       "  }\n",
       "  if (root.Bokeh !== undefined) {\n",
       "    embed_document(root);\n",
       "  } else {\n",
       "    var attempts = 0;\n",
       "    var timer = setInterval(function(root) {\n",
       "      if (root.Bokeh !== undefined) {\n",
       "        embed_document(root);\n",
       "        clearInterval(timer);\n",
       "      }\n",
       "      attempts++;\n",
       "      if (attempts > 100) {\n",
       "        console.log(\"Bokeh: ERROR: Unable to run BokehJS code because BokehJS library is missing\")\n",
       "        clearInterval(timer);\n",
       "      }\n",
       "    }, 10, root)\n",
       "  }\n",
       "})(window);"
      ],
      "application/vnd.bokehjs_exec.v0+json": ""
     },
     "metadata": {
      "application/vnd.bokehjs_exec.v0+json": {
       "id": "abf64d2f-8f75-4c83-8310-44d8da5ef6e0"
      }
     },
     "output_type": "display_data"
    }
   ],
   "source": [
    "p = figure(plot_width=400, plot_height=400)\n",
    "p.asterisk([1,2,3,4,5], [2,5,8,2,7], size=12, color=\"olive\")\n",
    "\n",
    "# change just some things about the x-axes\n",
    "p.xaxis.axis_label = \"Temp\"\n",
    "p.xaxis.axis_line_width = 3\n",
    "p.xaxis.axis_line_color = \"red\"\n",
    "\n",
    "# change just some things about the y-axes\n",
    "p.yaxis.axis_label = \"Pressure\"\n",
    "p.yaxis.major_label_text_color = \"orange\"\n",
    "p.yaxis.major_label_orientation = \"vertical\"\n",
    "\n",
    "# change things on all axes\n",
    "p.axis.minor_tick_in = -3\n",
    "p.axis.minor_tick_out = 6\n",
    "\n",
    "show(p)"
   ]
  },
  {
   "cell_type": "code",
   "execution_count": 22,
   "metadata": {},
   "outputs": [],
   "source": [
    "# EXERCISE Create a plot of your own and customize several axis properties\n"
   ]
  },
  {
   "cell_type": "markdown",
   "metadata": {},
   "source": [
    "There are further customizations possible. See the [User Guide](http://bokeh.pydata.org/en/latest/docs/user_guide.html) for more information on topics such as [tick label formatting](http://bokeh.pydata.org/en/latest/docs/user_guide/styling.html#tick-label-formats) or [limiting axis bounds](http://bokeh.pydata.org/en/latest/docs/user_guide/styling.html#bounds)."
   ]
  },
  {
   "cell_type": "markdown",
   "metadata": {},
   "source": [
    "# Grids\n",
    "\n",
    "[Grids](http://bokeh.pydata.org/en/latest/docs/user_guide/styling.html#grids)\n",
    "\n",
    "* **grid** [line properties](http://bokeh.pydata.org/en/latest/docs/user_guide/styling.html#line-properties)\n",
    "* **band** [fill properties]()"
   ]
  },
  {
   "cell_type": "code",
   "execution_count": 23,
   "metadata": {},
   "outputs": [
    {
     "data": {
      "text/html": [
       "\n",
       "<div class=\"bk-root\">\n",
       "    <div class=\"bk-plotdiv\" id=\"4f137a3d-e044-4272-8e1c-4107ef3075f8\"></div>\n",
       "</div>"
      ]
     },
     "metadata": {},
     "output_type": "display_data"
    },
    {
     "data": {
      "application/javascript": [
       "(function(root) {\n",
       "  function embed_document(root) {\n",
       "    \n",
       "  var docs_json = {\"487293f2-1e22-47af-aa21-732619640ffb\":{\"roots\":{\"references\":[{\"attributes\":{},\"id\":\"5396b945-8387-4c6e-99f8-a4a053acc77f\",\"type\":\"SaveTool\"},{\"attributes\":{\"fill_alpha\":{\"value\":0.1},\"fill_color\":{\"value\":\"#1f77b4\"},\"line_alpha\":{\"value\":0.1},\"line_color\":{\"value\":\"#1f77b4\"},\"size\":{\"units\":\"screen\",\"value\":10},\"x\":{\"field\":\"x\"},\"y\":{\"field\":\"y\"}},\"id\":\"680d8ccc-0585-409a-93d7-abeaba02542c\",\"type\":\"Circle\"},{\"attributes\":{\"dimension\":1,\"grid_line_alpha\":{\"value\":0.5},\"grid_line_dash\":[6,4],\"plot\":{\"id\":\"040241f1-e0e6-4871-97c7-270a7412453e\",\"subtype\":\"Figure\",\"type\":\"Plot\"},\"ticker\":{\"id\":\"a07b8ce3-55cb-465e-8ae7-6b64d80ed18a\",\"type\":\"BasicTicker\"}},\"id\":\"413d647b-fa4f-4ce1-9db0-cce9fa29fae5\",\"type\":\"Grid\"},{\"attributes\":{\"callback\":null,\"column_names\":[\"x\",\"y\"],\"data\":{\"x\":[1,2,3,4,5],\"y\":[2,5,8,2,7]}},\"id\":\"b0285596-9ebb-4d59-974f-a85fa5b5e1c3\",\"type\":\"ColumnDataSource\"},{\"attributes\":{\"formatter\":{\"id\":\"bfcfade3-eb53-44c9-91c7-90f8380c92a7\",\"type\":\"BasicTickFormatter\"},\"plot\":{\"id\":\"040241f1-e0e6-4871-97c7-270a7412453e\",\"subtype\":\"Figure\",\"type\":\"Plot\"},\"ticker\":{\"id\":\"f37eecf5-d7e0-4132-a1d6-7775bbf66392\",\"type\":\"BasicTicker\"}},\"id\":\"7ee3935e-55f4-4331-befa-24e75b03956f\",\"type\":\"LinearAxis\"},{\"attributes\":{\"below\":[{\"id\":\"7ee3935e-55f4-4331-befa-24e75b03956f\",\"type\":\"LinearAxis\"}],\"left\":[{\"id\":\"47835957-0bb3-4006-b9ce-acc5800aedcf\",\"type\":\"LinearAxis\"}],\"plot_height\":400,\"plot_width\":400,\"renderers\":[{\"id\":\"7ee3935e-55f4-4331-befa-24e75b03956f\",\"type\":\"LinearAxis\"},{\"id\":\"7c0878b5-60ef-4350-a1df-cfc3db025ba9\",\"type\":\"Grid\"},{\"id\":\"47835957-0bb3-4006-b9ce-acc5800aedcf\",\"type\":\"LinearAxis\"},{\"id\":\"413d647b-fa4f-4ce1-9db0-cce9fa29fae5\",\"type\":\"Grid\"},{\"id\":\"ef018e03-573f-4942-ad79-43410365e7ef\",\"type\":\"BoxAnnotation\"},{\"id\":\"43ae0b6e-6409-4ef3-9776-33eb749cfbb6\",\"type\":\"GlyphRenderer\"}],\"title\":{\"id\":\"7fbbadf6-d11c-48d0-8768-a317c4160f5e\",\"type\":\"Title\"},\"toolbar\":{\"id\":\"86ca588d-3872-453b-b6f1-89cb584ad399\",\"type\":\"Toolbar\"},\"x_range\":{\"id\":\"0555a12a-0fde-4494-9be6-25543758e147\",\"type\":\"DataRange1d\"},\"x_scale\":{\"id\":\"8e3e174c-6454-448c-9c96-86d7506a533d\",\"type\":\"LinearScale\"},\"y_range\":{\"id\":\"ccecb284-4274-407d-af36-12609efabfa5\",\"type\":\"DataRange1d\"},\"y_scale\":{\"id\":\"a62abc80-d085-433a-afad-78dc6c3e2b3e\",\"type\":\"LinearScale\"}},\"id\":\"040241f1-e0e6-4871-97c7-270a7412453e\",\"subtype\":\"Figure\",\"type\":\"Plot\"},{\"attributes\":{\"plot\":null,\"text\":\"\"},\"id\":\"7fbbadf6-d11c-48d0-8768-a317c4160f5e\",\"type\":\"Title\"},{\"attributes\":{},\"id\":\"8e3e174c-6454-448c-9c96-86d7506a533d\",\"type\":\"LinearScale\"},{\"attributes\":{\"bottom_units\":\"screen\",\"fill_alpha\":{\"value\":0.5},\"fill_color\":{\"value\":\"lightgrey\"},\"left_units\":\"screen\",\"level\":\"overlay\",\"line_alpha\":{\"value\":1.0},\"line_color\":{\"value\":\"black\"},\"line_dash\":[4,4],\"line_width\":{\"value\":2},\"plot\":null,\"render_mode\":\"css\",\"right_units\":\"screen\",\"top_units\":\"screen\"},\"id\":\"ef018e03-573f-4942-ad79-43410365e7ef\",\"type\":\"BoxAnnotation\"},{\"attributes\":{},\"id\":\"df91e78f-d30d-4b59-b9a9-830b96342b7f\",\"type\":\"PanTool\"},{\"attributes\":{},\"id\":\"03e0856c-2cba-460d-8922-87be7bd6d8db\",\"type\":\"WheelZoomTool\"},{\"attributes\":{\"overlay\":{\"id\":\"ef018e03-573f-4942-ad79-43410365e7ef\",\"type\":\"BoxAnnotation\"}},\"id\":\"dd539314-731b-43ca-a78e-f3c44e456a11\",\"type\":\"BoxZoomTool\"},{\"attributes\":{\"data_source\":{\"id\":\"b0285596-9ebb-4d59-974f-a85fa5b5e1c3\",\"type\":\"ColumnDataSource\"},\"glyph\":{\"id\":\"56cca111-379e-4072-8628-3ad6fc38d102\",\"type\":\"Circle\"},\"hover_glyph\":null,\"muted_glyph\":null,\"nonselection_glyph\":{\"id\":\"680d8ccc-0585-409a-93d7-abeaba02542c\",\"type\":\"Circle\"},\"selection_glyph\":null,\"view\":{\"id\":\"fcc5c303-03d2-40fd-bd06-68ddde296505\",\"type\":\"CDSView\"}},\"id\":\"43ae0b6e-6409-4ef3-9776-33eb749cfbb6\",\"type\":\"GlyphRenderer\"},{\"attributes\":{},\"id\":\"438a45c4-fd30-4b76-8c5e-45a0324a66ee\",\"type\":\"HelpTool\"},{\"attributes\":{\"active_drag\":\"auto\",\"active_inspect\":\"auto\",\"active_scroll\":\"auto\",\"active_tap\":\"auto\",\"tools\":[{\"id\":\"df91e78f-d30d-4b59-b9a9-830b96342b7f\",\"type\":\"PanTool\"},{\"id\":\"03e0856c-2cba-460d-8922-87be7bd6d8db\",\"type\":\"WheelZoomTool\"},{\"id\":\"dd539314-731b-43ca-a78e-f3c44e456a11\",\"type\":\"BoxZoomTool\"},{\"id\":\"5396b945-8387-4c6e-99f8-a4a053acc77f\",\"type\":\"SaveTool\"},{\"id\":\"c0856a75-73e7-4e8b-acdb-8d12695a1363\",\"type\":\"ResetTool\"},{\"id\":\"438a45c4-fd30-4b76-8c5e-45a0324a66ee\",\"type\":\"HelpTool\"}]},\"id\":\"86ca588d-3872-453b-b6f1-89cb584ad399\",\"type\":\"Toolbar\"},{\"attributes\":{\"formatter\":{\"id\":\"d000d8cd-3836-47fd-9434-d33cb36c3b30\",\"type\":\"BasicTickFormatter\"},\"plot\":{\"id\":\"040241f1-e0e6-4871-97c7-270a7412453e\",\"subtype\":\"Figure\",\"type\":\"Plot\"},\"ticker\":{\"id\":\"a07b8ce3-55cb-465e-8ae7-6b64d80ed18a\",\"type\":\"BasicTicker\"}},\"id\":\"47835957-0bb3-4006-b9ce-acc5800aedcf\",\"type\":\"LinearAxis\"},{\"attributes\":{},\"id\":\"bfcfade3-eb53-44c9-91c7-90f8380c92a7\",\"type\":\"BasicTickFormatter\"},{\"attributes\":{\"grid_line_color\":{\"value\":null},\"plot\":{\"id\":\"040241f1-e0e6-4871-97c7-270a7412453e\",\"subtype\":\"Figure\",\"type\":\"Plot\"},\"ticker\":{\"id\":\"f37eecf5-d7e0-4132-a1d6-7775bbf66392\",\"type\":\"BasicTicker\"}},\"id\":\"7c0878b5-60ef-4350-a1df-cfc3db025ba9\",\"type\":\"Grid\"},{\"attributes\":{},\"id\":\"c0856a75-73e7-4e8b-acdb-8d12695a1363\",\"type\":\"ResetTool\"},{\"attributes\":{},\"id\":\"a07b8ce3-55cb-465e-8ae7-6b64d80ed18a\",\"type\":\"BasicTicker\"},{\"attributes\":{},\"id\":\"f37eecf5-d7e0-4132-a1d6-7775bbf66392\",\"type\":\"BasicTicker\"},{\"attributes\":{},\"id\":\"a62abc80-d085-433a-afad-78dc6c3e2b3e\",\"type\":\"LinearScale\"},{\"attributes\":{\"callback\":null},\"id\":\"0555a12a-0fde-4494-9be6-25543758e147\",\"type\":\"DataRange1d\"},{\"attributes\":{\"callback\":null},\"id\":\"ccecb284-4274-407d-af36-12609efabfa5\",\"type\":\"DataRange1d\"},{\"attributes\":{\"source\":{\"id\":\"b0285596-9ebb-4d59-974f-a85fa5b5e1c3\",\"type\":\"ColumnDataSource\"}},\"id\":\"fcc5c303-03d2-40fd-bd06-68ddde296505\",\"type\":\"CDSView\"},{\"attributes\":{\"fill_color\":{\"value\":\"#1f77b4\"},\"line_color\":{\"value\":\"#1f77b4\"},\"size\":{\"units\":\"screen\",\"value\":10},\"x\":{\"field\":\"x\"},\"y\":{\"field\":\"y\"}},\"id\":\"56cca111-379e-4072-8628-3ad6fc38d102\",\"type\":\"Circle\"},{\"attributes\":{},\"id\":\"d000d8cd-3836-47fd-9434-d33cb36c3b30\",\"type\":\"BasicTickFormatter\"}],\"root_ids\":[\"040241f1-e0e6-4871-97c7-270a7412453e\"]},\"title\":\"Bokeh Application\",\"version\":\"0.12.13\"}};\n",
       "  var render_items = [{\"docid\":\"487293f2-1e22-47af-aa21-732619640ffb\",\"elementid\":\"4f137a3d-e044-4272-8e1c-4107ef3075f8\",\"modelid\":\"040241f1-e0e6-4871-97c7-270a7412453e\"}];\n",
       "  root.Bokeh.embed.embed_items_notebook(docs_json, render_items);\n",
       "\n",
       "  }\n",
       "  if (root.Bokeh !== undefined) {\n",
       "    embed_document(root);\n",
       "  } else {\n",
       "    var attempts = 0;\n",
       "    var timer = setInterval(function(root) {\n",
       "      if (root.Bokeh !== undefined) {\n",
       "        embed_document(root);\n",
       "        clearInterval(timer);\n",
       "      }\n",
       "      attempts++;\n",
       "      if (attempts > 100) {\n",
       "        console.log(\"Bokeh: ERROR: Unable to run BokehJS code because BokehJS library is missing\")\n",
       "        clearInterval(timer);\n",
       "      }\n",
       "    }, 10, root)\n",
       "  }\n",
       "})(window);"
      ],
      "application/vnd.bokehjs_exec.v0+json": ""
     },
     "metadata": {
      "application/vnd.bokehjs_exec.v0+json": {
       "id": "040241f1-e0e6-4871-97c7-270a7412453e"
      }
     },
     "output_type": "display_data"
    }
   ],
   "source": [
    "p = figure(plot_width=400, plot_height=400)\n",
    "p.circle([1,2,3,4,5], [2,5,8,2,7], size=10)\n",
    "\n",
    "# change just some things about the x-grid\n",
    "p.xgrid.grid_line_color = None\n",
    "\n",
    "# change just some things about the y-grid\n",
    "p.ygrid.grid_line_alpha = 0.5\n",
    "p.ygrid.grid_line_dash = [6, 4]\n",
    "\n",
    "show(p)"
   ]
  },
  {
   "cell_type": "code",
   "execution_count": 24,
   "metadata": {},
   "outputs": [
    {
     "data": {
      "text/html": [
       "\n",
       "<div class=\"bk-root\">\n",
       "    <div class=\"bk-plotdiv\" id=\"e1c23e0d-3e0b-4fcb-9d5a-7bb42ffdf99d\"></div>\n",
       "</div>"
      ]
     },
     "metadata": {},
     "output_type": "display_data"
    },
    {
     "data": {
      "application/javascript": [
       "(function(root) {\n",
       "  function embed_document(root) {\n",
       "    \n",
       "  var docs_json = {\"c62b52f8-1302-4a25-b3be-6258bdd50ce5\":{\"roots\":{\"references\":[{\"attributes\":{\"overlay\":{\"id\":\"39d22980-0f61-4cef-9daa-d845918e0d44\",\"type\":\"BoxAnnotation\"}},\"id\":\"c83636bb-9d20-4699-a20c-44eb85383624\",\"type\":\"BoxZoomTool\"},{\"attributes\":{},\"id\":\"5f940554-f34a-41ce-8171-800e6a84a337\",\"type\":\"LinearScale\"},{\"attributes\":{},\"id\":\"2091e7d5-0128-435b-8e3e-7eaff60613dd\",\"type\":\"BasicTicker\"},{\"attributes\":{\"grid_line_color\":{\"value\":null},\"plot\":{\"id\":\"bd660a25-d948-4f3d-99ff-c908a419c08d\",\"subtype\":\"Figure\",\"type\":\"Plot\"},\"ticker\":{\"id\":\"d5eefce8-d871-43b0-b382-bbafce8f391a\",\"type\":\"BasicTicker\"}},\"id\":\"636183c0-a95b-47f5-9e67-31412388f326\",\"type\":\"Grid\"},{\"attributes\":{},\"id\":\"2df2ebef-f4b0-4651-be54-ea743ef9f5bc\",\"type\":\"SaveTool\"},{\"attributes\":{\"fill_alpha\":{\"value\":0.1},\"fill_color\":{\"value\":\"#1f77b4\"},\"line_alpha\":{\"value\":0.1},\"line_color\":{\"value\":\"#1f77b4\"},\"size\":{\"units\":\"screen\",\"value\":10},\"x\":{\"field\":\"x\"},\"y\":{\"field\":\"y\"}},\"id\":\"089fb584-6668-43b5-b483-4fd13d7f2501\",\"type\":\"Circle\"},{\"attributes\":{\"data_source\":{\"id\":\"5ce63137-3e8b-4e7f-984f-31af3a16b462\",\"type\":\"ColumnDataSource\"},\"glyph\":{\"id\":\"14655f26-9aa7-43fe-bc14-edf68f5857f6\",\"type\":\"Circle\"},\"hover_glyph\":null,\"muted_glyph\":null,\"nonselection_glyph\":{\"id\":\"089fb584-6668-43b5-b483-4fd13d7f2501\",\"type\":\"Circle\"},\"selection_glyph\":null,\"view\":{\"id\":\"ea2465af-d1d5-4387-93c0-92f518ec8cd5\",\"type\":\"CDSView\"}},\"id\":\"dac1f05e-ff5f-4a34-b473-a4c64aa786b9\",\"type\":\"GlyphRenderer\"},{\"attributes\":{},\"id\":\"e8edccb9-d4cb-4c20-88a5-6592cba95fde\",\"type\":\"HelpTool\"},{\"attributes\":{\"callback\":null,\"column_names\":[\"x\",\"y\"],\"data\":{\"x\":[1,2,3,4,5],\"y\":[2,5,8,2,7]}},\"id\":\"5ce63137-3e8b-4e7f-984f-31af3a16b462\",\"type\":\"ColumnDataSource\"},{\"attributes\":{\"formatter\":{\"id\":\"206ee9fb-200e-4ce3-b644-838797aab9b1\",\"type\":\"BasicTickFormatter\"},\"plot\":{\"id\":\"bd660a25-d948-4f3d-99ff-c908a419c08d\",\"subtype\":\"Figure\",\"type\":\"Plot\"},\"ticker\":{\"id\":\"2091e7d5-0128-435b-8e3e-7eaff60613dd\",\"type\":\"BasicTicker\"}},\"id\":\"27190cc1-4f20-4df8-946b-78877613a661\",\"type\":\"LinearAxis\"},{\"attributes\":{\"bottom_units\":\"screen\",\"fill_alpha\":{\"value\":0.5},\"fill_color\":{\"value\":\"lightgrey\"},\"left_units\":\"screen\",\"level\":\"overlay\",\"line_alpha\":{\"value\":1.0},\"line_color\":{\"value\":\"black\"},\"line_dash\":[4,4],\"line_width\":{\"value\":2},\"plot\":null,\"render_mode\":\"css\",\"right_units\":\"screen\",\"top_units\":\"screen\"},\"id\":\"39d22980-0f61-4cef-9daa-d845918e0d44\",\"type\":\"BoxAnnotation\"},{\"attributes\":{\"callback\":null},\"id\":\"5f6ed5e6-eb9b-411d-a381-116d74335f3b\",\"type\":\"DataRange1d\"},{\"attributes\":{},\"id\":\"7fdea170-822b-4b2d-8a4a-cc0694f473ba\",\"type\":\"LinearScale\"},{\"attributes\":{},\"id\":\"206ee9fb-200e-4ce3-b644-838797aab9b1\",\"type\":\"BasicTickFormatter\"},{\"attributes\":{},\"id\":\"ad2ab1d0-1092-4c86-bb40-556d5e03c035\",\"type\":\"ResetTool\"},{\"attributes\":{},\"id\":\"b52d9653-ce6d-47ed-8eba-d43cc2f53b2c\",\"type\":\"WheelZoomTool\"},{\"attributes\":{},\"id\":\"d5eefce8-d871-43b0-b382-bbafce8f391a\",\"type\":\"BasicTicker\"},{\"attributes\":{\"fill_color\":{\"value\":\"#1f77b4\"},\"line_color\":{\"value\":\"#1f77b4\"},\"size\":{\"units\":\"screen\",\"value\":10},\"x\":{\"field\":\"x\"},\"y\":{\"field\":\"y\"}},\"id\":\"14655f26-9aa7-43fe-bc14-edf68f5857f6\",\"type\":\"Circle\"},{\"attributes\":{\"source\":{\"id\":\"5ce63137-3e8b-4e7f-984f-31af3a16b462\",\"type\":\"ColumnDataSource\"}},\"id\":\"ea2465af-d1d5-4387-93c0-92f518ec8cd5\",\"type\":\"CDSView\"},{\"attributes\":{\"callback\":null},\"id\":\"8fc76899-7f6a-4d4f-ad10-47b1ae2cadb5\",\"type\":\"DataRange1d\"},{\"attributes\":{},\"id\":\"69525493-4e22-4272-ae86-faeeb2748db9\",\"type\":\"PanTool\"},{\"attributes\":{\"band_fill_alpha\":{\"value\":0.1},\"band_fill_color\":{\"value\":\"navy\"},\"dimension\":1,\"plot\":{\"id\":\"bd660a25-d948-4f3d-99ff-c908a419c08d\",\"subtype\":\"Figure\",\"type\":\"Plot\"},\"ticker\":{\"id\":\"2091e7d5-0128-435b-8e3e-7eaff60613dd\",\"type\":\"BasicTicker\"}},\"id\":\"9471e773-af73-4dc8-af44-3d78429821c0\",\"type\":\"Grid\"},{\"attributes\":{\"plot\":null,\"text\":\"\"},\"id\":\"ecbd28fa-b1b9-4cc3-b0a2-b0b45264cca4\",\"type\":\"Title\"},{\"attributes\":{\"active_drag\":\"auto\",\"active_inspect\":\"auto\",\"active_scroll\":\"auto\",\"active_tap\":\"auto\",\"tools\":[{\"id\":\"69525493-4e22-4272-ae86-faeeb2748db9\",\"type\":\"PanTool\"},{\"id\":\"b52d9653-ce6d-47ed-8eba-d43cc2f53b2c\",\"type\":\"WheelZoomTool\"},{\"id\":\"c83636bb-9d20-4699-a20c-44eb85383624\",\"type\":\"BoxZoomTool\"},{\"id\":\"2df2ebef-f4b0-4651-be54-ea743ef9f5bc\",\"type\":\"SaveTool\"},{\"id\":\"ad2ab1d0-1092-4c86-bb40-556d5e03c035\",\"type\":\"ResetTool\"},{\"id\":\"e8edccb9-d4cb-4c20-88a5-6592cba95fde\",\"type\":\"HelpTool\"}]},\"id\":\"fa7b33c4-ab6b-4d1f-8b37-f58f5343c81f\",\"type\":\"Toolbar\"},{\"attributes\":{},\"id\":\"79fb640b-42d2-4836-9206-35a0b428f90e\",\"type\":\"BasicTickFormatter\"},{\"attributes\":{\"formatter\":{\"id\":\"79fb640b-42d2-4836-9206-35a0b428f90e\",\"type\":\"BasicTickFormatter\"},\"plot\":{\"id\":\"bd660a25-d948-4f3d-99ff-c908a419c08d\",\"subtype\":\"Figure\",\"type\":\"Plot\"},\"ticker\":{\"id\":\"d5eefce8-d871-43b0-b382-bbafce8f391a\",\"type\":\"BasicTicker\"}},\"id\":\"be0e0216-96bb-4016-ac2d-4be22e7c016d\",\"type\":\"LinearAxis\"},{\"attributes\":{\"below\":[{\"id\":\"be0e0216-96bb-4016-ac2d-4be22e7c016d\",\"type\":\"LinearAxis\"}],\"left\":[{\"id\":\"27190cc1-4f20-4df8-946b-78877613a661\",\"type\":\"LinearAxis\"}],\"plot_height\":400,\"plot_width\":400,\"renderers\":[{\"id\":\"be0e0216-96bb-4016-ac2d-4be22e7c016d\",\"type\":\"LinearAxis\"},{\"id\":\"636183c0-a95b-47f5-9e67-31412388f326\",\"type\":\"Grid\"},{\"id\":\"27190cc1-4f20-4df8-946b-78877613a661\",\"type\":\"LinearAxis\"},{\"id\":\"9471e773-af73-4dc8-af44-3d78429821c0\",\"type\":\"Grid\"},{\"id\":\"39d22980-0f61-4cef-9daa-d845918e0d44\",\"type\":\"BoxAnnotation\"},{\"id\":\"dac1f05e-ff5f-4a34-b473-a4c64aa786b9\",\"type\":\"GlyphRenderer\"}],\"title\":{\"id\":\"ecbd28fa-b1b9-4cc3-b0a2-b0b45264cca4\",\"type\":\"Title\"},\"toolbar\":{\"id\":\"fa7b33c4-ab6b-4d1f-8b37-f58f5343c81f\",\"type\":\"Toolbar\"},\"x_range\":{\"id\":\"5f6ed5e6-eb9b-411d-a381-116d74335f3b\",\"type\":\"DataRange1d\"},\"x_scale\":{\"id\":\"5f940554-f34a-41ce-8171-800e6a84a337\",\"type\":\"LinearScale\"},\"y_range\":{\"id\":\"8fc76899-7f6a-4d4f-ad10-47b1ae2cadb5\",\"type\":\"DataRange1d\"},\"y_scale\":{\"id\":\"7fdea170-822b-4b2d-8a4a-cc0694f473ba\",\"type\":\"LinearScale\"}},\"id\":\"bd660a25-d948-4f3d-99ff-c908a419c08d\",\"subtype\":\"Figure\",\"type\":\"Plot\"}],\"root_ids\":[\"bd660a25-d948-4f3d-99ff-c908a419c08d\"]},\"title\":\"Bokeh Application\",\"version\":\"0.12.13\"}};\n",
       "  var render_items = [{\"docid\":\"c62b52f8-1302-4a25-b3be-6258bdd50ce5\",\"elementid\":\"e1c23e0d-3e0b-4fcb-9d5a-7bb42ffdf99d\",\"modelid\":\"bd660a25-d948-4f3d-99ff-c908a419c08d\"}];\n",
       "  root.Bokeh.embed.embed_items_notebook(docs_json, render_items);\n",
       "\n",
       "  }\n",
       "  if (root.Bokeh !== undefined) {\n",
       "    embed_document(root);\n",
       "  } else {\n",
       "    var attempts = 0;\n",
       "    var timer = setInterval(function(root) {\n",
       "      if (root.Bokeh !== undefined) {\n",
       "        embed_document(root);\n",
       "        clearInterval(timer);\n",
       "      }\n",
       "      attempts++;\n",
       "      if (attempts > 100) {\n",
       "        console.log(\"Bokeh: ERROR: Unable to run BokehJS code because BokehJS library is missing\")\n",
       "        clearInterval(timer);\n",
       "      }\n",
       "    }, 10, root)\n",
       "  }\n",
       "})(window);"
      ],
      "application/vnd.bokehjs_exec.v0+json": ""
     },
     "metadata": {
      "application/vnd.bokehjs_exec.v0+json": {
       "id": "bd660a25-d948-4f3d-99ff-c908a419c08d"
      }
     },
     "output_type": "display_data"
    }
   ],
   "source": [
    "p = figure(plot_width=400, plot_height=400)\n",
    "p.circle([1,2,3,4,5], [2,5,8,2,7], size=10)\n",
    "\n",
    "# change just some things about the x-grid\n",
    "p.xgrid.grid_line_color = None\n",
    "\n",
    "# change just some things about the y-grid\n",
    "p.ygrid.band_fill_alpha = 0.1\n",
    "p.ygrid.band_fill_color = \"navy\"\n",
    "\n",
    "show(p)"
   ]
  },
  {
   "cell_type": "code",
   "execution_count": 25,
   "metadata": {},
   "outputs": [],
   "source": [
    "# EXERCISE Create a plot of your own and customize several grid properties\n"
   ]
  }
 ],
 "metadata": {
  "kernelspec": {
   "display_name": "Python 3",
   "language": "python",
   "name": "python3"
  },
  "language_info": {
   "codemirror_mode": {
    "name": "ipython",
    "version": 3
   },
   "file_extension": ".py",
   "mimetype": "text/x-python",
   "name": "python",
   "nbconvert_exporter": "python",
   "pygments_lexer": "ipython3",
   "version": "3.6.5"
  }
 },
 "nbformat": 4,
 "nbformat_minor": 1
}
